{
 "cells": [
  {
   "cell_type": "markdown",
   "metadata": {},
   "source": [
    "# Classification Model"
   ]
  },
  {
   "cell_type": "markdown",
   "metadata": {},
   "source": [
    "- This notebook is a continuation of the \"SQL_EDA\" notebook\n",
    "    - The cleaned dataset from the \"SQL_Data_Cleaning\" notebook will be used here.\n",
    "- This notebook is outlined by the following tasks:\n",
    "    - Prepare dataset for modeling\n",
    "        - consolidate data by race\n",
    "        - convert features to desired data types\n",
    "        - train-test split\n",
    "    - Building baseline models and compare performance\n",
    "        - Use confusion matrices and ROC curves\n",
    "    - Perform grid search on best-performing models\n",
    "    - Run finalized model on test set and determine ideal classification threshold"
   ]
  },
  {
   "cell_type": "code",
   "execution_count": 1,
   "metadata": {},
   "outputs": [],
   "source": [
    "import numpy as np\n",
    "import pandas as pd\n",
    "import matplotlib.pyplot as plt\n",
    "import seaborn as sns\n",
    "import pickle\n",
    "import time\n",
    "from tqdm.notebook import tqdm\n",
    "\n",
    "from collections import defaultdict\n",
    "from sklearn.model_selection import train_test_split, StratifiedKFold, cross_val_predict\n",
    "from sklearn.preprocessing import StandardScaler\n",
    "\n",
    "from imblearn.over_sampling import SMOTE\n",
    "from imblearn.over_sampling import ADASYN\n",
    "from imblearn.over_sampling import RandomOverSampler\n",
    "from imblearn.under_sampling import RandomUnderSampler\n",
    "\n",
    "from sklearn.linear_model import LogisticRegression, SGDClassifier\n",
    "from sklearn.neighbors import KNeighborsClassifier\n",
    "from sklearn.svm import SVC\n",
    "from sklearn.naive_bayes import MultinomialNB\n",
    "from sklearn.tree import DecisionTreeClassifier\n",
    "from sklearn.ensemble import RandomForestClassifier, AdaBoostClassifier, GradientBoostingClassifier\n",
    "from xgboost import XGBClassifier\n",
    "\n",
    "from sklearn.model_selection import GridSearchCV\n",
    "\n",
    "from sklearn.metrics import confusion_matrix\n",
    "from sklearn.metrics import accuracy_score, log_loss, precision_score, recall_score, precision_recall_curve, f1_score, fbeta_score, classification_report\n",
    "from sklearn.metrics import roc_auc_score, roc_curve\n",
    "from sklearn.metrics import fbeta_score, make_scorer"
   ]
  },
  {
   "cell_type": "markdown",
   "metadata": {},
   "source": [
    "# Load in Cleaned Dataset: `demo_killings_df`"
   ]
  },
  {
   "cell_type": "code",
   "execution_count": 2,
   "metadata": {},
   "outputs": [],
   "source": [
    "with open('Data/sql_demo_killings_df.pkl','rb') as read_file:\n",
    "    demo_killings_df = pickle.load(read_file)"
   ]
  },
  {
   "cell_type": "code",
   "execution_count": 3,
   "metadata": {},
   "outputs": [
    {
     "data": {
      "text/html": [
       "<div>\n",
       "<style scoped>\n",
       "    .dataframe tbody tr th:only-of-type {\n",
       "        vertical-align: middle;\n",
       "    }\n",
       "\n",
       "    .dataframe tbody tr th {\n",
       "        vertical-align: top;\n",
       "    }\n",
       "\n",
       "    .dataframe thead th {\n",
       "        text-align: right;\n",
       "    }\n",
       "</style>\n",
       "<table border=\"1\" class=\"dataframe\">\n",
       "  <thead>\n",
       "    <tr style=\"text-align: right;\">\n",
       "      <th></th>\n",
       "      <th>city</th>\n",
       "      <th>state</th>\n",
       "      <th>city_type</th>\n",
       "      <th>region</th>\n",
       "      <th>year</th>\n",
       "      <th>month</th>\n",
       "      <th>day_of_week</th>\n",
       "      <th>manner_of_death</th>\n",
       "      <th>armed</th>\n",
       "      <th>age</th>\n",
       "      <th>...</th>\n",
       "      <th>flee</th>\n",
       "      <th>body_camera</th>\n",
       "      <th>poverty_rate</th>\n",
       "      <th>percent_completed_hs</th>\n",
       "      <th>share_white</th>\n",
       "      <th>share_black</th>\n",
       "      <th>share_native_american</th>\n",
       "      <th>share_asian</th>\n",
       "      <th>share_hispanic</th>\n",
       "      <th>median_income</th>\n",
       "    </tr>\n",
       "  </thead>\n",
       "  <tbody>\n",
       "    <tr>\n",
       "      <th>0</th>\n",
       "      <td>Oshkosh</td>\n",
       "      <td>WI</td>\n",
       "      <td>City</td>\n",
       "      <td>Midwest</td>\n",
       "      <td>2017</td>\n",
       "      <td>July</td>\n",
       "      <td>Monday</td>\n",
       "      <td>shot</td>\n",
       "      <td>vehicle</td>\n",
       "      <td>28.0</td>\n",
       "      <td>...</td>\n",
       "      <td>Car</td>\n",
       "      <td>True</td>\n",
       "      <td>17.9</td>\n",
       "      <td>89.3</td>\n",
       "      <td>90.5</td>\n",
       "      <td>3.1</td>\n",
       "      <td>0.8</td>\n",
       "      <td>3.2</td>\n",
       "      <td>2.7</td>\n",
       "      <td>42650.0</td>\n",
       "    </tr>\n",
       "    <tr>\n",
       "      <th>1</th>\n",
       "      <td>Napa</td>\n",
       "      <td>CA</td>\n",
       "      <td>City</td>\n",
       "      <td>West Coast</td>\n",
       "      <td>2015</td>\n",
       "      <td>March</td>\n",
       "      <td>Friday</td>\n",
       "      <td>shot</td>\n",
       "      <td>gun</td>\n",
       "      <td>41.0</td>\n",
       "      <td>...</td>\n",
       "      <td>Other</td>\n",
       "      <td>False</td>\n",
       "      <td>9.5</td>\n",
       "      <td>80.9</td>\n",
       "      <td>75.1</td>\n",
       "      <td>0.6</td>\n",
       "      <td>0.8</td>\n",
       "      <td>2.3</td>\n",
       "      <td>37.6</td>\n",
       "      <td>68038.0</td>\n",
       "    </tr>\n",
       "    <tr>\n",
       "      <th>2</th>\n",
       "      <td>Napa</td>\n",
       "      <td>CA</td>\n",
       "      <td>City</td>\n",
       "      <td>West Coast</td>\n",
       "      <td>2017</td>\n",
       "      <td>April</td>\n",
       "      <td>Tuesday</td>\n",
       "      <td>shot</td>\n",
       "      <td>gun</td>\n",
       "      <td>65.0</td>\n",
       "      <td>...</td>\n",
       "      <td>Car</td>\n",
       "      <td>False</td>\n",
       "      <td>9.5</td>\n",
       "      <td>80.9</td>\n",
       "      <td>75.1</td>\n",
       "      <td>0.6</td>\n",
       "      <td>0.8</td>\n",
       "      <td>2.3</td>\n",
       "      <td>37.6</td>\n",
       "      <td>68038.0</td>\n",
       "    </tr>\n",
       "    <tr>\n",
       "      <th>3</th>\n",
       "      <td>Napa</td>\n",
       "      <td>CA</td>\n",
       "      <td>City</td>\n",
       "      <td>West Coast</td>\n",
       "      <td>2017</td>\n",
       "      <td>March</td>\n",
       "      <td>Monday</td>\n",
       "      <td>shot</td>\n",
       "      <td>sharp object</td>\n",
       "      <td>23.0</td>\n",
       "      <td>...</td>\n",
       "      <td>Not fleeing</td>\n",
       "      <td>False</td>\n",
       "      <td>9.5</td>\n",
       "      <td>80.9</td>\n",
       "      <td>75.1</td>\n",
       "      <td>0.6</td>\n",
       "      <td>0.8</td>\n",
       "      <td>2.3</td>\n",
       "      <td>37.6</td>\n",
       "      <td>68038.0</td>\n",
       "    </tr>\n",
       "    <tr>\n",
       "      <th>4</th>\n",
       "      <td>Fairmont</td>\n",
       "      <td>WV</td>\n",
       "      <td>City</td>\n",
       "      <td>South</td>\n",
       "      <td>2016</td>\n",
       "      <td>December</td>\n",
       "      <td>Sunday</td>\n",
       "      <td>shot</td>\n",
       "      <td>vehicle</td>\n",
       "      <td>39.0</td>\n",
       "      <td>...</td>\n",
       "      <td>Not fleeing</td>\n",
       "      <td>False</td>\n",
       "      <td>24.9</td>\n",
       "      <td>88.1</td>\n",
       "      <td>88.9</td>\n",
       "      <td>7.5</td>\n",
       "      <td>0.2</td>\n",
       "      <td>0.6</td>\n",
       "      <td>1.4</td>\n",
       "      <td>36086.0</td>\n",
       "    </tr>\n",
       "    <tr>\n",
       "      <th>...</th>\n",
       "      <td>...</td>\n",
       "      <td>...</td>\n",
       "      <td>...</td>\n",
       "      <td>...</td>\n",
       "      <td>...</td>\n",
       "      <td>...</td>\n",
       "      <td>...</td>\n",
       "      <td>...</td>\n",
       "      <td>...</td>\n",
       "      <td>...</td>\n",
       "      <td>...</td>\n",
       "      <td>...</td>\n",
       "      <td>...</td>\n",
       "      <td>...</td>\n",
       "      <td>...</td>\n",
       "      <td>...</td>\n",
       "      <td>...</td>\n",
       "      <td>...</td>\n",
       "      <td>...</td>\n",
       "      <td>...</td>\n",
       "      <td>...</td>\n",
       "    </tr>\n",
       "    <tr>\n",
       "      <th>2287</th>\n",
       "      <td>Tiverton</td>\n",
       "      <td>RI</td>\n",
       "      <td>Cdp</td>\n",
       "      <td>Northeast</td>\n",
       "      <td>2016</td>\n",
       "      <td>June</td>\n",
       "      <td>Monday</td>\n",
       "      <td>shot</td>\n",
       "      <td>gun</td>\n",
       "      <td>80.0</td>\n",
       "      <td>...</td>\n",
       "      <td>Car</td>\n",
       "      <td>False</td>\n",
       "      <td>6.8</td>\n",
       "      <td>89.4</td>\n",
       "      <td>95.7</td>\n",
       "      <td>1.2</td>\n",
       "      <td>0.1</td>\n",
       "      <td>1.0</td>\n",
       "      <td>1.7</td>\n",
       "      <td>69054.0</td>\n",
       "    </tr>\n",
       "    <tr>\n",
       "      <th>2288</th>\n",
       "      <td>Silver Springs</td>\n",
       "      <td>NV</td>\n",
       "      <td>Cdp</td>\n",
       "      <td>Mountain</td>\n",
       "      <td>2016</td>\n",
       "      <td>February</td>\n",
       "      <td>Thursday</td>\n",
       "      <td>shot</td>\n",
       "      <td>gun</td>\n",
       "      <td>19.0</td>\n",
       "      <td>...</td>\n",
       "      <td>Not fleeing</td>\n",
       "      <td>True</td>\n",
       "      <td>22.8</td>\n",
       "      <td>81.4</td>\n",
       "      <td>89.0</td>\n",
       "      <td>0.3</td>\n",
       "      <td>2.0</td>\n",
       "      <td>0.9</td>\n",
       "      <td>7.4</td>\n",
       "      <td>33780.0</td>\n",
       "    </tr>\n",
       "    <tr>\n",
       "      <th>2289</th>\n",
       "      <td>Palo Alto</td>\n",
       "      <td>CA</td>\n",
       "      <td>City</td>\n",
       "      <td>West Coast</td>\n",
       "      <td>2015</td>\n",
       "      <td>December</td>\n",
       "      <td>Friday</td>\n",
       "      <td>shot</td>\n",
       "      <td>sharp object</td>\n",
       "      <td>31.0</td>\n",
       "      <td>...</td>\n",
       "      <td>Not fleeing</td>\n",
       "      <td>False</td>\n",
       "      <td>5.4</td>\n",
       "      <td>97.4</td>\n",
       "      <td>64.2</td>\n",
       "      <td>1.9</td>\n",
       "      <td>0.2</td>\n",
       "      <td>27.1</td>\n",
       "      <td>6.2</td>\n",
       "      <td>136519.0</td>\n",
       "    </tr>\n",
       "    <tr>\n",
       "      <th>2290</th>\n",
       "      <td>Malone</td>\n",
       "      <td>NY</td>\n",
       "      <td>Village</td>\n",
       "      <td>Northeast</td>\n",
       "      <td>2015</td>\n",
       "      <td>June</td>\n",
       "      <td>Friday</td>\n",
       "      <td>shot</td>\n",
       "      <td>gun</td>\n",
       "      <td>49.0</td>\n",
       "      <td>...</td>\n",
       "      <td>Other</td>\n",
       "      <td>False</td>\n",
       "      <td>31.1</td>\n",
       "      <td>81.2</td>\n",
       "      <td>96.0</td>\n",
       "      <td>0.6</td>\n",
       "      <td>1.1</td>\n",
       "      <td>0.8</td>\n",
       "      <td>1.6</td>\n",
       "      <td>36667.0</td>\n",
       "    </tr>\n",
       "    <tr>\n",
       "      <th>2291</th>\n",
       "      <td>Mount Hope</td>\n",
       "      <td>WV</td>\n",
       "      <td>City</td>\n",
       "      <td>South</td>\n",
       "      <td>2015</td>\n",
       "      <td>December</td>\n",
       "      <td>Monday</td>\n",
       "      <td>shot</td>\n",
       "      <td>gun</td>\n",
       "      <td>33.0</td>\n",
       "      <td>...</td>\n",
       "      <td>Not fleeing</td>\n",
       "      <td>False</td>\n",
       "      <td>42.3</td>\n",
       "      <td>88.1</td>\n",
       "      <td>77.0</td>\n",
       "      <td>18.0</td>\n",
       "      <td>0.5</td>\n",
       "      <td>0.4</td>\n",
       "      <td>1.6</td>\n",
       "      <td>21218.0</td>\n",
       "    </tr>\n",
       "  </tbody>\n",
       "</table>\n",
       "<p>2292 rows × 24 columns</p>\n",
       "</div>"
      ],
      "text/plain": [
       "                city state city_type      region  year      month day_of_week  \\\n",
       "0            Oshkosh    WI      City     Midwest  2017  July        Monday      \n",
       "1               Napa    CA      City  West Coast  2015  March       Friday      \n",
       "2               Napa    CA      City  West Coast  2017  April       Tuesday     \n",
       "3               Napa    CA      City  West Coast  2017  March       Monday      \n",
       "4           Fairmont    WV      City       South  2016  December    Sunday      \n",
       "...              ...   ...       ...         ...   ...        ...         ...   \n",
       "2287        Tiverton    RI       Cdp   Northeast  2016  June        Monday      \n",
       "2288  Silver Springs    NV       Cdp    Mountain  2016  February    Thursday    \n",
       "2289       Palo Alto    CA      City  West Coast  2015  December    Friday      \n",
       "2290          Malone    NY   Village   Northeast  2015  June        Friday      \n",
       "2291      Mount Hope    WV      City       South  2015  December    Monday      \n",
       "\n",
       "     manner_of_death         armed   age  ...         flee body_camera  \\\n",
       "0               shot       vehicle  28.0  ...          Car        True   \n",
       "1               shot           gun  41.0  ...        Other       False   \n",
       "2               shot           gun  65.0  ...          Car       False   \n",
       "3               shot  sharp object  23.0  ...  Not fleeing       False   \n",
       "4               shot       vehicle  39.0  ...  Not fleeing       False   \n",
       "...              ...           ...   ...  ...          ...         ...   \n",
       "2287            shot           gun  80.0  ...          Car       False   \n",
       "2288            shot           gun  19.0  ...  Not fleeing        True   \n",
       "2289            shot  sharp object  31.0  ...  Not fleeing       False   \n",
       "2290            shot           gun  49.0  ...        Other       False   \n",
       "2291            shot           gun  33.0  ...  Not fleeing       False   \n",
       "\n",
       "      poverty_rate percent_completed_hs share_white  share_black  \\\n",
       "0             17.9                 89.3        90.5          3.1   \n",
       "1              9.5                 80.9        75.1          0.6   \n",
       "2              9.5                 80.9        75.1          0.6   \n",
       "3              9.5                 80.9        75.1          0.6   \n",
       "4             24.9                 88.1        88.9          7.5   \n",
       "...            ...                  ...         ...          ...   \n",
       "2287           6.8                 89.4        95.7          1.2   \n",
       "2288          22.8                 81.4        89.0          0.3   \n",
       "2289           5.4                 97.4        64.2          1.9   \n",
       "2290          31.1                 81.2        96.0          0.6   \n",
       "2291          42.3                 88.1        77.0         18.0   \n",
       "\n",
       "      share_native_american  share_asian  share_hispanic  median_income  \n",
       "0                       0.8          3.2             2.7        42650.0  \n",
       "1                       0.8          2.3            37.6        68038.0  \n",
       "2                       0.8          2.3            37.6        68038.0  \n",
       "3                       0.8          2.3            37.6        68038.0  \n",
       "4                       0.2          0.6             1.4        36086.0  \n",
       "...                     ...          ...             ...            ...  \n",
       "2287                    0.1          1.0             1.7        69054.0  \n",
       "2288                    2.0          0.9             7.4        33780.0  \n",
       "2289                    0.2         27.1             6.2       136519.0  \n",
       "2290                    1.1          0.8             1.6        36667.0  \n",
       "2291                    0.5          0.4             1.6        21218.0  \n",
       "\n",
       "[2292 rows x 24 columns]"
      ]
     },
     "execution_count": 3,
     "metadata": {},
     "output_type": "execute_result"
    }
   ],
   "source": [
    "demo_killings_df"
   ]
  },
  {
   "cell_type": "markdown",
   "metadata": {},
   "source": [
    "# Prepare Dataset for Modeling"
   ]
  },
  {
   "cell_type": "markdown",
   "metadata": {},
   "source": [
    "## Consolidate to specific races (W, B, H)"
   ]
  },
  {
   "cell_type": "markdown",
   "metadata": {},
   "source": [
    "- Data is well-balanced (48.6%/51.4% split by class)"
   ]
  },
  {
   "cell_type": "code",
   "execution_count": 4,
   "metadata": {},
   "outputs": [],
   "source": [
    "class_killings_df = demo_killings_df.loc[demo_killings_df['race'].isin(['W', 'B', 'H'])].reset_index(drop=True)\n"
   ]
  },
  {
   "cell_type": "code",
   "execution_count": 5,
   "metadata": {},
   "outputs": [
    {
     "data": {
      "text/plain": [
       "W    1041\n",
       "B     578\n",
       "H     405\n",
       "Name: race, dtype: int64"
      ]
     },
     "execution_count": 5,
     "metadata": {},
     "output_type": "execute_result"
    }
   ],
   "source": [
    "class_killings_df.race.value_counts()"
   ]
  },
  {
   "cell_type": "markdown",
   "metadata": {},
   "source": [
    "## Convert Features to Desired Data Types"
   ]
  },
  {
   "cell_type": "markdown",
   "metadata": {},
   "source": [
    "- numerical\n",
    "    - year\n",
    "    - age\n",
    "    - poverty_rate\n",
    "    - percent_completed_hs\n",
    "    - share_white\n",
    "    - share_black\n",
    "    - share_native_american\n",
    "    - share_asian\n",
    "    - share_hispanic\n",
    "    - median_income\n",
    "- boolean\n",
    "    - gender\n",
    "    - top 30 city\n",
    "    - signs_of_mental_illness\n",
    "    - body_camera\n",
    "    - day_of_week\n",
    "    - manner_of_death\n",
    "    - armed\n",
    "    - threat_level\n",
    "    - flee\n",
    "- categorical\n",
    "    - month\n",
    "    - region"
   ]
  },
  {
   "cell_type": "markdown",
   "metadata": {},
   "source": [
    "### Boolean"
   ]
  },
  {
   "cell_type": "code",
   "execution_count": 6,
   "metadata": {},
   "outputs": [],
   "source": [
    "# Race (target variable)\n",
    "\n",
    "class_killings_df.race = [0 if race == 'W' else 1 for race in class_killings_df.race.values]"
   ]
  },
  {
   "cell_type": "code",
   "execution_count": 7,
   "metadata": {},
   "outputs": [],
   "source": [
    "# Gender\n",
    "\n",
    "class_killings_df.gender = [1 if gen == 'M' else 0 for gen in class_killings_df.gender.values]"
   ]
  },
  {
   "cell_type": "code",
   "execution_count": 8,
   "metadata": {},
   "outputs": [],
   "source": [
    "# Manner of Death\n",
    "\n",
    "class_killings_df.manner_of_death = [1 if gun == 'shot' else 0 for gun in class_killings_df.manner_of_death.values]"
   ]
  },
  {
   "cell_type": "code",
   "execution_count": 9,
   "metadata": {},
   "outputs": [],
   "source": [
    "# Day of Week\n",
    "\n",
    "class_killings_df.day_of_week = [1 if day == 'Thursday' else 0 for day in class_killings_df.day_of_week.values]"
   ]
  },
  {
   "cell_type": "code",
   "execution_count": 10,
   "metadata": {},
   "outputs": [],
   "source": [
    "# Top 30 City\n",
    "\n",
    "top_30_city = [1 if city in class_killings_df.city.value_counts().index[:30] else 0 for city in class_killings_df.city.values]\n",
    "\n",
    "class_killings_df.insert(7, 'top_30_city', top_30_city)"
   ]
  },
  {
   "cell_type": "code",
   "execution_count": 11,
   "metadata": {},
   "outputs": [],
   "source": [
    "# City Type\n",
    "\n",
    "class_killings_df.city_type = [1 if city == 'City' else 0 for city in class_killings_df.city_type.values]"
   ]
  },
  {
   "cell_type": "code",
   "execution_count": 12,
   "metadata": {},
   "outputs": [],
   "source": [
    "# # Region\n",
    "\n",
    "# coasts = ['West Coast', 'Northeast']\n",
    "\n",
    "# class_killings_df.region = [1 if region in coasts else 0 for region in class_killings_df.region.values]"
   ]
  },
  {
   "cell_type": "code",
   "execution_count": 13,
   "metadata": {},
   "outputs": [],
   "source": [
    "# Armed\n",
    "\n",
    "class_killings_df.armed = [0 if arm == 'unarmed' else 1 for arm in class_killings_df.armed.values]"
   ]
  },
  {
   "cell_type": "code",
   "execution_count": 14,
   "metadata": {},
   "outputs": [],
   "source": [
    "# Flee\n",
    "\n",
    "class_killings_df.flee = [0 if flee == 'Foot' else 1 for flee in class_killings_df.flee.values]"
   ]
  },
  {
   "cell_type": "code",
   "execution_count": 15,
   "metadata": {},
   "outputs": [],
   "source": [
    "# Threat Level\n",
    "\n",
    "class_killings_df.threat_level = [0 if threat == 'undetermined' else 1 for threat in class_killings_df.threat_level.values]"
   ]
  },
  {
   "cell_type": "code",
   "execution_count": 16,
   "metadata": {},
   "outputs": [],
   "source": [
    "# Signs of Mental Illness, Body Camera\n",
    "\n",
    "for column in ['signs_of_mental_illness', 'body_camera']:\n",
    "    class_killings_df[column] = [1 if i == True else 0 for i in class_killings_df[column].values]"
   ]
  },
  {
   "cell_type": "markdown",
   "metadata": {},
   "source": [
    "### Categorical"
   ]
  },
  {
   "cell_type": "code",
   "execution_count": 17,
   "metadata": {},
   "outputs": [
    {
     "data": {
      "text/plain": [
       "Index(['city', 'state', 'city_type', 'region', 'year', 'month', 'day_of_week',\n",
       "       'top_30_city', 'manner_of_death', 'armed', 'age', 'gender', 'race',\n",
       "       'signs_of_mental_illness', 'threat_level', 'flee', 'body_camera',\n",
       "       'poverty_rate', 'percent_completed_hs', 'share_white', 'share_black',\n",
       "       'share_native_american', 'share_asian', 'share_hispanic',\n",
       "       'median_income'],\n",
       "      dtype='object')"
      ]
     },
     "execution_count": 17,
     "metadata": {},
     "output_type": "execute_result"
    }
   ],
   "source": [
    "class_killings_df.columns"
   ]
  },
  {
   "cell_type": "code",
   "execution_count": 18,
   "metadata": {},
   "outputs": [],
   "source": [
    "model_killings_df = class_killings_df[['year', 'month', 'day_of_week', 'top_30_city', 'city_type', 'region',\n",
    "                                       'age', 'gender', 'manner_of_death', 'armed', 'signs_of_mental_illness', \n",
    "                                       'threat_level', 'flee', 'body_camera', 'poverty_rate', 'percent_completed_hs', \n",
    "                                       'share_white', 'share_black', 'share_native_american', 'share_asian', \n",
    "                                       'share_hispanic', 'median_income']]"
   ]
  },
  {
   "cell_type": "code",
   "execution_count": 19,
   "metadata": {},
   "outputs": [],
   "source": [
    "# one hot encoding\n",
    "model_killings_df = pd.get_dummies(model_killings_df, drop_first=True)"
   ]
  },
  {
   "cell_type": "markdown",
   "metadata": {},
   "source": [
    "## Train-Test Split"
   ]
  },
  {
   "cell_type": "code",
   "execution_count": 20,
   "metadata": {},
   "outputs": [],
   "source": [
    "# X = model_killings_df\n",
    "# y = class_killings_df.race"
   ]
  },
  {
   "cell_type": "code",
   "execution_count": 21,
   "metadata": {},
   "outputs": [],
   "source": [
    "X = model_killings_df.to_numpy()\n",
    "y = class_killings_df.race.to_numpy()"
   ]
  },
  {
   "cell_type": "code",
   "execution_count": 22,
   "metadata": {},
   "outputs": [],
   "source": [
    "X_train, X_test, y_train, y_test = train_test_split(X, y, test_size=0.2, stratify=y, random_state=42)"
   ]
  },
  {
   "cell_type": "markdown",
   "metadata": {},
   "source": [
    "## Standardization"
   ]
  },
  {
   "cell_type": "code",
   "execution_count": 23,
   "metadata": {},
   "outputs": [],
   "source": [
    "# std = StandardScaler()\n",
    "# std.fit(X_train.values)\n",
    "\n",
    "# X_tr_scaled = std.transform(X_train.values)\n",
    "# X_te_scaled = std.transform(X_test.values)\n",
    "\n",
    "# X_tr = pd.DataFrame(X_tr_scaled, index = X_train.index, columns = X_train.columns)\n",
    "# X_te = pd.DataFrame(X_te_scaled, index = X_test.index, columns = X_test.columns)"
   ]
  },
  {
   "cell_type": "markdown",
   "metadata": {},
   "source": [
    "# Modeling"
   ]
  },
  {
   "cell_type": "markdown",
   "metadata": {},
   "source": [
    "- Different model types:\n",
    "    - Logistic Regression\n",
    "    - K-nearest Neighbors\n",
    "    - Decision Tree\n",
    "    - Random Forest\n",
    "    - AdaBoost\n",
    "    - Gradient Boost\n",
    "    - XGBoost\n",
    "- Perform cross-validation when fitting models\n",
    "- Use SMOTE to account for slight class imbalance\n",
    "- Performance metrics to be evaluated:\n",
    "    - accuracy (how often does the model guess correctly?)\n",
    "    - precision (when the victims are POC, how often does the model guess correctly?)\n",
    "    - recall (how many POC shootings does the model identify?)\n",
    "    - F1 score (harmonic mean of precision and recall)"
   ]
  },
  {
   "cell_type": "markdown",
   "metadata": {},
   "source": [
    "## Baseline Models"
   ]
  },
  {
   "cell_type": "code",
   "execution_count": 24,
   "metadata": {},
   "outputs": [],
   "source": [
    "class_results_dict = defaultdict(list)"
   ]
  },
  {
   "cell_type": "code",
   "execution_count": 25,
   "metadata": {},
   "outputs": [],
   "source": [
    "kf = StratifiedKFold(n_splits=5, random_state=42, shuffle=True)"
   ]
  },
  {
   "cell_type": "code",
   "execution_count": 26,
   "metadata": {},
   "outputs": [],
   "source": [
    "model_dict = {'Logistic Regression': LogisticRegression(max_iter=1000, random_state=42),    \\\n",
    "              'K-Nearest Neighbors': KNeighborsClassifier(n_neighbors = 10),    \\\n",
    "#               'Naive Bayes': MultinomialNB(),    \\\n",
    "#               'LinearSVM': SGDClassifier(random_state=42),    \\\n",
    "#               'Non-linear SVM': SVC(gamma=\"scale\"),    \\\n",
    "#               'Neural Network': MLPClassifier(),    \\\n",
    "              'Decision Tree': DecisionTreeClassifier(max_depth=6, random_state=42),    \\\n",
    "              'Random Forest': RandomForestClassifier(n_estimators = 1000, max_depth=6, random_state=42),    \\\n",
    "              'AdaBoost': AdaBoostClassifier(n_estimators = 1000, random_state=42),    \\\n",
    "              'Gradient Boost': GradientBoostingClassifier(n_estimators = 1000, max_depth=6, random_state=42),\n",
    "              'XGBoost': XGBClassifier(n_estimators = 1000, max_depth=6, random_state=42)\n",
    "             }"
   ]
  },
  {
   "cell_type": "code",
   "execution_count": 27,
   "metadata": {},
   "outputs": [
    {
     "data": {
      "application/vnd.jupyter.widget-view+json": {
       "model_id": "5528e463b5ae41bf8afc5f35f8321fca",
       "version_major": 2,
       "version_minor": 0
      },
      "text/plain": [
       "HBox(children=(FloatProgress(value=0.0, max=7.0), HTML(value='')))"
      ]
     },
     "metadata": {},
     "output_type": "display_data"
    },
    {
     "name": "stdout",
     "output_type": "stream",
     "text": [
      "Logistic Regression\n",
      "K-Nearest Neighbors\n",
      "Decision Tree\n",
      "Random Forest\n",
      "AdaBoost\n",
      "Gradient Boost\n",
      "XGBoost\n",
      "\n"
     ]
    }
   ],
   "source": [
    "for mod_name, model in tqdm(model_dict.items()):\n",
    "    \n",
    "    print(mod_name)\n",
    "    cv = 1\n",
    "    \n",
    "    for train_ind, val_ind in kf.split(X_train, y_train):\n",
    "        X_train_ind, y_train_ind = X_train[train_ind], y_train[train_ind]\n",
    "        X_smote_train, y_smote_train = SMOTE(random_state=42).fit_sample(X_train_ind, y_train_ind)\n",
    "        \n",
    "        X_val, y_val = X_train[val_ind], y_train[val_ind]\n",
    "        \n",
    "        model.fit(X_smote_train, y_smote_train);\n",
    "        y_pred = model.predict(X_val)\n",
    "\n",
    "        accuracy = round(100*accuracy_score(y_val, y_pred),3)\n",
    "        precision = round(100*precision_score(y_val, y_pred),3)\n",
    "        recall = round(100*recall_score(y_val, y_pred),3)\n",
    "        f1 = round(2 * (precision * recall) / (precision + recall),3)\n",
    "\n",
    "        class_results_dict['Model_Name'].append(mod_name + ' ' + str(cv))\n",
    "        class_results_dict['Accuracy'].append(accuracy)\n",
    "        class_results_dict[('Precision')].append(precision)\n",
    "        class_results_dict[('Recall')].append(recall)\n",
    "        class_results_dict[('F1-score')].append(f1)\n",
    "        \n",
    "        cv += 1\n",
    "\n",
    "class_results_full = pd.DataFrame(class_results_dict)\n",
    "class_results_full.Model_Name = class_results_full.Model_Name.str.strip('12345')\n",
    "class_results_df = class_results_full.groupby(['Model_Name']).mean()"
   ]
  },
  {
   "cell_type": "code",
   "execution_count": 28,
   "metadata": {},
   "outputs": [
    {
     "data": {
      "text/html": [
       "<div>\n",
       "<style scoped>\n",
       "    .dataframe tbody tr th:only-of-type {\n",
       "        vertical-align: middle;\n",
       "    }\n",
       "\n",
       "    .dataframe tbody tr th {\n",
       "        vertical-align: top;\n",
       "    }\n",
       "\n",
       "    .dataframe thead th {\n",
       "        text-align: right;\n",
       "    }\n",
       "</style>\n",
       "<table border=\"1\" class=\"dataframe\">\n",
       "  <thead>\n",
       "    <tr style=\"text-align: right;\">\n",
       "      <th></th>\n",
       "      <th>Model_Name</th>\n",
       "      <th>Accuracy</th>\n",
       "      <th>Precision</th>\n",
       "      <th>Recall</th>\n",
       "      <th>F1-score</th>\n",
       "    </tr>\n",
       "  </thead>\n",
       "  <tbody>\n",
       "    <tr>\n",
       "      <th>0</th>\n",
       "      <td>Random Forest</td>\n",
       "      <td>74.9854</td>\n",
       "      <td>73.6532</td>\n",
       "      <td>75.7034</td>\n",
       "      <td>74.6142</td>\n",
       "    </tr>\n",
       "    <tr>\n",
       "      <th>1</th>\n",
       "      <td>Logistic Regression</td>\n",
       "      <td>74.6134</td>\n",
       "      <td>73.4962</td>\n",
       "      <td>74.9374</td>\n",
       "      <td>74.1658</td>\n",
       "    </tr>\n",
       "    <tr>\n",
       "      <th>2</th>\n",
       "      <td>Gradient Boost</td>\n",
       "      <td>72.3922</td>\n",
       "      <td>71.8226</td>\n",
       "      <td>71.1288</td>\n",
       "      <td>71.4222</td>\n",
       "    </tr>\n",
       "    <tr>\n",
       "      <th>3</th>\n",
       "      <td>XGBoost</td>\n",
       "      <td>71.6504</td>\n",
       "      <td>71.0462</td>\n",
       "      <td>70.6130</td>\n",
       "      <td>70.7804</td>\n",
       "    </tr>\n",
       "    <tr>\n",
       "      <th>4</th>\n",
       "      <td>Decision Tree</td>\n",
       "      <td>71.5854</td>\n",
       "      <td>70.4206</td>\n",
       "      <td>71.5102</td>\n",
       "      <td>70.8966</td>\n",
       "    </tr>\n",
       "    <tr>\n",
       "      <th>5</th>\n",
       "      <td>AdaBoost</td>\n",
       "      <td>70.1688</td>\n",
       "      <td>69.1838</td>\n",
       "      <td>69.5984</td>\n",
       "      <td>69.3842</td>\n",
       "    </tr>\n",
       "    <tr>\n",
       "      <th>6</th>\n",
       "      <td>K-Nearest Neighbors</td>\n",
       "      <td>59.6670</td>\n",
       "      <td>59.5860</td>\n",
       "      <td>52.3010</td>\n",
       "      <td>55.6708</td>\n",
       "    </tr>\n",
       "  </tbody>\n",
       "</table>\n",
       "</div>"
      ],
      "text/plain": [
       "             Model_Name  Accuracy  Precision   Recall  F1-score\n",
       "0        Random Forest    74.9854    73.6532  75.7034   74.6142\n",
       "1  Logistic Regression    74.6134    73.4962  74.9374   74.1658\n",
       "2       Gradient Boost    72.3922    71.8226  71.1288   71.4222\n",
       "3              XGBoost    71.6504    71.0462  70.6130   70.7804\n",
       "4        Decision Tree    71.5854    70.4206  71.5102   70.8966\n",
       "5             AdaBoost    70.1688    69.1838  69.5984   69.3842\n",
       "6  K-Nearest Neighbors    59.6670    59.5860  52.3010   55.6708"
      ]
     },
     "execution_count": 28,
     "metadata": {},
     "output_type": "execute_result"
    }
   ],
   "source": [
    "class_results_df.sort_values(by='Accuracy', ascending=False).reset_index()"
   ]
  },
  {
   "cell_type": "markdown",
   "metadata": {},
   "source": [
    "## Further Evaluation of Best Baseline Models"
   ]
  },
  {
   "cell_type": "markdown",
   "metadata": {},
   "source": [
    "- How do the best-performing models compare using confusion matrices and ROC curves?\n",
    "    - **Logistic Regression**\n",
    "    - **Random Forest**\n",
    "    - **Decision Tree**"
   ]
  },
  {
   "cell_type": "code",
   "execution_count": 29,
   "metadata": {},
   "outputs": [],
   "source": [
    "# Logistic Regression\n",
    "\n",
    "logit = LogisticRegression(max_iter=1000)"
   ]
  },
  {
   "cell_type": "code",
   "execution_count": 30,
   "metadata": {},
   "outputs": [],
   "source": [
    "logit.fit(X_smote_train, y_smote_train)\n",
    "y_pred_logit = logit.predict(X_val)"
   ]
  },
  {
   "cell_type": "code",
   "execution_count": 31,
   "metadata": {},
   "outputs": [],
   "source": [
    "# Random Forest\n",
    "\n",
    "rf = RandomForestClassifier(n_estimators = 1000, max_depth=6, random_state=42)"
   ]
  },
  {
   "cell_type": "code",
   "execution_count": 32,
   "metadata": {},
   "outputs": [],
   "source": [
    "rf.fit(X_smote_train, y_smote_train)\n",
    "y_pred_rf = rf.predict(X_val)"
   ]
  },
  {
   "cell_type": "code",
   "execution_count": 33,
   "metadata": {},
   "outputs": [],
   "source": [
    "# Decision Tree\n",
    "\n",
    "dec = DecisionTreeClassifier(max_depth=6, random_state=42)"
   ]
  },
  {
   "cell_type": "code",
   "execution_count": 34,
   "metadata": {},
   "outputs": [],
   "source": [
    "dec.fit(X_smote_train, y_smote_train)\n",
    "y_pred_dec = dec.predict(X_val)"
   ]
  },
  {
   "cell_type": "markdown",
   "metadata": {},
   "source": [
    "---"
   ]
  },
  {
   "cell_type": "code",
   "execution_count": 35,
   "metadata": {},
   "outputs": [],
   "source": [
    "# Confusion Matrix Function\n",
    "\n",
    "def conf_matrix(actual, predicted, model_name):\n",
    "    cm = confusion_matrix(actual, predicted)\n",
    "    ax = sns.heatmap(cm, xticklabels=['predicted_white', 'predicted_poc'], \n",
    "                yticklabels=['actual_white', 'actual_poc'], annot=True,\n",
    "                fmt='d', annot_kws={'fontsize':20}, cmap=\"YlGnBu\");\n",
    "    \n",
    "    bottom, top = ax.get_ylim()\n",
    "    ax.set_title(model_name + ' Confusion Matrix')\n",
    "    ax.set_ylim(bottom, top)\n",
    "    true_neg, false_pos = cm[0]\n",
    "    false_neg, true_pos = cm[1]\n",
    "\n",
    "    return"
   ]
  },
  {
   "cell_type": "code",
   "execution_count": 36,
   "metadata": {},
   "outputs": [],
   "source": [
    "# ROC Curve Function\n",
    "\n",
    "def roc_curve_generator(X_test, y_test, model_name, model_variable):\n",
    "\n",
    "    roc_curve_dict = defaultdict(list)\n",
    "    \n",
    "    fpr, tpr, thresholds = roc_curve(y_test, model_variable.predict_proba(X_test)[:,1])\n",
    "    roc_curve_dict[model_name] = pd.DataFrame(list(zip(fpr, tpr, thresholds)),    \\\n",
    "                                              columns=['False Positive Rate','True Positive Rate', 'Threshhold'])\n",
    "    \n",
    "    # Plot roc_curve\n",
    "    \n",
    "#     fig1 = plt.figure(figsize=[9,9], dpi=100)\n",
    "\n",
    "#     plt.plot(roc_curve_dict[model_name]['False Positive Rate'].values,    \\\n",
    "#              roc_curve_dict[model_name]['True Positive Rate'].values,    \\\n",
    "#              lw=2, label=model_name)\n",
    "\n",
    "#     plt.plot([0,1],[0,1],c='violet',ls='--')\n",
    "#     plt.xlim([-0.05,1.05])\n",
    "#     plt.ylim([-0.05,1.05])\n",
    "\n",
    "#     plt.xlabel('False positive rate', fontsize=15)\n",
    "#     plt.ylabel('True positive rate', fontsize=15)\n",
    "#     plt.xticks(fontsize=15)\n",
    "#     plt.yticks(fontsize=15)\n",
    "#     plt.title('ROC Curve', fontsize=15);\n",
    "#     plt.legend(fontsize=10)\n",
    "    \n",
    "    return roc_curve_dict"
   ]
  },
  {
   "cell_type": "code",
   "execution_count": 37,
   "metadata": {},
   "outputs": [],
   "source": [
    "# Precision-Recall Curve Function\n",
    "\n",
    "def prec_rec_curve_generator(X_test, y_test, model_name, model_variable):\n",
    "\n",
    "    prec_rec_curve_dict = defaultdict(list)\n",
    "    \n",
    "    precision_curve, recall_curve, threshold_curve = precision_recall_curve(y_test, model_variable.decision_function(X_test))\n",
    "    prec_rec_curve_dict[model_name] = pd.DataFrame(list(zip(precision_curve, recall_curve, threshold_curve)),    \\\n",
    "                                                   columns=['precision','recall','threshold'])\n",
    "\n",
    "    # Plot precision_recall_curve\n",
    "    \n",
    "    fig2 = plt.figure(figsize=[9,9], dpi=100)\n",
    "\n",
    "    plt.plot(prec_rec_curve_dict[model_name]['recall'].values,    \\\n",
    "             prec_rec_curve_dict[model_name]['precision'].values,    \\\n",
    "             lw=2, label=model_name)\n",
    "\n",
    "    plt.plot([1,0],[0,1],c='violet',ls='--')\n",
    "    plt.xlim([-0.05,1.05])\n",
    "    plt.ylim([-0.05,1.05])\n",
    "\n",
    "    plt.xlabel('Recall', fontsize=15)\n",
    "    plt.ylabel('Precision', fontsize=15)\n",
    "    plt.xticks(fontsize=15)\n",
    "    plt.yticks(fontsize=15)\n",
    "    plt.title('Precision-Recall Curve', fontsize=15);\n",
    "    plt.legend(fontsize=10)\n",
    "    \n",
    "    return prec_rec_curve_dict"
   ]
  },
  {
   "cell_type": "markdown",
   "metadata": {},
   "source": [
    "#### Confusion Matrix"
   ]
  },
  {
   "cell_type": "code",
   "execution_count": 38,
   "metadata": {},
   "outputs": [
    {
     "data": {
      "image/png": "[encoded data removed]",
      "text/plain": [
       "<Figure size 432x288 with 2 Axes>"
      ]
     },
     "metadata": {
      "needs_background": "light"
     },
     "output_type": "display_data"
    }
   ],
   "source": [
    "conf_matrix(y_val, y_pred_logit, 'Logistic Regression')"
   ]
  },
  {
   "cell_type": "code",
   "execution_count": 39,
   "metadata": {},
   "outputs": [
    {
     "data": {
      "image/png": "[encoded data removed]",
      "text/plain": [
       "<Figure size 432x288 with 2 Axes>"
      ]
     },
     "metadata": {
      "needs_background": "light"
     },
     "output_type": "display_data"
    }
   ],
   "source": [
    "conf_matrix(y_val, y_pred_rf, 'Random Forest')"
   ]
  },
  {
   "cell_type": "code",
   "execution_count": 40,
   "metadata": {},
   "outputs": [
    {
     "data": {
      "image/png": "[encoded data removed]",
      "text/plain": [
       "<Figure size 432x288 with 2 Axes>"
      ]
     },
     "metadata": {
      "needs_background": "light"
     },
     "output_type": "display_data"
    }
   ],
   "source": [
    "conf_matrix(y_val, y_pred_dec, 'Decision Tree')"
   ]
  },
  {
   "cell_type": "markdown",
   "metadata": {},
   "source": [
    "#### ROC Curve"
   ]
  },
  {
   "cell_type": "code",
   "execution_count": 41,
   "metadata": {},
   "outputs": [],
   "source": [
    "logit_roc = roc_curve_generator(X_val, y_val, 'Logistic Regression', logit)\n",
    "rf_roc = roc_curve_generator(X_val, y_val, 'Random Forest', rf)\n",
    "dec_roc = roc_curve_generator(X_val, y_val, 'Decision Tree', dec)"
   ]
  },
  {
   "cell_type": "code",
   "execution_count": 42,
   "metadata": {},
   "outputs": [
    {
     "data": {
      "text/plain": [
       "<matplotlib.legend.Legend at 0x128663978>"
      ]
     },
     "execution_count": 42,
     "metadata": {},
     "output_type": "execute_result"
    },
    {
     "data": {
      "image/png": "[encoded data removed]",
      "text/plain": [
       "<Figure size 900x900 with 1 Axes>"
      ]
     },
     "metadata": {
      "needs_background": "light"
     },
     "output_type": "display_data"
    }
   ],
   "source": [
    "fig1 = plt.figure(figsize=[9,9], dpi=100)\n",
    "\n",
    "plt.plot(logit_roc['Logistic Regression']['False Positive Rate'].values,    \\\n",
    "         logit_roc['Logistic Regression']['True Positive Rate'].values,    \\\n",
    "         lw=2, label='Logistic Regression')\n",
    "plt.plot(rf_roc['Random Forest']['False Positive Rate'].values,    \\\n",
    "         rf_roc['Random Forest']['True Positive Rate'].values,    \\\n",
    "         lw=2, label='Random Forest')\n",
    "plt.plot(dec_roc['Decision Tree']['False Positive Rate'].values,    \\\n",
    "         dec_roc['Decision Tree']['True Positive Rate'].values,    \\\n",
    "         lw=2, label='Decision Tree')\n",
    "\n",
    "plt.plot([0,1],[0,1],c='violet',ls='--')\n",
    "plt.xlim([-0.05,1.05])\n",
    "plt.ylim([-0.05,1.05])\n",
    "\n",
    "plt.xlabel('False positive rate', fontsize=15)\n",
    "plt.ylabel('True positive rate', fontsize=15)\n",
    "plt.xticks(fontsize=15)\n",
    "plt.yticks(fontsize=15)\n",
    "plt.title('ROC Curve', fontsize=15);\n",
    "plt.legend(fontsize=10)"
   ]
  },
  {
   "cell_type": "markdown",
   "metadata": {},
   "source": [
    "#### Precision-Recall Curve"
   ]
  },
  {
   "cell_type": "code",
   "execution_count": 43,
   "metadata": {},
   "outputs": [],
   "source": [
    "# logit_prec_rec = prec_rec_curve_generator(X_test, y_test, 'Logistic Regression', logit)"
   ]
  },
  {
   "cell_type": "markdown",
   "metadata": {},
   "source": [
    "## GridSearch"
   ]
  },
  {
   "cell_type": "code",
   "execution_count": 44,
   "metadata": {},
   "outputs": [],
   "source": [
    "def gridsearch(X_train, y_train, X_test, y_test, model, model_name, params, cv, score, error_score):\n",
    "    \n",
    "    gs = GridSearchCV(model, params, cv=cv, scoring=score, error_score=error_score)\n",
    "    gs.fit(X_train, y_train)\n",
    "    y_true, y_pred = y_test, gs.predict(X_test)\n",
    "    \n",
    "    print(model_name)\n",
    "    print('-------------------------------------')\n",
    "    print('Best Parameters are:', gs.best_params_)\n",
    "    print('accuracy =', accuracy_score(y_true, y_pred))\n",
    "    print('precision = ', precision_score(y_true, y_pred))\n",
    "    print('recall = ', recall_score(y_true, y_pred))\n",
    "    print('f1 score = ', f1_score(y_true, y_pred))\n",
    "    "
   ]
  },
  {
   "cell_type": "code",
   "execution_count": 45,
   "metadata": {},
   "outputs": [],
   "source": [
    "logit_params = [\n",
    "                {'max_iter': [1000000]},\n",
    "#                 {'penalty': ['none', 'l2']},\n",
    "                {'solver': ['liblinear']},\n",
    "                {'C': [0.00001,0.0001,0.001,0.01,0.1,1]},\n",
    "                {'random_state': [42]}\n",
    "               ]\n",
    "\n",
    "rf_params = [\n",
    "             {'n_estimators': [10,100,1000]},\n",
    "             {'max_depth': [2,6,10]},\n",
    "             {'min_samples_leaf': [1,5,10]},\n",
    "             {'max_leaf_nodes': [5,10]},\n",
    "             {'random_state': [42]}\n",
    "            ]\n",
    "\n"
   ]
  },
  {
   "cell_type": "code",
   "execution_count": 46,
   "metadata": {},
   "outputs": [],
   "source": [
    "# gridsearch(X_tr, y_train, X_te, y_test, LogisticRegression(),\n",
    "#            'Logistic Regression', logit_params, 5, 'f1', 0.0)"
   ]
  },
  {
   "cell_type": "code",
   "execution_count": 47,
   "metadata": {},
   "outputs": [],
   "source": [
    "# gridsearch(X_tr, y_train, X_te, y_test, RandomForestClassifier(),\n",
    "#            'Random Forest', rf_params, 5, 'f1', 0.0)"
   ]
  },
  {
   "cell_type": "markdown",
   "metadata": {},
   "source": [
    "### Logistic Regression"
   ]
  },
  {
   "cell_type": "code",
   "execution_count": 48,
   "metadata": {},
   "outputs": [
    {
     "name": "stdout",
     "output_type": "stream",
     "text": [
      "C =  1e-05\n",
      "accuracy = 0.7275541795665634\n",
      "precision =  0.7090909090909091\n",
      "recall =  0.7452229299363057\n",
      "f1 score =  0.7267080745341615\n",
      "--------------------------------------\n",
      "C =  0.0001\n",
      "accuracy = 0.7368421052631579\n",
      "precision =  0.7222222222222222\n",
      "recall =  0.7452229299363057\n",
      "f1 score =  0.7335423197492164\n",
      "--------------------------------------\n",
      "C =  0.001\n",
      "accuracy = 0.739938080495356\n",
      "precision =  0.7267080745341615\n",
      "recall =  0.7452229299363057\n",
      "f1 score =  0.7358490566037735\n",
      "--------------------------------------\n",
      "C =  0.01\n",
      "accuracy = 0.7430340557275542\n",
      "precision =  0.7341772151898734\n",
      "recall =  0.7388535031847133\n",
      "f1 score =  0.7365079365079364\n",
      "--------------------------------------\n",
      "C =  0.1\n",
      "accuracy = 0.7430340557275542\n",
      "precision =  0.73125\n",
      "recall =  0.7452229299363057\n",
      "f1 score =  0.7381703470031546\n",
      "--------------------------------------\n",
      "C =  1\n",
      "accuracy = 0.739938080495356\n",
      "precision =  0.7267080745341615\n",
      "recall =  0.7452229299363057\n",
      "f1 score =  0.7358490566037735\n",
      "--------------------------------------\n",
      "C =  10\n",
      "accuracy = 0.739938080495356\n",
      "precision =  0.7239263803680982\n",
      "recall =  0.7515923566878981\n",
      "f1 score =  0.7375\n",
      "--------------------------------------\n"
     ]
    }
   ],
   "source": [
    "for c in [0.00001,0.0001,0.001,0.01,0.1,1,10]:\n",
    "    \n",
    "    gs_logit = LogisticRegression(C=c, solver = 'liblinear', random_state=42, max_iter = 10000)\n",
    "    gs_logit.fit(X_smote_train, y_smote_train)\n",
    "    y_true, y_pred = y_val, gs_logit.predict(X_val)\n",
    "\n",
    "    print('C = ', c)\n",
    "    print('accuracy =', accuracy_score(y_true, y_pred))\n",
    "    print('precision = ', precision_score(y_true, y_pred))\n",
    "    print('recall = ', recall_score(y_true, y_pred))\n",
    "    print('f1 score = ', f1_score(y_true, y_pred))\n",
    "    print('--------------------------------------')"
   ]
  },
  {
   "cell_type": "markdown",
   "metadata": {},
   "source": [
    "### Random Forest"
   ]
  },
  {
   "cell_type": "code",
   "execution_count": 49,
   "metadata": {},
   "outputs": [
    {
     "name": "stdout",
     "output_type": "stream",
     "text": [
      "Max Depth =  4\n",
      "N Estimators =  200\n",
      "accuracy = 0.7554179566563467\n",
      "precision =  0.7407407407407407\n",
      "recall =  0.7643312101910829\n",
      "f1 score =  0.7523510971786834\n",
      "--------------------------------------\n",
      "Max Depth =  5\n",
      "N Estimators =  200\n",
      "accuracy = 0.7708978328173375\n",
      "precision =  0.7515151515151515\n",
      "recall =  0.7898089171974523\n",
      "f1 score =  0.7701863354037267\n",
      "--------------------------------------\n",
      "Max Depth =  6\n",
      "N Estimators =  200\n",
      "accuracy = 0.7616099071207431\n",
      "precision =  0.7469135802469136\n",
      "recall =  0.7707006369426752\n",
      "f1 score =  0.7586206896551724\n",
      "--------------------------------------\n",
      "Max Depth =  7\n",
      "N Estimators =  200\n",
      "accuracy = 0.7647058823529411\n",
      "precision =  0.7547169811320755\n",
      "recall =  0.7643312101910829\n",
      "f1 score =  0.759493670886076\n",
      "--------------------------------------\n"
     ]
    }
   ],
   "source": [
    "for d in [4,5,6,7]:\n",
    "    \n",
    "    gs_rf = RandomForestClassifier(n_estimators = 200, max_depth=d, random_state=42)\n",
    "    gs_rf.fit(X_smote_train, y_smote_train)\n",
    "    y_true, y_pred = y_val, gs_rf.predict(X_val)\n",
    "\n",
    "    print('Max Depth = ', d)\n",
    "    print('N Estimators = ', 200)\n",
    "    print('accuracy =', accuracy_score(y_true, y_pred))\n",
    "    print('precision = ', precision_score(y_true, y_pred))\n",
    "    print('recall = ', recall_score(y_true, y_pred))\n",
    "    print('f1 score = ', f1_score(y_true, y_pred))\n",
    "    print('--------------------------------------')"
   ]
  },
  {
   "cell_type": "markdown",
   "metadata": {},
   "source": [
    "## Final Models"
   ]
  },
  {
   "cell_type": "markdown",
   "metadata": {},
   "source": [
    "**Logistic Regression performs the best, with an accuracy of 77.0% and F1 score of 75.6%**"
   ]
  },
  {
   "cell_type": "markdown",
   "metadata": {},
   "source": [
    "### Logistic Regression"
   ]
  },
  {
   "cell_type": "code",
   "execution_count": 57,
   "metadata": {},
   "outputs": [],
   "source": [
    "logit_final = LogisticRegression(C=0.01, solver = 'liblinear', random_state=42, max_iter = 10000)\n",
    "X_smote_train_final, y_smote_train_final = SMOTE(random_state=42).fit_sample(X_train, y_train)\n",
    "logit_final.fit(X_smote_train_final, y_smote_train_final)\n",
    "y_true, y_pred = y_test, logit_final.predict(X_test)"
   ]
  },
  {
   "cell_type": "code",
   "execution_count": 58,
   "metadata": {},
   "outputs": [
    {
     "data": {
      "application/vnd.jupyter.widget-view+json": {
       "model_id": "0b6b371d580540d6a2be9b26e14d7d79",
       "version_major": 2,
       "version_minor": 0
      },
      "text/plain": [
       "interactive(children=(FloatSlider(value=0.0, description='thresh', max=1.0, step=0.01), Output()), _dom_classe…"
      ]
     },
     "metadata": {},
     "output_type": "display_data"
    }
   ],
   "source": [
    "from ipywidgets import interact\n",
    "# Create a widget to show confusion matrix and the precision and recall scores given a sliding threshold value as an input\n",
    "@interact(thresh=(0, 1, .01))\n",
    "def logit_confusion(thresh):\n",
    "    y_predict = (logit_final.predict_proba(X_test)[:, 1] > thresh)\n",
    "    accuracy = accuracy_score(y_test, y_predict)\n",
    "    precision = precision_score(y_test, y_predict)\n",
    "    recall = recall_score(y_test, y_predict)\n",
    "    F1_score = f1_score(y_test, y_predict)\n",
    "    logit_confusion = confusion_matrix(y_test, y_predict)\n",
    "    \n",
    "    plt.figure(dpi=150)\n",
    "    ax = sns.heatmap(logit_confusion, cmap=plt.cm.Purples, annot=True, square=True, fmt='g',\n",
    "           xticklabels=['White', 'POC'],\n",
    "           yticklabels=['White', 'POC'])\n",
    "    bottom, top = ax.get_ylim()\n",
    "    ax.set_ylim(bottom + 0.5, top - 0.5)\n",
    "    plt.xlabel('Predicted')\n",
    "    plt.ylabel('Actual')\n",
    "    plt.title('Logistic Regression Confusion Matrix');\n",
    "    \n",
    "    return 'Threshold: ' + str(thresh), \"Accuracy: {:6.4f},   Precision: {:6.4f},   Recall: {:6.4f},    F1-Score: {:6.4f}\".format(accuracy, precision, recall, F1_score)"
   ]
  },
  {
   "cell_type": "markdown",
   "metadata": {},
   "source": [
    "### Random Forest"
   ]
  },
  {
   "cell_type": "code",
   "execution_count": 59,
   "metadata": {},
   "outputs": [],
   "source": [
    "rf_final = RandomForestClassifier(n_estimators = 200, max_depth=5, random_state=42)\n",
    "X_smote_train_final, y_smote_train_final = SMOTE(random_state=42).fit_sample(X_train, y_train)\n",
    "rf_final.fit(X_smote_train_final, y_smote_train_final)\n",
    "y_true, y_pred = y_test, rf_final.predict(X_test)"
   ]
  },
  {
   "cell_type": "code",
   "execution_count": 60,
   "metadata": {},
   "outputs": [
    {
     "data": {
      "application/vnd.jupyter.widget-view+json": {
       "model_id": "82fab504dffd43299199e7bb5e4fdd9f",
       "version_major": 2,
       "version_minor": 0
      },
      "text/plain": [
       "interactive(children=(FloatSlider(value=0.0, description='thresh', max=1.0, step=0.01), Output()), _dom_classe…"
      ]
     },
     "metadata": {},
     "output_type": "display_data"
    }
   ],
   "source": [
    "from ipywidgets import interact\n",
    "# Create a widget to show confusion matrix and the precision and recall scores given a sliding threshold value as an input\n",
    "@interact(thresh=(0, 1, .01))\n",
    "def logit_confusion(thresh):\n",
    "    y_predict = (rf_final.predict_proba(X_test)[:, 1] > thresh)\n",
    "    accuracy = accuracy_score(y_test, y_predict)\n",
    "    precision = precision_score(y_test, y_predict)\n",
    "    recall = recall_score(y_test, y_predict)\n",
    "    F1_score = f1_score(y_test, y_predict)\n",
    "    logit_confusion = confusion_matrix(y_test, y_predict)\n",
    "    \n",
    "    plt.figure(dpi=150)\n",
    "    ax = sns.heatmap(logit_confusion, cmap=plt.cm.Purples, annot=True, square=True, fmt='g',\n",
    "           xticklabels=['White', 'POC'],\n",
    "           yticklabels=['White', 'POC'])\n",
    "    bottom, top = ax.get_ylim()\n",
    "    ax.set_ylim(bottom + 0.5, top - 0.5)\n",
    "    plt.xlabel('Predicted')\n",
    "    plt.ylabel('Actual')\n",
    "    plt.title('Random Forest Confusion Matrix');\n",
    "    \n",
    "    return 'Threshold: ' + str(thresh), \"Accuracy: {:6.4f},   Precision: {:6.4f},   Recall: {:6.4f},    F1-Score: {:6.4f}\".format(accuracy, precision, recall, F1_score)"
   ]
  },
  {
   "cell_type": "markdown",
   "metadata": {},
   "source": [
    "## Logistic Regression Coefficients"
   ]
  },
  {
   "cell_type": "code",
   "execution_count": 61,
   "metadata": {},
   "outputs": [],
   "source": [
    "logit_coef = LogisticRegression(C=0.01, solver = 'liblinear', random_state=42, max_iter = 10000)\n",
    "logit_coef.fit(X_smote_train, y_smote_train)\n",
    "y_true, y_pred = y_val, logit_coef.predict(X_val)"
   ]
  },
  {
   "cell_type": "code",
   "execution_count": 62,
   "metadata": {},
   "outputs": [
    {
     "data": {
      "text/html": [
       "<div>\n",
       "<style scoped>\n",
       "    .dataframe tbody tr th:only-of-type {\n",
       "        vertical-align: middle;\n",
       "    }\n",
       "\n",
       "    .dataframe tbody tr th {\n",
       "        vertical-align: top;\n",
       "    }\n",
       "\n",
       "    .dataframe thead th {\n",
       "        text-align: right;\n",
       "    }\n",
       "</style>\n",
       "<table border=\"1\" class=\"dataframe\">\n",
       "  <thead>\n",
       "    <tr style=\"text-align: right;\">\n",
       "      <th></th>\n",
       "      <th>Feature Name</th>\n",
       "      <th>Coefficient Value</th>\n",
       "    </tr>\n",
       "  </thead>\n",
       "  <tbody>\n",
       "    <tr>\n",
       "      <th>0</th>\n",
       "      <td>signs_of_mental_illness</td>\n",
       "      <td>0.776160</td>\n",
       "    </tr>\n",
       "    <tr>\n",
       "      <th>1</th>\n",
       "      <td>month_May</td>\n",
       "      <td>0.897406</td>\n",
       "    </tr>\n",
       "    <tr>\n",
       "      <th>2</th>\n",
       "      <td>region_South</td>\n",
       "      <td>0.907179</td>\n",
       "    </tr>\n",
       "    <tr>\n",
       "      <th>3</th>\n",
       "      <td>armed</td>\n",
       "      <td>0.924072</td>\n",
       "    </tr>\n",
       "    <tr>\n",
       "      <th>4</th>\n",
       "      <td>threat_level</td>\n",
       "      <td>0.940181</td>\n",
       "    </tr>\n",
       "    <tr>\n",
       "      <th>5</th>\n",
       "      <td>flee</td>\n",
       "      <td>0.949067</td>\n",
       "    </tr>\n",
       "    <tr>\n",
       "      <th>6</th>\n",
       "      <td>age</td>\n",
       "      <td>0.955771</td>\n",
       "    </tr>\n",
       "    <tr>\n",
       "      <th>7</th>\n",
       "      <td>manner_of_death</td>\n",
       "      <td>0.957321</td>\n",
       "    </tr>\n",
       "    <tr>\n",
       "      <th>8</th>\n",
       "      <td>city_type</td>\n",
       "      <td>0.957779</td>\n",
       "    </tr>\n",
       "    <tr>\n",
       "      <th>9</th>\n",
       "      <td>month_January</td>\n",
       "      <td>0.962821</td>\n",
       "    </tr>\n",
       "    <tr>\n",
       "      <th>10</th>\n",
       "      <td>month_December</td>\n",
       "      <td>0.970452</td>\n",
       "    </tr>\n",
       "    <tr>\n",
       "      <th>11</th>\n",
       "      <td>region_Mountain</td>\n",
       "      <td>0.975840</td>\n",
       "    </tr>\n",
       "    <tr>\n",
       "      <th>12</th>\n",
       "      <td>month_March</td>\n",
       "      <td>0.985537</td>\n",
       "    </tr>\n",
       "    <tr>\n",
       "      <th>13</th>\n",
       "      <td>share_native_american</td>\n",
       "      <td>0.992145</td>\n",
       "    </tr>\n",
       "    <tr>\n",
       "      <th>14</th>\n",
       "      <td>poverty_rate</td>\n",
       "      <td>0.992256</td>\n",
       "    </tr>\n",
       "    <tr>\n",
       "      <th>15</th>\n",
       "      <td>region_Other</td>\n",
       "      <td>0.993697</td>\n",
       "    </tr>\n",
       "    <tr>\n",
       "      <th>16</th>\n",
       "      <td>month_August</td>\n",
       "      <td>0.993862</td>\n",
       "    </tr>\n",
       "    <tr>\n",
       "      <th>17</th>\n",
       "      <td>year</td>\n",
       "      <td>0.999136</td>\n",
       "    </tr>\n",
       "    <tr>\n",
       "      <th>18</th>\n",
       "      <td>day_of_week</td>\n",
       "      <td>1.000000</td>\n",
       "    </tr>\n",
       "    <tr>\n",
       "      <th>19</th>\n",
       "      <td>median_income</td>\n",
       "      <td>1.000000</td>\n",
       "    </tr>\n",
       "    <tr>\n",
       "      <th>20</th>\n",
       "      <td>region_West Coast</td>\n",
       "      <td>1.003492</td>\n",
       "    </tr>\n",
       "    <tr>\n",
       "      <th>21</th>\n",
       "      <td>share_white</td>\n",
       "      <td>1.004810</td>\n",
       "    </tr>\n",
       "    <tr>\n",
       "      <th>22</th>\n",
       "      <td>month_November</td>\n",
       "      <td>1.006908</td>\n",
       "    </tr>\n",
       "    <tr>\n",
       "      <th>23</th>\n",
       "      <td>month_July</td>\n",
       "      <td>1.006960</td>\n",
       "    </tr>\n",
       "    <tr>\n",
       "      <th>24</th>\n",
       "      <td>month_June</td>\n",
       "      <td>1.007118</td>\n",
       "    </tr>\n",
       "    <tr>\n",
       "      <th>25</th>\n",
       "      <td>percent_completed_hs</td>\n",
       "      <td>1.013310</td>\n",
       "    </tr>\n",
       "    <tr>\n",
       "      <th>26</th>\n",
       "      <td>body_camera</td>\n",
       "      <td>1.022412</td>\n",
       "    </tr>\n",
       "    <tr>\n",
       "      <th>27</th>\n",
       "      <td>month_September</td>\n",
       "      <td>1.022492</td>\n",
       "    </tr>\n",
       "    <tr>\n",
       "      <th>28</th>\n",
       "      <td>month_October</td>\n",
       "      <td>1.023366</td>\n",
       "    </tr>\n",
       "    <tr>\n",
       "      <th>29</th>\n",
       "      <td>region_Northeast</td>\n",
       "      <td>1.049401</td>\n",
       "    </tr>\n",
       "    <tr>\n",
       "      <th>30</th>\n",
       "      <td>share_hispanic</td>\n",
       "      <td>1.051153</td>\n",
       "    </tr>\n",
       "    <tr>\n",
       "      <th>31</th>\n",
       "      <td>share_asian</td>\n",
       "      <td>1.058842</td>\n",
       "    </tr>\n",
       "    <tr>\n",
       "      <th>32</th>\n",
       "      <td>share_black</td>\n",
       "      <td>1.064842</td>\n",
       "    </tr>\n",
       "    <tr>\n",
       "      <th>33</th>\n",
       "      <td>month_February</td>\n",
       "      <td>1.088870</td>\n",
       "    </tr>\n",
       "    <tr>\n",
       "      <th>34</th>\n",
       "      <td>top_30_city</td>\n",
       "      <td>1.094526</td>\n",
       "    </tr>\n",
       "    <tr>\n",
       "      <th>35</th>\n",
       "      <td>gender</td>\n",
       "      <td>1.100269</td>\n",
       "    </tr>\n",
       "    <tr>\n",
       "      <th>36</th>\n",
       "      <td>region_Midwest</td>\n",
       "      <td>1.117212</td>\n",
       "    </tr>\n",
       "  </tbody>\n",
       "</table>\n",
       "</div>"
      ],
      "text/plain": [
       "               Feature Name  Coefficient Value\n",
       "0   signs_of_mental_illness           0.776160\n",
       "1           month_May                 0.897406\n",
       "2              region_South           0.907179\n",
       "3                     armed           0.924072\n",
       "4              threat_level           0.940181\n",
       "5                      flee           0.949067\n",
       "6                       age           0.955771\n",
       "7           manner_of_death           0.957321\n",
       "8                 city_type           0.957779\n",
       "9           month_January             0.962821\n",
       "10          month_December            0.970452\n",
       "11          region_Mountain           0.975840\n",
       "12          month_March               0.985537\n",
       "13    share_native_american           0.992145\n",
       "14             poverty_rate           0.992256\n",
       "15             region_Other           0.993697\n",
       "16          month_August              0.993862\n",
       "17                     year           0.999136\n",
       "18              day_of_week           1.000000\n",
       "19            median_income           1.000000\n",
       "20        region_West Coast           1.003492\n",
       "21              share_white           1.004810\n",
       "22          month_November            1.006908\n",
       "23          month_July                1.006960\n",
       "24          month_June                1.007118\n",
       "25     percent_completed_hs           1.013310\n",
       "26              body_camera           1.022412\n",
       "27          month_September           1.022492\n",
       "28          month_October             1.023366\n",
       "29         region_Northeast           1.049401\n",
       "30           share_hispanic           1.051153\n",
       "31              share_asian           1.058842\n",
       "32              share_black           1.064842\n",
       "33          month_February            1.088870\n",
       "34              top_30_city           1.094526\n",
       "35                   gender           1.100269\n",
       "36           region_Midwest           1.117212"
      ]
     },
     "execution_count": 62,
     "metadata": {},
     "output_type": "execute_result"
    }
   ],
   "source": [
    "import math\n",
    "\n",
    "beta_list = []\n",
    "\n",
    "for array in logit_final.coef_:\n",
    "    for i in array:\n",
    "        odds = math.exp(i)\n",
    "        probs = odds/(1+odds)\n",
    "        beta_list.append(odds)\n",
    "        \n",
    "beta_coeffs_dict = {'Feature Name': model_killings_df.columns, 'Coefficient Value': beta_list}\n",
    "beta_coeffs_df = pd.DataFrame(beta_coeffs_dict)\n",
    "beta_coeffs_df = beta_coeffs_df.sort_values(by='Coefficient Value', ascending=True).reset_index(drop=True)\n",
    "beta_coeffs_df"
   ]
  },
  {
   "cell_type": "code",
   "execution_count": 63,
   "metadata": {},
   "outputs": [
    {
     "data": {
      "image/png": "[encoded data removed]",
      "text/plain": [
       "<Figure size 1440x1440 with 1 Axes>"
      ]
     },
     "metadata": {
      "needs_background": "light"
     },
     "output_type": "display_data"
    }
   ],
   "source": [
    "# Plot beta coefficients:\n",
    "\n",
    "plt.figure(figsize=(20, 20))\n",
    "plt.grid(axis='x', linestyle = '-')\n",
    "sns.barplot(x = beta_coeffs_df['Coefficient Value'],y = beta_coeffs_df['Feature Name'], palette = \"bright\")\n",
    "#             .set(xticklabels = ['-$10K', '-$5K', '$0', '$5K', '$10K', '$15K'], yticklabels = ['Concert in June', '# of Supporting Acts', 'Venue Capacity', 'Maximum Ticket Price', 'Minimum Ticket Price',  'Artist Genre: Indie Rock', 'Artist Genre: Electronic', 'Artist Genre: Pop', 'Artist Genre: Metal', 'Artist Genre: Jazz'])\n",
    "plt.title('Beta Coefficients', fontsize = 50)\n",
    "plt.xlabel('Coefficient Value (Odds)', fontsize = 30)\n",
    "plt.ylabel('Coefficient Name', fontsize = 30)\n",
    "plt.xticks(fontsize = 25)\n",
    "plt.yticks(fontsize = 25)\n",
    "# for i in beta_coeffs:\n",
    "#     bars.text(i.name,i.tip, round(i.total_bill,2), color='black', ha=\"center\")\n",
    "plt.show()"
   ]
  },
  {
   "cell_type": "code",
   "execution_count": null,
   "metadata": {},
   "outputs": [],
   "source": []
  }
 ],
 "metadata": {
  "kernelspec": {
   "display_name": "Python 3",
   "language": "python",
   "name": "python3"
  },
  "language_info": {
   "codemirror_mode": {
    "name": "ipython",
    "version": 3
   },
   "file_extension": ".py",
   "mimetype": "text/x-python",
   "name": "python",
   "nbconvert_exporter": "python",
   "pygments_lexer": "ipython3",
   "version": "3.7.3"
  }
 },
 "nbformat": 4,
 "nbformat_minor": 4
}
