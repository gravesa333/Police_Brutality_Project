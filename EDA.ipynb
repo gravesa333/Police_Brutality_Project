{
 "cells": [
  {
   "cell_type": "markdown",
   "metadata": {},
   "source": [
    "# Police Killings in the US"
   ]
  },
  {
   "cell_type": "markdown",
   "metadata": {},
   "source": [
    "- The ultimate goal for this project is to use demographics and shooting data to predict the race of victims of fatal police shootings in the US.\n",
    "- This notebook will focus on the following tasks:\n",
    "\t-  Data cleaning\n",
    "\t\t- Clean strings\n",
    "\t\t- Replace null values  \n",
    "\t-  Merging of datasets\n",
    "\t-  Creation and addition of new features\n",
    "\t-  Exploratory data analysis\n",
    "- The following notebook, \"Classification_Model\", will focus on building the actual model to make predictions."
   ]
  },
  {
   "cell_type": "markdown",
   "metadata": {},
   "source": [
    "# Load in Datasets"
   ]
  },
  {
   "cell_type": "markdown",
   "metadata": {},
   "source": [
    "- Data was gathered from two sources for this project.  \n",
    "    - Police Killings Dataset from The Washington Post:\n",
    "        - Includes every fatal shooting in the US committed by a police officer between 2015 and 2017  \n",
    "        - Features:\n",
    "            - Was the victim armed?  \n",
    "            - How old was the victim?  \n",
    "            - What is the gender of the victim?  \n",
    "            - What is the race of the victim?  \n",
    "            - Where did the shooting take place?  \n",
    "            - Did the victim appear to be suffering from mental illness?  \n",
    "            - Did the victim appear to be threatening?  \n",
    "            - Was the victim trying to flee?  \n",
    "            - Did the cop have a body camera?\n",
    "    - [Census Data](https://data.census.gov/cedsci/)\n",
    "        - Data for over 20,000 cities in the US\n",
    "        - Features:\n",
    "            - Racial demographics\n",
    "            - Median household income\n",
    "            - Poverty rate\n",
    "            - Percent of residents over 25 who have completed high school"
   ]
  },
  {
   "cell_type": "code",
   "execution_count": 1,
   "metadata": {},
   "outputs": [],
   "source": [
    "import pandas as pd\n",
    "import numpy as np\n",
    "import matplotlib.pyplot as plt\n",
    "import pickle\n",
    "import datetime as dt"
   ]
  },
  {
   "cell_type": "code",
   "execution_count": 2,
   "metadata": {},
   "outputs": [],
   "source": [
    "income_df = pd.read_csv('Data/datasets_2647_4395_MedianHouseholdIncome2015.csv', encoding = \"ISO-8859-1\")\n",
    "poverty_df = pd.read_csv('Data/datasets_2647_4395_PercentagePeopleBelowPovertyLevel.csv', encoding = \"ISO-8859-1\")\n",
    "school_df = pd.read_csv('Data/datasets_2647_4395_PercentOver25CompletedHighSchool.csv', encoding = \"ISO-8859-1\")\n",
    "killings_df = pd.read_csv('Data/datasets_2647_4395_PoliceKillingsUS.csv', encoding = \"ISO-8859-1\")\n",
    "race_df = pd.read_csv('Data/ShareRaceByCity.csv', encoding = \"ISO-8859-1\")"
   ]
  },
  {
   "cell_type": "code",
   "execution_count": 3,
   "metadata": {},
   "outputs": [
    {
     "name": "stdout",
     "output_type": "stream",
     "text": [
      "<class 'pandas.core.frame.DataFrame'>\n",
      "RangeIndex: 29322 entries, 0 to 29321\n",
      "Data columns (total 3 columns):\n",
      "Geographic Area    29322 non-null object\n",
      "City               29322 non-null object\n",
      "Median Income      29271 non-null object\n",
      "dtypes: object(3)\n",
      "memory usage: 687.4+ KB\n",
      "None\n",
      "-------------------------------------------------\n",
      "<class 'pandas.core.frame.DataFrame'>\n",
      "RangeIndex: 29329 entries, 0 to 29328\n",
      "Data columns (total 3 columns):\n",
      "Geographic Area    29329 non-null object\n",
      "City               29329 non-null object\n",
      "poverty_rate       29329 non-null object\n",
      "dtypes: object(3)\n",
      "memory usage: 687.5+ KB\n",
      "None\n",
      "-------------------------------------------------\n",
      "<class 'pandas.core.frame.DataFrame'>\n",
      "RangeIndex: 29329 entries, 0 to 29328\n",
      "Data columns (total 3 columns):\n",
      "Geographic Area         29329 non-null object\n",
      "City                    29329 non-null object\n",
      "percent_completed_hs    29329 non-null object\n",
      "dtypes: object(3)\n",
      "memory usage: 687.5+ KB\n",
      "None\n",
      "-------------------------------------------------\n",
      "<class 'pandas.core.frame.DataFrame'>\n",
      "RangeIndex: 29268 entries, 0 to 29267\n",
      "Data columns (total 7 columns):\n",
      "Geographic area          29268 non-null object\n",
      "City                     29268 non-null object\n",
      "share_white              29268 non-null object\n",
      "share_black              29268 non-null object\n",
      "share_native_american    29268 non-null object\n",
      "share_asian              29268 non-null object\n",
      "share_hispanic           29268 non-null object\n",
      "dtypes: object(7)\n",
      "memory usage: 1.6+ MB\n",
      "None\n",
      "-------------------------------------------------\n",
      "<class 'pandas.core.frame.DataFrame'>\n",
      "RangeIndex: 2535 entries, 0 to 2534\n",
      "Data columns (total 14 columns):\n",
      "id                         2535 non-null int64\n",
      "name                       2535 non-null object\n",
      "date                       2535 non-null object\n",
      "manner_of_death            2535 non-null object\n",
      "armed                      2526 non-null object\n",
      "age                        2458 non-null float64\n",
      "gender                     2535 non-null object\n",
      "race                       2340 non-null object\n",
      "city                       2535 non-null object\n",
      "state                      2535 non-null object\n",
      "signs_of_mental_illness    2535 non-null bool\n",
      "threat_level               2535 non-null object\n",
      "flee                       2470 non-null object\n",
      "body_camera                2535 non-null bool\n",
      "dtypes: bool(2), float64(1), int64(1), object(10)\n",
      "memory usage: 242.7+ KB\n",
      "None\n",
      "-------------------------------------------------\n"
     ]
    }
   ],
   "source": [
    "# Look at size of datasets, data types, and number of nulls\n",
    "\n",
    "df_list = [income_df, poverty_df, school_df, race_df, killings_df]\n",
    "\n",
    "for df in df_list:\n",
    "    print(df.info())\n",
    "    print('-------------------------------------------------')"
   ]
  },
  {
   "cell_type": "markdown",
   "metadata": {},
   "source": [
    "# Data Cleaning"
   ]
  },
  {
   "cell_type": "markdown",
   "metadata": {},
   "source": [
    "## Combine Demographic Data"
   ]
  },
  {
   "cell_type": "markdown",
   "metadata": {},
   "source": [
    "- All demographics data will need to be merged together.\n",
    "- Before accomplishing that, column names will need to match, and a unique \"city, state\" key will need to be created.\n",
    "    - This will require cleaning of the \"city\" feature."
   ]
  },
  {
   "cell_type": "code",
   "execution_count": 4,
   "metadata": {},
   "outputs": [],
   "source": [
    "# Preliminary Cleaning\n",
    "\n",
    "for df in df_list:\n",
    "    \n",
    "    df.columns = df.columns.str.replace(' ', '_')\n",
    "    df.rename(str.lower, axis='columns', inplace=True)\n",
    "\n",
    "    if 'geographic_area' in df.columns:\n",
    "        df.rename(columns={'geographic_area': 'state'}, inplace=True)\n",
    "\n",
    "    df.city = df.city.str.title()\n",
    "    df.city = df.city.str.replace(' ', '_')\n",
    "    df.state = df.state.str.upper()"
   ]
  },
  {
   "cell_type": "markdown",
   "metadata": {},
   "source": [
    "### Clean up `City` columns"
   ]
  },
  {
   "cell_type": "markdown",
   "metadata": {},
   "source": [
    "- The demographic tables have the geographic type tacked on the end of each city (e.g. city, town, CDP, etc.)\n",
    "    - These will need to be removed and ultimately extracted to be used as a separate feature."
   ]
  },
  {
   "cell_type": "code",
   "execution_count": 5,
   "metadata": {},
   "outputs": [],
   "source": [
    "def clean_cities(df):\n",
    "    \n",
    "    clean_city_list = []\n",
    "    city_type_list = []\n",
    "    \n",
    "    for city in df.city.str.split('_').values:\n",
    "        clean_city = '_'.join(city[:-1])\n",
    "        city_type = city[-1]\n",
    "        clean_city_list.append(clean_city)\n",
    "        city_type_list.append(city_type)\n",
    "    \n",
    "    df.drop(columns = ['city'], inplace=True)\n",
    "    df.insert(1, 'city', clean_city_list)\n",
    "    df.insert(2, 'city_type', city_type_list)\n",
    "    \n",
    "    df.city_type = df.city_type.str.replace('(', '')\n",
    "    df.city_type = df.city_type.str.replace(')', '')\n",
    "    df.city_type = df.city_type.str.replace('Counties', 'County')\n",
    "    df.city_type = df.city_type.str.replace('Princeton', 'City')\n",
    "    df.city_type = df.city_type.str.replace('Balance', 'Government')\n",
    "    df.city_type = df.city_type.str.replace('Bow', 'City')\n",
    "    \n",
    "    for index, value in df.city_type.iteritems():\n",
    "        if value == '':\n",
    "                df.loc[index, 'city_type'] = 'City'\n",
    "    \n",
    "    return df"
   ]
  },
  {
   "cell_type": "code",
   "execution_count": 6,
   "metadata": {},
   "outputs": [],
   "source": [
    "for df in df_list[:-1]:\n",
    "    df = clean_cities(df)"
   ]
  },
  {
   "cell_type": "code",
   "execution_count": 7,
   "metadata": {},
   "outputs": [
    {
     "data": {
      "text/plain": [
       "City            10167\n",
       "Cdp              9691\n",
       "Town             4351\n",
       "Village          3762\n",
       "Borough          1209\n",
       "County            127\n",
       "Government         17\n",
       "Municipality        4\n",
       "Corporation         1\n",
       "Name: city_type, dtype: int64"
      ]
     },
     "execution_count": 7,
     "metadata": {},
     "output_type": "execute_result"
    }
   ],
   "source": [
    "school_df.city_type.value_counts()"
   ]
  },
  {
   "cell_type": "markdown",
   "metadata": {},
   "source": [
    "### Create Merge Key"
   ]
  },
  {
   "cell_type": "markdown",
   "metadata": {},
   "source": [
    "- City + State creates unique key for each row (there are multiple cities with the same name that need to be differentiated)"
   ]
  },
  {
   "cell_type": "code",
   "execution_count": 8,
   "metadata": {},
   "outputs": [],
   "source": [
    "for df in df_list:\n",
    "    df.insert(0, 'merge_key', df['city'] + '_' + df['state'])"
   ]
  },
  {
   "cell_type": "code",
   "execution_count": 10,
   "metadata": {},
   "outputs": [],
   "source": [
    "demographics_df = poverty_df.merge(school_df[['percent_completed_hs','merge_key']], how='outer', on='merge_key')    \\\n",
    "                            .merge(race_df[['share_white', 'share_black', 'share_native_american', 'share_asian', 'share_hispanic', 'merge_key']], how='outer', on='merge_key')    \\\n",
    "                            .merge(income_df[['median_income','merge_key']], how='outer', on='merge_key')"
   ]
  },
  {
   "cell_type": "code",
   "execution_count": 11,
   "metadata": {},
   "outputs": [
    {
     "name": "stdout",
     "output_type": "stream",
     "text": [
      "<class 'pandas.core.frame.DataFrame'>\n",
      "Int64Index: 30756 entries, 0 to 30755\n",
      "Data columns (total 12 columns):\n",
      "merge_key                30756 non-null object\n",
      "state                    30673 non-null object\n",
      "city                     30673 non-null object\n",
      "city_type                30673 non-null object\n",
      "poverty_rate             30673 non-null object\n",
      "percent_completed_hs     30673 non-null object\n",
      "share_white              30612 non-null object\n",
      "share_black              30612 non-null object\n",
      "share_native_american    30612 non-null object\n",
      "share_asian              30612 non-null object\n",
      "share_hispanic           30612 non-null object\n",
      "median_income            30608 non-null object\n",
      "dtypes: object(12)\n",
      "memory usage: 3.1+ MB\n"
     ]
    }
   ],
   "source": [
    "demographics_df.info()"
   ]
  },
  {
   "cell_type": "markdown",
   "metadata": {},
   "source": [
    "## Merge `killings_df` with `demographics_df`"
   ]
  },
  {
   "cell_type": "markdown",
   "metadata": {},
   "source": [
    "- For each shooting, the corresponding demographics for the city in which the shooting took place will be joined."
   ]
  },
  {
   "cell_type": "code",
   "execution_count": 12,
   "metadata": {},
   "outputs": [],
   "source": [
    "merge_df = demographics_df.copy()"
   ]
  },
  {
   "cell_type": "code",
   "execution_count": 13,
   "metadata": {},
   "outputs": [],
   "source": [
    "merge_df.drop(columns = ['city', 'state'], inplace=True)"
   ]
  },
  {
   "cell_type": "code",
   "execution_count": 14,
   "metadata": {},
   "outputs": [],
   "source": [
    "killings_df = killings_df.merge(merge_df, how='left', on='merge_key')"
   ]
  },
  {
   "cell_type": "markdown",
   "metadata": {},
   "source": [
    "## Replace Null Values\n",
    "\n",
    "- armed: replace with \"unknown\"\n",
    "- age: replace with median of the state\n",
    "- race: replace with \"not identified\"\n",
    "- flee: replace with \"not applicable\"\n",
    "- demographics: replace with nearby city values\n",
    "    - median income also has some non-numeric values that will need to be fixed"
   ]
  },
  {
   "cell_type": "code",
   "execution_count": 15,
   "metadata": {},
   "outputs": [],
   "source": [
    "# fill armed nulls\n",
    "\n",
    "killings_df.armed.fillna('Unknown', inplace=True)"
   ]
  },
  {
   "cell_type": "code",
   "execution_count": 16,
   "metadata": {},
   "outputs": [
    {
     "name": "stderr",
     "output_type": "stream",
     "text": [
      "/Users/andrewgraves/anaconda3/lib/python3.7/site-packages/ipykernel_launcher.py:8: UserWarning: Boolean Series key will be reindexed to match DataFrame index.\n",
      "  \n"
     ]
    }
   ],
   "source": [
    "# fill age nulls\n",
    "\n",
    "age_no_nulls = killings_df[killings_df.age.isna() == False]\n",
    "\n",
    "median_age_dict = {}\n",
    "\n",
    "for state in set(killings_df.state.values):\n",
    "    median_age_dict[state] = np.median(age_no_nulls[killings_df.state == state].age.values)"
   ]
  },
  {
   "cell_type": "code",
   "execution_count": 17,
   "metadata": {},
   "outputs": [],
   "source": [
    "killings_df.age.fillna(-100, inplace=True)\n",
    "\n",
    "for index, row in killings_df.iterrows():\n",
    "    for key, value in median_age_dict.items():\n",
    "        if key == row.state and row.age < 0:\n",
    "            killings_df.loc[index, 'age'] = value"
   ]
  },
  {
   "cell_type": "code",
   "execution_count": 18,
   "metadata": {},
   "outputs": [],
   "source": [
    "# fill race nulls\n",
    "\n",
    "killings_df.race.fillna('Not Identified', inplace=True)"
   ]
  },
  {
   "cell_type": "code",
   "execution_count": 19,
   "metadata": {},
   "outputs": [],
   "source": [
    "# fill flee nulls\n",
    "\n",
    "killings_df.flee.fillna('Not Applicable', inplace=True)"
   ]
  },
  {
   "cell_type": "code",
   "execution_count": 20,
   "metadata": {},
   "outputs": [],
   "source": [
    "# fill poverty_rate, percent_completed_hs, and median_income nulls\n",
    "\n",
    "for index, row in killings_df.iterrows():\n",
    "    if row.city == 'Macon':\n",
    "        killings_df.loc[index, 'poverty_rate'] = killings_df[killings_df.city == 'Fort_Valley'].poverty_rate.values[0]\n",
    "        killings_df.loc[index, 'percent_completed_hs'] = killings_df[killings_df.city == 'Fort_Valley'].percent_completed_hs.values[0]\n",
    "        killings_df.loc[index, 'median_income'] = killings_df[killings_df.city == 'Fort_Valley'].median_income.values[0]\n",
    "    if row.city == 'Indianapolis':\n",
    "        killings_df.loc[index, 'median_income'] = killings_df[killings_df.city == 'Beech_Grove'].median_income.values[0]\n",
    "    if row.median_income == '(X)':\n",
    "        killings_df.loc[index, 'median_income'] = np.nan\n",
    "    if row.median_income == '-':\n",
    "        killings_df.loc[index, 'median_income'] = np.nan"
   ]
  },
  {
   "cell_type": "code",
   "execution_count": 24,
   "metadata": {},
   "outputs": [],
   "source": [
    "killings_df = killings_df.astype({'median_income': 'float64'})"
   ]
  },
  {
   "cell_type": "code",
   "execution_count": 25,
   "metadata": {},
   "outputs": [
    {
     "name": "stderr",
     "output_type": "stream",
     "text": [
      "/Users/andrewgraves/anaconda3/lib/python3.7/site-packages/ipykernel_launcher.py:6: UserWarning: Boolean Series key will be reindexed to match DataFrame index.\n",
      "  \n"
     ]
    }
   ],
   "source": [
    "income_no_nulls = killings_df[killings_df.median_income.isna() == False]\n",
    "\n",
    "median_income_dict = {}\n",
    "\n",
    "for state in set(killings_df.state.values):\n",
    "    median_income_dict[state] = np.median(income_no_nulls[killings_df.state == state].median_income.values)"
   ]
  },
  {
   "cell_type": "code",
   "execution_count": 26,
   "metadata": {},
   "outputs": [],
   "source": [
    "killings_df.median_income.fillna(-100, inplace=True)\n",
    "\n",
    "for index, row in killings_df.iterrows():\n",
    "    for key, value in median_income_dict.items():\n",
    "        if key == row.state and row.median_income < 0:\n",
    "            killings_df.loc[index, 'median_income'] = value"
   ]
  },
  {
   "cell_type": "code",
   "execution_count": 27,
   "metadata": {},
   "outputs": [
    {
     "name": "stdout",
     "output_type": "stream",
     "text": [
      "<class 'pandas.core.frame.DataFrame'>\n",
      "Int64Index: 2640 entries, 0 to 2639\n",
      "Data columns (total 24 columns):\n",
      "merge_key                  2640 non-null object\n",
      "id                         2640 non-null int64\n",
      "name                       2640 non-null object\n",
      "date                       2640 non-null object\n",
      "manner_of_death            2640 non-null object\n",
      "armed                      2640 non-null object\n",
      "age                        2640 non-null float64\n",
      "gender                     2640 non-null object\n",
      "race                       2640 non-null object\n",
      "city                       2640 non-null object\n",
      "state                      2640 non-null object\n",
      "signs_of_mental_illness    2640 non-null bool\n",
      "threat_level               2640 non-null object\n",
      "flee                       2640 non-null object\n",
      "body_camera                2640 non-null bool\n",
      "city_type                  2351 non-null object\n",
      "poverty_rate               2352 non-null object\n",
      "percent_completed_hs       2352 non-null object\n",
      "share_white                2350 non-null object\n",
      "share_black                2350 non-null object\n",
      "share_native_american      2350 non-null object\n",
      "share_asian                2350 non-null object\n",
      "share_hispanic             2350 non-null object\n",
      "median_income              2640 non-null float64\n",
      "dtypes: bool(2), float64(2), int64(1), object(19)\n",
      "memory usage: 559.5+ KB\n"
     ]
    }
   ],
   "source": [
    "killings_df.info()"
   ]
  },
  {
   "cell_type": "markdown",
   "metadata": {},
   "source": [
    "## Change Data Types"
   ]
  },
  {
   "cell_type": "markdown",
   "metadata": {},
   "source": [
    "- For poverty_rate, percent_completed_hs, share_white, share_black, share_native_american, share_asian, share_hispanic"
   ]
  },
  {
   "cell_type": "code",
   "execution_count": 28,
   "metadata": {},
   "outputs": [],
   "source": [
    "killings_df = killings_df.astype({'poverty_rate': 'float64',\n",
    "                                  'percent_completed_hs': 'float64',\n",
    "                                  'share_white': 'float64',\n",
    "                                  'share_black': 'float64',\n",
    "                                  'share_native_american': 'float64',\n",
    "                                  'share_asian': 'float64',\n",
    "                                  'share_hispanic': 'float64'})"
   ]
  },
  {
   "cell_type": "markdown",
   "metadata": {},
   "source": [
    "## Convert Date to Datetime"
   ]
  },
  {
   "cell_type": "markdown",
   "metadata": {},
   "source": [
    "- Insert new features based on date:\n",
    "    - Year\n",
    "    - Month\n",
    "    - Day of Week"
   ]
  },
  {
   "cell_type": "code",
   "execution_count": 29,
   "metadata": {},
   "outputs": [],
   "source": [
    "date = pd.to_datetime(killings_df.date, format='%d/%m/%y')\n",
    "killings_df.date = date"
   ]
  },
  {
   "cell_type": "code",
   "execution_count": 30,
   "metadata": {},
   "outputs": [],
   "source": [
    "killings_df.insert(4, 'year', killings_df.date.dt.year)\n",
    "killings_df.insert(5, 'month', killings_df.date.dt.month)\n",
    "killings_df.insert(6, 'day_of_week', killings_df.date.dt.dayofweek)"
   ]
  },
  {
   "cell_type": "code",
   "execution_count": 31,
   "metadata": {},
   "outputs": [],
   "source": [
    "# # Create Part of Week column:\n",
    "\n",
    "# def part_of_week_helper(dow):\n",
    "#     if dow in [0,1,2,3]:\n",
    "#         return 'Weekday'\n",
    "#     else:\n",
    "#         return 'Weekend'"
   ]
  },
  {
   "cell_type": "code",
   "execution_count": 32,
   "metadata": {},
   "outputs": [],
   "source": [
    "# killings_df.insert(7, 'part_of_week', killings_df.day_of_week.apply(part_of_week_helper))"
   ]
  },
  {
   "cell_type": "code",
   "execution_count": 33,
   "metadata": {},
   "outputs": [],
   "source": [
    "# Create and add day of week column:\n",
    "\n",
    "def day_of_week_helper(dow):\n",
    "    if dow == 0:\n",
    "        return 'Monday'\n",
    "    elif dow == 1:\n",
    "        return 'Tuesday'\n",
    "    elif dow == 2:\n",
    "        return 'Wednesday'\n",
    "    elif dow == 3:\n",
    "        return 'Thursday'\n",
    "    elif dow == 4:\n",
    "        return 'Friday'\n",
    "    elif dow == 5:\n",
    "        return 'Saturday'\n",
    "    else:\n",
    "        return 'Sunday'"
   ]
  },
  {
   "cell_type": "code",
   "execution_count": 34,
   "metadata": {},
   "outputs": [],
   "source": [
    "killings_df.day_of_week = killings_df.day_of_week.apply(day_of_week_helper)"
   ]
  },
  {
   "cell_type": "code",
   "execution_count": 35,
   "metadata": {},
   "outputs": [],
   "source": [
    "# # Create Season Column:\n",
    "\n",
    "# def season_helper(month):\n",
    "#     if month in [12, 1, 2]:\n",
    "#         return 'Winter'\n",
    "#     elif month in [3,4,5]:\n",
    "#         return 'Spring'\n",
    "#     elif month in [6,7,8]:\n",
    "#         return 'Summer'\n",
    "#     else:\n",
    "#         return 'Fall'\n",
    "        "
   ]
  },
  {
   "cell_type": "code",
   "execution_count": 36,
   "metadata": {},
   "outputs": [],
   "source": [
    "# killings_df.insert(6, 'season', killings_df.month.apply(season_helper))"
   ]
  },
  {
   "cell_type": "code",
   "execution_count": 37,
   "metadata": {},
   "outputs": [],
   "source": [
    "# Edit Month column:\n",
    "\n",
    "def month_helper(month):\n",
    "    if month == 1:\n",
    "        return 'January'\n",
    "    elif month == 2:\n",
    "        return 'February'\n",
    "    elif month == 3:\n",
    "        return 'March'\n",
    "    elif month == 4:\n",
    "        return 'April'\n",
    "    elif month == 5:\n",
    "        return 'May'\n",
    "    elif month == 6:\n",
    "        return 'June'\n",
    "    elif month == 7:\n",
    "        return 'July'\n",
    "    elif month == 8:\n",
    "        return 'August'\n",
    "    elif month == 9:\n",
    "        return 'September'\n",
    "    elif month == 10:\n",
    "        return 'October'\n",
    "    elif month == 11:\n",
    "        return 'November'\n",
    "    else:\n",
    "        return 'December'"
   ]
  },
  {
   "cell_type": "code",
   "execution_count": 38,
   "metadata": {},
   "outputs": [],
   "source": [
    "killings_df.month = killings_df.month.apply(month_helper)"
   ]
  },
  {
   "cell_type": "markdown",
   "metadata": {},
   "source": [
    "## Simplified Features"
   ]
  },
  {
   "cell_type": "markdown",
   "metadata": {},
   "source": [
    "### Create Region from States"
   ]
  },
  {
   "cell_type": "code",
   "execution_count": 39,
   "metadata": {},
   "outputs": [],
   "source": [
    "# Create and add region column:\n",
    "\n",
    "def region_helper(state):\n",
    "    if state in ['CA', 'OR', 'WA']:\n",
    "        return 'West Coast'\n",
    "    elif state in ['ID', 'MT', 'WY', 'CO', 'NV', 'UT', 'AZ', 'NM']:\n",
    "        return 'Mountain'\n",
    "    elif state in ['ND', 'SD', 'NE', 'KS', 'IA']:\n",
    "        return 'Central'\n",
    "    elif state in ['MN', 'WI', 'MI', 'IL', 'MO', 'IN', 'OH']:\n",
    "        return 'Midwest'\n",
    "    elif state in ['OK', 'TX', 'AR', 'LA', 'MS', 'AL', 'FL', 'GA',    \\\n",
    "                   'SC', 'NC', 'KY', 'TN', 'VA', 'WV']:\n",
    "        return 'South'\n",
    "    elif state in ['HI', 'AK']:\n",
    "        return 'Other'\n",
    "    else:\n",
    "        return 'Northeast'"
   ]
  },
  {
   "cell_type": "code",
   "execution_count": 40,
   "metadata": {},
   "outputs": [],
   "source": [
    "killings_df.insert(9, 'region', killings_df.state.apply(region_helper))"
   ]
  },
  {
   "cell_type": "markdown",
   "metadata": {},
   "source": [
    "### Simplify `armed` column"
   ]
  },
  {
   "cell_type": "code",
   "execution_count": 41,
   "metadata": {},
   "outputs": [],
   "source": [
    "guns = ['gun', 'crossbow', 'gun and knife', 'guns and explosives', 'hatchet and gun', 'machete and gun', 'bean-bag gun', 'nail gun']\n",
    "sharp_objects = ['knife', 'machete', 'ax', 'sword', 'box cutter', 'hatchet', 'sharp object', 'pole and knife',    \\\n",
    "                 'straight edge razor', 'glass shard', 'lawn mower blade']\n",
    "blunt_objects = ['baseball bat', 'metal pipe', 'hammer', 'blunt object', 'rock', 'brick', 'metal object', 'piece of wood',    \\\n",
    "                 'beer bottle', 'metal pole', 'meat cleaver', 'pipe', 'baton', 'shovel', 'stapler', \"contractor's level\", 'chain',    \\\n",
    "                 'flagpole', 'baseball bat and bottle', 'pole', 'air conditioner', 'tire iron', 'oar', 'fireworks']\n",
    "non_lethal_objects = ['toy weapon', 'pen', 'flashlight']\n",
    "pointed_objects = ['screwdriver', 'scissors', 'metal stick', 'metal rake', 'pitchfork', 'pick-axe', 'baseball bat and fireplace poker',    \\\n",
    "                   'garden tool', 'crowbar', 'spear', 'bayonet', 'carjack', 'metal hand tool', 'cordless drill']\n",
    "powered_objects = ['Taser', 'chainsaw', 'hand torch']\n",
    "vehicles = ['vehicle', 'motorcycle']\n",
    "unarmed = ['unarmed']\n"
   ]
  },
  {
   "cell_type": "code",
   "execution_count": 42,
   "metadata": {},
   "outputs": [],
   "source": [
    "def armed_helper(arm):\n",
    "    if arm in guns:\n",
    "        return 'gun'\n",
    "    elif arm == 'unarmed':\n",
    "        return 'unarmed'\n",
    "    elif arm in sharp_objects:\n",
    "        return 'sharp object'\n",
    "    elif arm in blunt_objects:\n",
    "        return 'blunt object'\n",
    "    elif arm in non_lethal_objects:\n",
    "        return 'non-lethal object'\n",
    "    elif arm in pointed_objects:\n",
    "        return 'sharp object'\n",
    "    elif arm in powered_objects:\n",
    "        return 'gun'\n",
    "    elif arm in vehicles:\n",
    "        return 'vehicle'\n",
    "    else:\n",
    "        return 'undetermined'"
   ]
  },
  {
   "cell_type": "code",
   "execution_count": 43,
   "metadata": {},
   "outputs": [],
   "source": [
    "killings_df.armed = killings_df.armed.apply(armed_helper)"
   ]
  },
  {
   "cell_type": "code",
   "execution_count": 44,
   "metadata": {},
   "outputs": [
    {
     "data": {
      "text/plain": [
       "gun                  1457\n",
       "sharp object          449\n",
       "unarmed               231\n",
       "vehicle               178\n",
       "undetermined          161\n",
       "non-lethal object     106\n",
       "blunt object           58\n",
       "Name: armed, dtype: int64"
      ]
     },
     "execution_count": 44,
     "metadata": {},
     "output_type": "execute_result"
    }
   ],
   "source": [
    "killings_df.armed.value_counts()"
   ]
  },
  {
   "cell_type": "markdown",
   "metadata": {},
   "source": [
    "# EDA"
   ]
  },
  {
   "cell_type": "markdown",
   "metadata": {},
   "source": [
    "The classifier model will be built to determine if a victim is white or a POC. Therefore, the overall race distribution will be compared to the race distribution for each feature. The following question needs to be asked:\n",
    "- **Are there any trends that make race more predictable for each shooting?**\n",
    "- i.e. Outside of their race, what is a POC doing differently from white people when they are shot by police?"
   ]
  },
  {
   "cell_type": "markdown",
   "metadata": {},
   "source": [
    "**Other questions to ask**\n",
    "- What are the demographics of the cities with the most police killings?\n",
    "    - How does this compare with the rest of the cities?\n",
    "- What is the correlation between poverty_rate and median_income?\n",
    "- What is the correlation between poverty_rate and percent_completed_hs?\n"
   ]
  },
  {
   "cell_type": "markdown",
   "metadata": {},
   "source": [
    "---"
   ]
  },
  {
   "cell_type": "markdown",
   "metadata": {},
   "source": [
    "The results below will inform how the classifier model is built in the next notebook."
   ]
  },
  {
   "cell_type": "markdown",
   "metadata": {},
   "source": [
    "---"
   ]
  },
  {
   "cell_type": "code",
   "execution_count": 45,
   "metadata": {},
   "outputs": [],
   "source": [
    "demo_killings_df = killings_df[killings_df.share_white.isna() == False].reset_index(drop=True)"
   ]
  },
  {
   "cell_type": "code",
   "execution_count": 46,
   "metadata": {},
   "outputs": [],
   "source": [
    "# with open('Data/demo_killings_df.pkl', 'wb') as to_write:\n",
    "#     pickle.dump(demo_killings_df, to_write)"
   ]
  },
  {
   "cell_type": "markdown",
   "metadata": {},
   "source": [
    "## Overall Race Distribution and Correlations"
   ]
  },
  {
   "cell_type": "code",
   "execution_count": 48,
   "metadata": {},
   "outputs": [
    {
     "data": {
      "image/png": "[encoded data removed]",
      "text/plain": [
       "<Figure size 432x288 with 1 Axes>"
      ]
     },
     "metadata": {
      "needs_background": "light"
     },
     "output_type": "display_data"
    }
   ],
   "source": [
    "plt.bar(demo_killings_df.race.value_counts().index, demo_killings_df.race.value_counts().values)\n",
    "plt.title('Overall Race Distribution')\n",
    "plt.show()"
   ]
  },
  {
   "cell_type": "code",
   "execution_count": 49,
   "metadata": {},
   "outputs": [],
   "source": [
    "def correlations(df):\n",
    "\n",
    "    return df[['year', 'age','poverty_rate', 'percent_completed_hs', 'share_white', 'share_black',\n",
    "               'share_native_american', 'share_asian', 'share_hispanic', 'median_income']].corr().style.background_gradient()"
   ]
  },
  {
   "cell_type": "code",
   "execution_count": 50,
   "metadata": {},
   "outputs": [
    {
     "data": {
      "text/html": [
       "<style  type=\"text/css\" >\n",
       "    #T_d7f0caee_ac58_11ea_b225_88e9fe790f6erow0_col0 {\n",
       "            background-color:  #023858;\n",
       "            color:  #f1f1f1;\n",
       "        }    #T_d7f0caee_ac58_11ea_b225_88e9fe790f6erow0_col1 {\n",
       "            background-color:  #efe9f3;\n",
       "            color:  #000000;\n",
       "        }    #T_d7f0caee_ac58_11ea_b225_88e9fe790f6erow0_col2 {\n",
       "            background-color:  #91b5d6;\n",
       "            color:  #000000;\n",
       "        }    #T_d7f0caee_ac58_11ea_b225_88e9fe790f6erow0_col3 {\n",
       "            background-color:  #9ebad9;\n",
       "            color:  #000000;\n",
       "        }    #T_d7f0caee_ac58_11ea_b225_88e9fe790f6erow0_col4 {\n",
       "            background-color:  #99b8d8;\n",
       "            color:  #000000;\n",
       "        }    #T_d7f0caee_ac58_11ea_b225_88e9fe790f6erow0_col5 {\n",
       "            background-color:  #9ab8d8;\n",
       "            color:  #000000;\n",
       "        }    #T_d7f0caee_ac58_11ea_b225_88e9fe790f6erow0_col6 {\n",
       "            background-color:  #dcdaeb;\n",
       "            color:  #000000;\n",
       "        }    #T_d7f0caee_ac58_11ea_b225_88e9fe790f6erow0_col7 {\n",
       "            background-color:  #cdd0e5;\n",
       "            color:  #000000;\n",
       "        }    #T_d7f0caee_ac58_11ea_b225_88e9fe790f6erow0_col8 {\n",
       "            background-color:  #b3c3de;\n",
       "            color:  #000000;\n",
       "        }    #T_d7f0caee_ac58_11ea_b225_88e9fe790f6erow0_col9 {\n",
       "            background-color:  #8eb3d5;\n",
       "            color:  #000000;\n",
       "        }    #T_d7f0caee_ac58_11ea_b225_88e9fe790f6erow1_col0 {\n",
       "            background-color:  #f6eff7;\n",
       "            color:  #000000;\n",
       "        }    #T_d7f0caee_ac58_11ea_b225_88e9fe790f6erow1_col1 {\n",
       "            background-color:  #023858;\n",
       "            color:  #f1f1f1;\n",
       "        }    #T_d7f0caee_ac58_11ea_b225_88e9fe790f6erow1_col2 {\n",
       "            background-color:  #99b8d8;\n",
       "            color:  #000000;\n",
       "        }    #T_d7f0caee_ac58_11ea_b225_88e9fe790f6erow1_col3 {\n",
       "            background-color:  #9cb9d9;\n",
       "            color:  #000000;\n",
       "        }    #T_d7f0caee_ac58_11ea_b225_88e9fe790f6erow1_col4 {\n",
       "            background-color:  #6ba5cd;\n",
       "            color:  #000000;\n",
       "        }    #T_d7f0caee_ac58_11ea_b225_88e9fe790f6erow1_col5 {\n",
       "            background-color:  #afc1dd;\n",
       "            color:  #000000;\n",
       "        }    #T_d7f0caee_ac58_11ea_b225_88e9fe790f6erow1_col6 {\n",
       "            background-color:  #e6e2ef;\n",
       "            color:  #000000;\n",
       "        }    #T_d7f0caee_ac58_11ea_b225_88e9fe790f6erow1_col7 {\n",
       "            background-color:  #dbdaeb;\n",
       "            color:  #000000;\n",
       "        }    #T_d7f0caee_ac58_11ea_b225_88e9fe790f6erow1_col8 {\n",
       "            background-color:  #bfc9e1;\n",
       "            color:  #000000;\n",
       "        }    #T_d7f0caee_ac58_11ea_b225_88e9fe790f6erow1_col9 {\n",
       "            background-color:  #93b5d6;\n",
       "            color:  #000000;\n",
       "        }    #T_d7f0caee_ac58_11ea_b225_88e9fe790f6erow2_col0 {\n",
       "            background-color:  #f8f1f8;\n",
       "            color:  #000000;\n",
       "        }    #T_d7f0caee_ac58_11ea_b225_88e9fe790f6erow2_col1 {\n",
       "            background-color:  #f5eff6;\n",
       "            color:  #000000;\n",
       "        }    #T_d7f0caee_ac58_11ea_b225_88e9fe790f6erow2_col2 {\n",
       "            background-color:  #023858;\n",
       "            color:  #f1f1f1;\n",
       "        }    #T_d7f0caee_ac58_11ea_b225_88e9fe790f6erow2_col3 {\n",
       "            background-color:  #f5eff6;\n",
       "            color:  #000000;\n",
       "        }    #T_d7f0caee_ac58_11ea_b225_88e9fe790f6erow2_col4 {\n",
       "            background-color:  #d9d8ea;\n",
       "            color:  #000000;\n",
       "        }    #T_d7f0caee_ac58_11ea_b225_88e9fe790f6erow2_col5 {\n",
       "            background-color:  #358fc0;\n",
       "            color:  #000000;\n",
       "        }    #T_d7f0caee_ac58_11ea_b225_88e9fe790f6erow2_col6 {\n",
       "            background-color:  #d1d2e6;\n",
       "            color:  #000000;\n",
       "        }    #T_d7f0caee_ac58_11ea_b225_88e9fe790f6erow2_col7 {\n",
       "            background-color:  #f1ebf5;\n",
       "            color:  #000000;\n",
       "        }    #T_d7f0caee_ac58_11ea_b225_88e9fe790f6erow2_col8 {\n",
       "            background-color:  #88b1d4;\n",
       "            color:  #000000;\n",
       "        }    #T_d7f0caee_ac58_11ea_b225_88e9fe790f6erow2_col9 {\n",
       "            background-color:  #fff7fb;\n",
       "            color:  #000000;\n",
       "        }    #T_d7f0caee_ac58_11ea_b225_88e9fe790f6erow3_col0 {\n",
       "            background-color:  #f2ecf5;\n",
       "            color:  #000000;\n",
       "        }    #T_d7f0caee_ac58_11ea_b225_88e9fe790f6erow3_col1 {\n",
       "            background-color:  #e9e5f1;\n",
       "            color:  #000000;\n",
       "        }    #T_d7f0caee_ac58_11ea_b225_88e9fe790f6erow3_col2 {\n",
       "            background-color:  #e7e3f0;\n",
       "            color:  #000000;\n",
       "        }    #T_d7f0caee_ac58_11ea_b225_88e9fe790f6erow3_col3 {\n",
       "            background-color:  #023858;\n",
       "            color:  #f1f1f1;\n",
       "        }    #T_d7f0caee_ac58_11ea_b225_88e9fe790f6erow3_col4 {\n",
       "            background-color:  #4c99c5;\n",
       "            color:  #000000;\n",
       "        }    #T_d7f0caee_ac58_11ea_b225_88e9fe790f6erow3_col5 {\n",
       "            background-color:  #b1c2de;\n",
       "            color:  #000000;\n",
       "        }    #T_d7f0caee_ac58_11ea_b225_88e9fe790f6erow3_col6 {\n",
       "            background-color:  #d8d7e9;\n",
       "            color:  #000000;\n",
       "        }    #T_d7f0caee_ac58_11ea_b225_88e9fe790f6erow3_col7 {\n",
       "            background-color:  #c5cce3;\n",
       "            color:  #000000;\n",
       "        }    #T_d7f0caee_ac58_11ea_b225_88e9fe790f6erow3_col8 {\n",
       "            background-color:  #fff7fb;\n",
       "            color:  #000000;\n",
       "        }    #T_d7f0caee_ac58_11ea_b225_88e9fe790f6erow3_col9 {\n",
       "            background-color:  #2d8abd;\n",
       "            color:  #000000;\n",
       "        }    #T_d7f0caee_ac58_11ea_b225_88e9fe790f6erow4_col0 {\n",
       "            background-color:  #f7f0f7;\n",
       "            color:  #000000;\n",
       "        }    #T_d7f0caee_ac58_11ea_b225_88e9fe790f6erow4_col1 {\n",
       "            background-color:  #c9cee4;\n",
       "            color:  #000000;\n",
       "        }    #T_d7f0caee_ac58_11ea_b225_88e9fe790f6erow4_col2 {\n",
       "            background-color:  #d2d2e7;\n",
       "            color:  #000000;\n",
       "        }    #T_d7f0caee_ac58_11ea_b225_88e9fe790f6erow4_col3 {\n",
       "            background-color:  #589ec8;\n",
       "            color:  #000000;\n",
       "        }    #T_d7f0caee_ac58_11ea_b225_88e9fe790f6erow4_col4 {\n",
       "            background-color:  #023858;\n",
       "            color:  #f1f1f1;\n",
       "        }    #T_d7f0caee_ac58_11ea_b225_88e9fe790f6erow4_col5 {\n",
       "            background-color:  #fff7fb;\n",
       "            color:  #000000;\n",
       "        }    #T_d7f0caee_ac58_11ea_b225_88e9fe790f6erow4_col6 {\n",
       "            background-color:  #fff7fb;\n",
       "            color:  #000000;\n",
       "        }    #T_d7f0caee_ac58_11ea_b225_88e9fe790f6erow4_col7 {\n",
       "            background-color:  #fff7fb;\n",
       "            color:  #000000;\n",
       "        }    #T_d7f0caee_ac58_11ea_b225_88e9fe790f6erow4_col8 {\n",
       "            background-color:  #d2d2e7;\n",
       "            color:  #000000;\n",
       "        }    #T_d7f0caee_ac58_11ea_b225_88e9fe790f6erow4_col9 {\n",
       "            background-color:  #80aed2;\n",
       "            color:  #000000;\n",
       "        }    #T_d7f0caee_ac58_11ea_b225_88e9fe790f6erow5_col0 {\n",
       "            background-color:  #f8f1f8;\n",
       "            color:  #000000;\n",
       "        }    #T_d7f0caee_ac58_11ea_b225_88e9fe790f6erow5_col1 {\n",
       "            background-color:  #fdf5fa;\n",
       "            color:  #000000;\n",
       "        }    #T_d7f0caee_ac58_11ea_b225_88e9fe790f6erow5_col2 {\n",
       "            background-color:  #2f8bbe;\n",
       "            color:  #000000;\n",
       "        }    #T_d7f0caee_ac58_11ea_b225_88e9fe790f6erow5_col3 {\n",
       "            background-color:  #bdc8e1;\n",
       "            color:  #000000;\n",
       "        }    #T_d7f0caee_ac58_11ea_b225_88e9fe790f6erow5_col4 {\n",
       "            background-color:  #fff7fb;\n",
       "            color:  #000000;\n",
       "        }    #T_d7f0caee_ac58_11ea_b225_88e9fe790f6erow5_col5 {\n",
       "            background-color:  #023858;\n",
       "            color:  #f1f1f1;\n",
       "        }    #T_d7f0caee_ac58_11ea_b225_88e9fe790f6erow5_col6 {\n",
       "            background-color:  #ebe6f2;\n",
       "            color:  #000000;\n",
       "        }    #T_d7f0caee_ac58_11ea_b225_88e9fe790f6erow5_col7 {\n",
       "            background-color:  #e3e0ee;\n",
       "            color:  #000000;\n",
       "        }    #T_d7f0caee_ac58_11ea_b225_88e9fe790f6erow5_col8 {\n",
       "            background-color:  #d4d4e8;\n",
       "            color:  #000000;\n",
       "        }    #T_d7f0caee_ac58_11ea_b225_88e9fe790f6erow5_col9 {\n",
       "            background-color:  #cacee5;\n",
       "            color:  #000000;\n",
       "        }    #T_d7f0caee_ac58_11ea_b225_88e9fe790f6erow6_col0 {\n",
       "            background-color:  #fef6fb;\n",
       "            color:  #000000;\n",
       "        }    #T_d7f0caee_ac58_11ea_b225_88e9fe790f6erow6_col1 {\n",
       "            background-color:  #fef6fa;\n",
       "            color:  #000000;\n",
       "        }    #T_d7f0caee_ac58_11ea_b225_88e9fe790f6erow6_col2 {\n",
       "            background-color:  #8cb3d5;\n",
       "            color:  #000000;\n",
       "        }    #T_d7f0caee_ac58_11ea_b225_88e9fe790f6erow6_col3 {\n",
       "            background-color:  #abbfdc;\n",
       "            color:  #000000;\n",
       "        }    #T_d7f0caee_ac58_11ea_b225_88e9fe790f6erow6_col4 {\n",
       "            background-color:  #d6d6e9;\n",
       "            color:  #000000;\n",
       "        }    #T_d7f0caee_ac58_11ea_b225_88e9fe790f6erow6_col5 {\n",
       "            background-color:  #b7c5df;\n",
       "            color:  #000000;\n",
       "        }    #T_d7f0caee_ac58_11ea_b225_88e9fe790f6erow6_col6 {\n",
       "            background-color:  #023858;\n",
       "            color:  #f1f1f1;\n",
       "        }    #T_d7f0caee_ac58_11ea_b225_88e9fe790f6erow6_col7 {\n",
       "            background-color:  #dddbec;\n",
       "            color:  #000000;\n",
       "        }    #T_d7f0caee_ac58_11ea_b225_88e9fe790f6erow6_col8 {\n",
       "            background-color:  #bcc7e1;\n",
       "            color:  #000000;\n",
       "        }    #T_d7f0caee_ac58_11ea_b225_88e9fe790f6erow6_col9 {\n",
       "            background-color:  #a5bddb;\n",
       "            color:  #000000;\n",
       "        }    #T_d7f0caee_ac58_11ea_b225_88e9fe790f6erow7_col0 {\n",
       "            background-color:  #f7f0f7;\n",
       "            color:  #000000;\n",
       "        }    #T_d7f0caee_ac58_11ea_b225_88e9fe790f6erow7_col1 {\n",
       "            background-color:  #faf3f9;\n",
       "            color:  #000000;\n",
       "        }    #T_d7f0caee_ac58_11ea_b225_88e9fe790f6erow7_col2 {\n",
       "            background-color:  #bfc9e1;\n",
       "            color:  #000000;\n",
       "        }    #T_d7f0caee_ac58_11ea_b225_88e9fe790f6erow7_col3 {\n",
       "            background-color:  #9fbad9;\n",
       "            color:  #000000;\n",
       "        }    #T_d7f0caee_ac58_11ea_b225_88e9fe790f6erow7_col4 {\n",
       "            background-color:  #dcdaeb;\n",
       "            color:  #000000;\n",
       "        }    #T_d7f0caee_ac58_11ea_b225_88e9fe790f6erow7_col5 {\n",
       "            background-color:  #b5c4df;\n",
       "            color:  #000000;\n",
       "        }    #T_d7f0caee_ac58_11ea_b225_88e9fe790f6erow7_col6 {\n",
       "            background-color:  #e4e1ef;\n",
       "            color:  #000000;\n",
       "        }    #T_d7f0caee_ac58_11ea_b225_88e9fe790f6erow7_col7 {\n",
       "            background-color:  #023858;\n",
       "            color:  #f1f1f1;\n",
       "        }    #T_d7f0caee_ac58_11ea_b225_88e9fe790f6erow7_col8 {\n",
       "            background-color:  #83afd3;\n",
       "            color:  #000000;\n",
       "        }    #T_d7f0caee_ac58_11ea_b225_88e9fe790f6erow7_col9 {\n",
       "            background-color:  #167bb6;\n",
       "            color:  #000000;\n",
       "        }    #T_d7f0caee_ac58_11ea_b225_88e9fe790f6erow8_col0 {\n",
       "            background-color:  #fff7fb;\n",
       "            color:  #000000;\n",
       "        }    #T_d7f0caee_ac58_11ea_b225_88e9fe790f6erow8_col1 {\n",
       "            background-color:  #fff7fb;\n",
       "            color:  #000000;\n",
       "        }    #T_d7f0caee_ac58_11ea_b225_88e9fe790f6erow8_col2 {\n",
       "            background-color:  #75a9cf;\n",
       "            color:  #000000;\n",
       "        }    #T_d7f0caee_ac58_11ea_b225_88e9fe790f6erow8_col3 {\n",
       "            background-color:  #fff7fb;\n",
       "            color:  #000000;\n",
       "        }    #T_d7f0caee_ac58_11ea_b225_88e9fe790f6erow8_col4 {\n",
       "            background-color:  #c5cce3;\n",
       "            color:  #000000;\n",
       "        }    #T_d7f0caee_ac58_11ea_b225_88e9fe790f6erow8_col5 {\n",
       "            background-color:  #c8cde4;\n",
       "            color:  #000000;\n",
       "        }    #T_d7f0caee_ac58_11ea_b225_88e9fe790f6erow8_col6 {\n",
       "            background-color:  #e5e1ef;\n",
       "            color:  #000000;\n",
       "        }    #T_d7f0caee_ac58_11ea_b225_88e9fe790f6erow8_col7 {\n",
       "            background-color:  #a9bfdc;\n",
       "            color:  #000000;\n",
       "        }    #T_d7f0caee_ac58_11ea_b225_88e9fe790f6erow8_col8 {\n",
       "            background-color:  #023858;\n",
       "            color:  #f1f1f1;\n",
       "        }    #T_d7f0caee_ac58_11ea_b225_88e9fe790f6erow8_col9 {\n",
       "            background-color:  #8eb3d5;\n",
       "            color:  #000000;\n",
       "        }    #T_d7f0caee_ac58_11ea_b225_88e9fe790f6erow9_col0 {\n",
       "            background-color:  #f6eff7;\n",
       "            color:  #000000;\n",
       "        }    #T_d7f0caee_ac58_11ea_b225_88e9fe790f6erow9_col1 {\n",
       "            background-color:  #f1ebf5;\n",
       "            color:  #000000;\n",
       "        }    #T_d7f0caee_ac58_11ea_b225_88e9fe790f6erow9_col2 {\n",
       "            background-color:  #fff7fb;\n",
       "            color:  #000000;\n",
       "        }    #T_d7f0caee_ac58_11ea_b225_88e9fe790f6erow9_col3 {\n",
       "            background-color:  #3d93c2;\n",
       "            color:  #000000;\n",
       "        }    #T_d7f0caee_ac58_11ea_b225_88e9fe790f6erow9_col4 {\n",
       "            background-color:  #88b1d4;\n",
       "            color:  #000000;\n",
       "        }    #T_d7f0caee_ac58_11ea_b225_88e9fe790f6erow9_col5 {\n",
       "            background-color:  #d2d3e7;\n",
       "            color:  #000000;\n",
       "        }    #T_d7f0caee_ac58_11ea_b225_88e9fe790f6erow9_col6 {\n",
       "            background-color:  #e4e1ef;\n",
       "            color:  #000000;\n",
       "        }    #T_d7f0caee_ac58_11ea_b225_88e9fe790f6erow9_col7 {\n",
       "            background-color:  #3b92c1;\n",
       "            color:  #000000;\n",
       "        }    #T_d7f0caee_ac58_11ea_b225_88e9fe790f6erow9_col8 {\n",
       "            background-color:  #a4bcda;\n",
       "            color:  #000000;\n",
       "        }    #T_d7f0caee_ac58_11ea_b225_88e9fe790f6erow9_col9 {\n",
       "            background-color:  #023858;\n",
       "            color:  #f1f1f1;\n",
       "        }</style><table id=\"T_d7f0caee_ac58_11ea_b225_88e9fe790f6e\" ><thead>    <tr>        <th class=\"blank level0\" ></th>        <th class=\"col_heading level0 col0\" >year</th>        <th class=\"col_heading level0 col1\" >age</th>        <th class=\"col_heading level0 col2\" >poverty_rate</th>        <th class=\"col_heading level0 col3\" >percent_completed_hs</th>        <th class=\"col_heading level0 col4\" >share_white</th>        <th class=\"col_heading level0 col5\" >share_black</th>        <th class=\"col_heading level0 col6\" >share_native_american</th>        <th class=\"col_heading level0 col7\" >share_asian</th>        <th class=\"col_heading level0 col8\" >share_hispanic</th>        <th class=\"col_heading level0 col9\" >median_income</th>    </tr></thead><tbody>\n",
       "                <tr>\n",
       "                        <th id=\"T_d7f0caee_ac58_11ea_b225_88e9fe790f6elevel0_row0\" class=\"row_heading level0 row0\" >year</th>\n",
       "                        <td id=\"T_d7f0caee_ac58_11ea_b225_88e9fe790f6erow0_col0\" class=\"data row0 col0\" >1</td>\n",
       "                        <td id=\"T_d7f0caee_ac58_11ea_b225_88e9fe790f6erow0_col1\" class=\"data row0 col1\" >0.0149959</td>\n",
       "                        <td id=\"T_d7f0caee_ac58_11ea_b225_88e9fe790f6erow0_col2\" class=\"data row0 col2\" >0.00429731</td>\n",
       "                        <td id=\"T_d7f0caee_ac58_11ea_b225_88e9fe790f6erow0_col3\" class=\"data row0 col3\" >0.0457357</td>\n",
       "                        <td id=\"T_d7f0caee_ac58_11ea_b225_88e9fe790f6erow0_col4\" class=\"data row0 col4\" >0.00960006</td>\n",
       "                        <td id=\"T_d7f0caee_ac58_11ea_b225_88e9fe790f6erow0_col5\" class=\"data row0 col5\" >0.00232943</td>\n",
       "                        <td id=\"T_d7f0caee_ac58_11ea_b225_88e9fe790f6erow0_col6\" class=\"data row0 col6\" >-0.0396243</td>\n",
       "                        <td id=\"T_d7f0caee_ac58_11ea_b225_88e9fe790f6erow0_col7\" class=\"data row0 col7\" >0.00686916</td>\n",
       "                        <td id=\"T_d7f0caee_ac58_11ea_b225_88e9fe790f6erow0_col8\" class=\"data row0 col8\" >-0.0470496</td>\n",
       "                        <td id=\"T_d7f0caee_ac58_11ea_b225_88e9fe790f6erow0_col9\" class=\"data row0 col9\" >0.0165605</td>\n",
       "            </tr>\n",
       "            <tr>\n",
       "                        <th id=\"T_d7f0caee_ac58_11ea_b225_88e9fe790f6elevel0_row1\" class=\"row_heading level0 row1\" >age</th>\n",
       "                        <td id=\"T_d7f0caee_ac58_11ea_b225_88e9fe790f6erow1_col0\" class=\"data row1 col0\" >0.0149959</td>\n",
       "                        <td id=\"T_d7f0caee_ac58_11ea_b225_88e9fe790f6erow1_col1\" class=\"data row1 col1\" >1</td>\n",
       "                        <td id=\"T_d7f0caee_ac58_11ea_b225_88e9fe790f6erow1_col2\" class=\"data row1 col2\" >-0.0335681</td>\n",
       "                        <td id=\"T_d7f0caee_ac58_11ea_b225_88e9fe790f6erow1_col3\" class=\"data row1 col3\" >0.0497379</td>\n",
       "                        <td id=\"T_d7f0caee_ac58_11ea_b225_88e9fe790f6erow1_col4\" class=\"data row1 col4\" >0.195396</td>\n",
       "                        <td id=\"T_d7f0caee_ac58_11ea_b225_88e9fe790f6erow1_col5\" class=\"data row1 col5\" >-0.0883359</td>\n",
       "                        <td id=\"T_d7f0caee_ac58_11ea_b225_88e9fe790f6erow1_col6\" class=\"data row1 col6\" >-0.0945226</td>\n",
       "                        <td id=\"T_d7f0caee_ac58_11ea_b225_88e9fe790f6erow1_col7\" class=\"data row1 col7\" >-0.0682506</td>\n",
       "                        <td id=\"T_d7f0caee_ac58_11ea_b225_88e9fe790f6erow1_col8\" class=\"data row1 col8\" >-0.103968</td>\n",
       "                        <td id=\"T_d7f0caee_ac58_11ea_b225_88e9fe790f6erow1_col9\" class=\"data row1 col9\" >-0.000778918</td>\n",
       "            </tr>\n",
       "            <tr>\n",
       "                        <th id=\"T_d7f0caee_ac58_11ea_b225_88e9fe790f6elevel0_row2\" class=\"row_heading level0 row2\" >poverty_rate</th>\n",
       "                        <td id=\"T_d7f0caee_ac58_11ea_b225_88e9fe790f6erow2_col0\" class=\"data row2 col0\" >0.00429731</td>\n",
       "                        <td id=\"T_d7f0caee_ac58_11ea_b225_88e9fe790f6erow2_col1\" class=\"data row2 col1\" >-0.0335681</td>\n",
       "                        <td id=\"T_d7f0caee_ac58_11ea_b225_88e9fe790f6erow2_col2\" class=\"data row2 col2\" >1</td>\n",
       "                        <td id=\"T_d7f0caee_ac58_11ea_b225_88e9fe790f6erow2_col3\" class=\"data row2 col3\" >-0.482601</td>\n",
       "                        <td id=\"T_d7f0caee_ac58_11ea_b225_88e9fe790f6erow2_col4\" class=\"data row2 col4\" >-0.314549</td>\n",
       "                        <td id=\"T_d7f0caee_ac58_11ea_b225_88e9fe790f6erow2_col5\" class=\"data row2 col5\" >0.375503</td>\n",
       "                        <td id=\"T_d7f0caee_ac58_11ea_b225_88e9fe790f6erow2_col6\" class=\"data row2 col6\" >0.0255835</td>\n",
       "                        <td id=\"T_d7f0caee_ac58_11ea_b225_88e9fe790f6erow2_col7\" class=\"data row2 col7\" >-0.214157</td>\n",
       "                        <td id=\"T_d7f0caee_ac58_11ea_b225_88e9fe790f6erow2_col8\" class=\"data row2 col8\" >0.12913</td>\n",
       "                        <td id=\"T_d7f0caee_ac58_11ea_b225_88e9fe790f6erow2_col9\" class=\"data row2 col9\" >-0.741009</td>\n",
       "            </tr>\n",
       "            <tr>\n",
       "                        <th id=\"T_d7f0caee_ac58_11ea_b225_88e9fe790f6elevel0_row3\" class=\"row_heading level0 row3\" >percent_completed_hs</th>\n",
       "                        <td id=\"T_d7f0caee_ac58_11ea_b225_88e9fe790f6erow3_col0\" class=\"data row3 col0\" >0.0457357</td>\n",
       "                        <td id=\"T_d7f0caee_ac58_11ea_b225_88e9fe790f6erow3_col1\" class=\"data row3 col1\" >0.0497379</td>\n",
       "                        <td id=\"T_d7f0caee_ac58_11ea_b225_88e9fe790f6erow3_col2\" class=\"data row3 col2\" >-0.482601</td>\n",
       "                        <td id=\"T_d7f0caee_ac58_11ea_b225_88e9fe790f6erow3_col3\" class=\"data row3 col3\" >1</td>\n",
       "                        <td id=\"T_d7f0caee_ac58_11ea_b225_88e9fe790f6erow3_col4\" class=\"data row3 col4\" >0.300247</td>\n",
       "                        <td id=\"T_d7f0caee_ac58_11ea_b225_88e9fe790f6erow3_col5\" class=\"data row3 col5\" >-0.0981934</td>\n",
       "                        <td id=\"T_d7f0caee_ac58_11ea_b225_88e9fe790f6erow3_col6\" class=\"data row3 col6\" >-0.0120536</td>\n",
       "                        <td id=\"T_d7f0caee_ac58_11ea_b225_88e9fe790f6erow3_col7\" class=\"data row3 col7\" >0.0394285</td>\n",
       "                        <td id=\"T_d7f0caee_ac58_11ea_b225_88e9fe790f6erow3_col8\" class=\"data row3 col8\" >-0.582172</td>\n",
       "                        <td id=\"T_d7f0caee_ac58_11ea_b225_88e9fe790f6erow3_col9\" class=\"data row3 col9\" >0.38361</td>\n",
       "            </tr>\n",
       "            <tr>\n",
       "                        <th id=\"T_d7f0caee_ac58_11ea_b225_88e9fe790f6elevel0_row4\" class=\"row_heading level0 row4\" >share_white</th>\n",
       "                        <td id=\"T_d7f0caee_ac58_11ea_b225_88e9fe790f6erow4_col0\" class=\"data row4 col0\" >0.00960006</td>\n",
       "                        <td id=\"T_d7f0caee_ac58_11ea_b225_88e9fe790f6erow4_col1\" class=\"data row4 col1\" >0.195396</td>\n",
       "                        <td id=\"T_d7f0caee_ac58_11ea_b225_88e9fe790f6erow4_col2\" class=\"data row4 col2\" >-0.314549</td>\n",
       "                        <td id=\"T_d7f0caee_ac58_11ea_b225_88e9fe790f6erow4_col3\" class=\"data row4 col3\" >0.300247</td>\n",
       "                        <td id=\"T_d7f0caee_ac58_11ea_b225_88e9fe790f6erow4_col4\" class=\"data row4 col4\" >1</td>\n",
       "                        <td id=\"T_d7f0caee_ac58_11ea_b225_88e9fe790f6erow4_col5\" class=\"data row4 col5\" >-0.672725</td>\n",
       "                        <td id=\"T_d7f0caee_ac58_11ea_b225_88e9fe790f6erow4_col6\" class=\"data row4 col6\" >-0.294468</td>\n",
       "                        <td id=\"T_d7f0caee_ac58_11ea_b225_88e9fe790f6erow4_col7\" class=\"data row4 col7\" >-0.339594</td>\n",
       "                        <td id=\"T_d7f0caee_ac58_11ea_b225_88e9fe790f6erow4_col8\" class=\"data row4 col8\" >-0.196613</td>\n",
       "                        <td id=\"T_d7f0caee_ac58_11ea_b225_88e9fe790f6erow4_col9\" class=\"data row4 col9\" >0.0809118</td>\n",
       "            </tr>\n",
       "            <tr>\n",
       "                        <th id=\"T_d7f0caee_ac58_11ea_b225_88e9fe790f6elevel0_row5\" class=\"row_heading level0 row5\" >share_black</th>\n",
       "                        <td id=\"T_d7f0caee_ac58_11ea_b225_88e9fe790f6erow5_col0\" class=\"data row5 col0\" >0.00232943</td>\n",
       "                        <td id=\"T_d7f0caee_ac58_11ea_b225_88e9fe790f6erow5_col1\" class=\"data row5 col1\" >-0.0883359</td>\n",
       "                        <td id=\"T_d7f0caee_ac58_11ea_b225_88e9fe790f6erow5_col2\" class=\"data row5 col2\" >0.375503</td>\n",
       "                        <td id=\"T_d7f0caee_ac58_11ea_b225_88e9fe790f6erow5_col3\" class=\"data row5 col3\" >-0.0981934</td>\n",
       "                        <td id=\"T_d7f0caee_ac58_11ea_b225_88e9fe790f6erow5_col4\" class=\"data row5 col4\" >-0.672725</td>\n",
       "                        <td id=\"T_d7f0caee_ac58_11ea_b225_88e9fe790f6erow5_col5\" class=\"data row5 col5\" >1</td>\n",
       "                        <td id=\"T_d7f0caee_ac58_11ea_b225_88e9fe790f6erow5_col6\" class=\"data row5 col6\" >-0.125177</td>\n",
       "                        <td id=\"T_d7f0caee_ac58_11ea_b225_88e9fe790f6erow5_col7\" class=\"data row5 col7\" >-0.118309</td>\n",
       "                        <td id=\"T_d7f0caee_ac58_11ea_b225_88e9fe790f6erow5_col8\" class=\"data row5 col8\" >-0.211757</td>\n",
       "                        <td id=\"T_d7f0caee_ac58_11ea_b225_88e9fe790f6erow5_col9\" class=\"data row5 col9\" >-0.272589</td>\n",
       "            </tr>\n",
       "            <tr>\n",
       "                        <th id=\"T_d7f0caee_ac58_11ea_b225_88e9fe790f6elevel0_row6\" class=\"row_heading level0 row6\" >share_native_american</th>\n",
       "                        <td id=\"T_d7f0caee_ac58_11ea_b225_88e9fe790f6erow6_col0\" class=\"data row6 col0\" >-0.0396243</td>\n",
       "                        <td id=\"T_d7f0caee_ac58_11ea_b225_88e9fe790f6erow6_col1\" class=\"data row6 col1\" >-0.0945226</td>\n",
       "                        <td id=\"T_d7f0caee_ac58_11ea_b225_88e9fe790f6erow6_col2\" class=\"data row6 col2\" >0.0255835</td>\n",
       "                        <td id=\"T_d7f0caee_ac58_11ea_b225_88e9fe790f6erow6_col3\" class=\"data row6 col3\" >-0.0120536</td>\n",
       "                        <td id=\"T_d7f0caee_ac58_11ea_b225_88e9fe790f6erow6_col4\" class=\"data row6 col4\" >-0.294468</td>\n",
       "                        <td id=\"T_d7f0caee_ac58_11ea_b225_88e9fe790f6erow6_col5\" class=\"data row6 col5\" >-0.125177</td>\n",
       "                        <td id=\"T_d7f0caee_ac58_11ea_b225_88e9fe790f6erow6_col6\" class=\"data row6 col6\" >1</td>\n",
       "                        <td id=\"T_d7f0caee_ac58_11ea_b225_88e9fe790f6erow6_col7\" class=\"data row6 col7\" >-0.0823533</td>\n",
       "                        <td id=\"T_d7f0caee_ac58_11ea_b225_88e9fe790f6erow6_col8\" class=\"data row6 col8\" >-0.0897982</td>\n",
       "                        <td id=\"T_d7f0caee_ac58_11ea_b225_88e9fe790f6erow6_col9\" class=\"data row6 col9\" >-0.0833838</td>\n",
       "            </tr>\n",
       "            <tr>\n",
       "                        <th id=\"T_d7f0caee_ac58_11ea_b225_88e9fe790f6elevel0_row7\" class=\"row_heading level0 row7\" >share_asian</th>\n",
       "                        <td id=\"T_d7f0caee_ac58_11ea_b225_88e9fe790f6erow7_col0\" class=\"data row7 col0\" >0.00686916</td>\n",
       "                        <td id=\"T_d7f0caee_ac58_11ea_b225_88e9fe790f6erow7_col1\" class=\"data row7 col1\" >-0.0682506</td>\n",
       "                        <td id=\"T_d7f0caee_ac58_11ea_b225_88e9fe790f6erow7_col2\" class=\"data row7 col2\" >-0.214157</td>\n",
       "                        <td id=\"T_d7f0caee_ac58_11ea_b225_88e9fe790f6erow7_col3\" class=\"data row7 col3\" >0.0394285</td>\n",
       "                        <td id=\"T_d7f0caee_ac58_11ea_b225_88e9fe790f6erow7_col4\" class=\"data row7 col4\" >-0.339594</td>\n",
       "                        <td id=\"T_d7f0caee_ac58_11ea_b225_88e9fe790f6erow7_col5\" class=\"data row7 col5\" >-0.118309</td>\n",
       "                        <td id=\"T_d7f0caee_ac58_11ea_b225_88e9fe790f6erow7_col6\" class=\"data row7 col6\" >-0.0823533</td>\n",
       "                        <td id=\"T_d7f0caee_ac58_11ea_b225_88e9fe790f6erow7_col7\" class=\"data row7 col7\" >1</td>\n",
       "                        <td id=\"T_d7f0caee_ac58_11ea_b225_88e9fe790f6erow7_col8\" class=\"data row7 col8\" >0.150483</td>\n",
       "                        <td id=\"T_d7f0caee_ac58_11ea_b225_88e9fe790f6erow7_col9\" class=\"data row7 col9\" >0.48358</td>\n",
       "            </tr>\n",
       "            <tr>\n",
       "                        <th id=\"T_d7f0caee_ac58_11ea_b225_88e9fe790f6elevel0_row8\" class=\"row_heading level0 row8\" >share_hispanic</th>\n",
       "                        <td id=\"T_d7f0caee_ac58_11ea_b225_88e9fe790f6erow8_col0\" class=\"data row8 col0\" >-0.0470496</td>\n",
       "                        <td id=\"T_d7f0caee_ac58_11ea_b225_88e9fe790f6erow8_col1\" class=\"data row8 col1\" >-0.103968</td>\n",
       "                        <td id=\"T_d7f0caee_ac58_11ea_b225_88e9fe790f6erow8_col2\" class=\"data row8 col2\" >0.12913</td>\n",
       "                        <td id=\"T_d7f0caee_ac58_11ea_b225_88e9fe790f6erow8_col3\" class=\"data row8 col3\" >-0.582172</td>\n",
       "                        <td id=\"T_d7f0caee_ac58_11ea_b225_88e9fe790f6erow8_col4\" class=\"data row8 col4\" >-0.196613</td>\n",
       "                        <td id=\"T_d7f0caee_ac58_11ea_b225_88e9fe790f6erow8_col5\" class=\"data row8 col5\" >-0.211757</td>\n",
       "                        <td id=\"T_d7f0caee_ac58_11ea_b225_88e9fe790f6erow8_col6\" class=\"data row8 col6\" >-0.0897982</td>\n",
       "                        <td id=\"T_d7f0caee_ac58_11ea_b225_88e9fe790f6erow8_col7\" class=\"data row8 col7\" >0.150483</td>\n",
       "                        <td id=\"T_d7f0caee_ac58_11ea_b225_88e9fe790f6erow8_col8\" class=\"data row8 col8\" >1</td>\n",
       "                        <td id=\"T_d7f0caee_ac58_11ea_b225_88e9fe790f6erow8_col9\" class=\"data row8 col9\" >0.0187059</td>\n",
       "            </tr>\n",
       "            <tr>\n",
       "                        <th id=\"T_d7f0caee_ac58_11ea_b225_88e9fe790f6elevel0_row9\" class=\"row_heading level0 row9\" >median_income</th>\n",
       "                        <td id=\"T_d7f0caee_ac58_11ea_b225_88e9fe790f6erow9_col0\" class=\"data row9 col0\" >0.0165605</td>\n",
       "                        <td id=\"T_d7f0caee_ac58_11ea_b225_88e9fe790f6erow9_col1\" class=\"data row9 col1\" >-0.000778918</td>\n",
       "                        <td id=\"T_d7f0caee_ac58_11ea_b225_88e9fe790f6erow9_col2\" class=\"data row9 col2\" >-0.741009</td>\n",
       "                        <td id=\"T_d7f0caee_ac58_11ea_b225_88e9fe790f6erow9_col3\" class=\"data row9 col3\" >0.38361</td>\n",
       "                        <td id=\"T_d7f0caee_ac58_11ea_b225_88e9fe790f6erow9_col4\" class=\"data row9 col4\" >0.0809118</td>\n",
       "                        <td id=\"T_d7f0caee_ac58_11ea_b225_88e9fe790f6erow9_col5\" class=\"data row9 col5\" >-0.272589</td>\n",
       "                        <td id=\"T_d7f0caee_ac58_11ea_b225_88e9fe790f6erow9_col6\" class=\"data row9 col6\" >-0.0833838</td>\n",
       "                        <td id=\"T_d7f0caee_ac58_11ea_b225_88e9fe790f6erow9_col7\" class=\"data row9 col7\" >0.48358</td>\n",
       "                        <td id=\"T_d7f0caee_ac58_11ea_b225_88e9fe790f6erow9_col8\" class=\"data row9 col8\" >0.0187059</td>\n",
       "                        <td id=\"T_d7f0caee_ac58_11ea_b225_88e9fe790f6erow9_col9\" class=\"data row9 col9\" >1</td>\n",
       "            </tr>\n",
       "    </tbody></table>"
      ],
      "text/plain": [
       "<pandas.io.formats.style.Styler at 0x1220444a8>"
      ]
     },
     "execution_count": 50,
     "metadata": {},
     "output_type": "execute_result"
    }
   ],
   "source": [
    "correlations(demo_killings_df)"
   ]
  },
  {
   "cell_type": "markdown",
   "metadata": {},
   "source": [
    "## Race Distributions"
   ]
  },
  {
   "cell_type": "code",
   "execution_count": 51,
   "metadata": {},
   "outputs": [],
   "source": [
    "def race_distribution(df, column):\n",
    "    \n",
    "    for item in df[column].value_counts().index:\n",
    "        plt.bar(df[df[column] == item].race.value_counts().index, df[df[column] == item].race.value_counts().values)\n",
    "        plt.title('Race Distribution - ' + str(item))\n",
    "        plt.show()"
   ]
  },
  {
   "cell_type": "markdown",
   "metadata": {},
   "source": [
    "### Region"
   ]
  },
  {
   "cell_type": "markdown",
   "metadata": {},
   "source": [
    "- Victims on the West and East Coasts are disproportionately POC.\n",
    "    - However, this is likely due to demographics"
   ]
  },
  {
   "cell_type": "code",
   "execution_count": 52,
   "metadata": {},
   "outputs": [
    {
     "data": {
      "text/plain": [
       "South         885\n",
       "West Coast    509\n",
       "Mountain      351\n",
       "Midwest       325\n",
       "Northeast     196\n",
       "Central        64\n",
       "Other          20\n",
       "Name: region, dtype: int64"
      ]
     },
     "execution_count": 52,
     "metadata": {},
     "output_type": "execute_result"
    }
   ],
   "source": [
    "demo_killings_df.region.value_counts()"
   ]
  },
  {
   "cell_type": "code",
   "execution_count": 53,
   "metadata": {},
   "outputs": [
    {
     "data": {
      "image/png": "[encoded data removed]",
      "text/plain": [
       "<Figure size 432x288 with 1 Axes>"
      ]
     },
     "metadata": {
      "needs_background": "light"
     },
     "output_type": "display_data"
    },
    {
     "data": {
      "image/png": "[encoded data removed]",
      "text/plain": [
       "<Figure size 432x288 with 1 Axes>"
      ]
     },
     "metadata": {
      "needs_background": "light"
     },
     "output_type": "display_data"
    },
    {
     "data": {
      "image/png": "[encoded data removed]",
      "text/plain": [
       "<Figure size 432x288 with 1 Axes>"
      ]
     },
     "metadata": {
      "needs_background": "light"
     },
     "output_type": "display_data"
    },
    {
     "data": {
      "image/png": "[encoded data removed]",
      "text/plain": [
       "<Figure size 432x288 with 1 Axes>"
      ]
     },
     "metadata": {
      "needs_background": "light"
     },
     "output_type": "display_data"
    },
    {
     "data": {
      "image/png": "[encoded data removed]",
      "text/plain": [
       "<Figure size 432x288 with 1 Axes>"
      ]
     },
     "metadata": {
      "needs_background": "light"
     },
     "output_type": "display_data"
    },
    {
     "data": {
      "image/png": "[encoded data removed]",
      "text/plain": [
       "<Figure size 432x288 with 1 Axes>"
      ]
     },
     "metadata": {
      "needs_background": "light"
     },
     "output_type": "display_data"
    },
    {
     "data": {
      "image/png": "[encoded data removed]",
      "text/plain": [
       "<Figure size 432x288 with 1 Axes>"
      ]
     },
     "metadata": {
      "needs_background": "light"
     },
     "output_type": "display_data"
    }
   ],
   "source": [
    "race_distribution(demo_killings_df, 'region')"
   ]
  },
  {
   "cell_type": "markdown",
   "metadata": {},
   "source": [
    "### City Type"
   ]
  },
  {
   "cell_type": "markdown",
   "metadata": {},
   "source": [
    "- Victims in any type that is not a city are disproportionately white"
   ]
  },
  {
   "cell_type": "code",
   "execution_count": 54,
   "metadata": {},
   "outputs": [
    {
     "data": {
      "image/png": "[encoded data removed]",
      "text/plain": [
       "<Figure size 432x288 with 1 Axes>"
      ]
     },
     "metadata": {
      "needs_background": "light"
     },
     "output_type": "display_data"
    },
    {
     "data": {
      "image/png": "[encoded data removed]",
      "text/plain": [
       "<Figure size 432x288 with 1 Axes>"
      ]
     },
     "metadata": {
      "needs_background": "light"
     },
     "output_type": "display_data"
    },
    {
     "data": {
      "image/png": "[encoded data removed]",
      "text/plain": [
       "<Figure size 432x288 with 1 Axes>"
      ]
     },
     "metadata": {
      "needs_background": "light"
     },
     "output_type": "display_data"
    },
    {
     "data": {
      "image/png": "[encoded data removed]",
      "text/plain": [
       "<Figure size 432x288 with 1 Axes>"
      ]
     },
     "metadata": {
      "needs_background": "light"
     },
     "output_type": "display_data"
    },
    {
     "data": {
      "image/png": "[encoded data removed]",
      "text/plain": [
       "<Figure size 432x288 with 1 Axes>"
      ]
     },
     "metadata": {
      "needs_background": "light"
     },
     "output_type": "display_data"
    },
    {
     "data": {
      "image/png": "[encoded data removed]",
      "text/plain": [
       "<Figure size 432x288 with 1 Axes>"
      ]
     },
     "metadata": {
      "needs_background": "light"
     },
     "output_type": "display_data"
    }
   ],
   "source": [
    "race_distribution(demo_killings_df, 'city_type')"
   ]
  },
  {
   "cell_type": "markdown",
   "metadata": {},
   "source": [
    "### Mental Illness"
   ]
  },
  {
   "cell_type": "markdown",
   "metadata": {},
   "source": [
    "- Victims with signs of mental illness are disproportionately white."
   ]
  },
  {
   "cell_type": "code",
   "execution_count": 55,
   "metadata": {},
   "outputs": [
    {
     "data": {
      "image/png": "[encoded data removed]",
      "text/plain": [
       "<Figure size 432x288 with 1 Axes>"
      ]
     },
     "metadata": {
      "needs_background": "light"
     },
     "output_type": "display_data"
    },
    {
     "data": {
      "image/png": "[encoded data removed]",
      "text/plain": [
       "<Figure size 432x288 with 1 Axes>"
      ]
     },
     "metadata": {
      "needs_background": "light"
     },
     "output_type": "display_data"
    }
   ],
   "source": [
    "race_distribution(demo_killings_df, 'signs_of_mental_illness')"
   ]
  },
  {
   "cell_type": "markdown",
   "metadata": {},
   "source": [
    "### Threat Level"
   ]
  },
  {
   "cell_type": "markdown",
   "metadata": {},
   "source": [
    "- Victims with an \"undetermined\" threat level are disproportionately POC."
   ]
  },
  {
   "cell_type": "code",
   "execution_count": 56,
   "metadata": {},
   "outputs": [
    {
     "data": {
      "image/png": "[encoded data removed]",
      "text/plain": [
       "<Figure size 432x288 with 1 Axes>"
      ]
     },
     "metadata": {
      "needs_background": "light"
     },
     "output_type": "display_data"
    },
    {
     "data": {
      "image/png": "[encoded data removed]",
      "text/plain": [
       "<Figure size 432x288 with 1 Axes>"
      ]
     },
     "metadata": {
      "needs_background": "light"
     },
     "output_type": "display_data"
    },
    {
     "data": {
      "image/png": "[encoded data removed]",
      "text/plain": [
       "<Figure size 432x288 with 1 Axes>"
      ]
     },
     "metadata": {
      "needs_background": "light"
     },
     "output_type": "display_data"
    }
   ],
   "source": [
    "race_distribution(demo_killings_df, 'threat_level')"
   ]
  },
  {
   "cell_type": "markdown",
   "metadata": {},
   "source": [
    "### Fleeing"
   ]
  },
  {
   "cell_type": "markdown",
   "metadata": {},
   "source": [
    "- Victims who are fleeing by foot are disproportionately POC."
   ]
  },
  {
   "cell_type": "code",
   "execution_count": 57,
   "metadata": {},
   "outputs": [
    {
     "data": {
      "image/png": "[encoded data removed]",
      "text/plain": [
       "<Figure size 432x288 with 1 Axes>"
      ]
     },
     "metadata": {
      "needs_background": "light"
     },
     "output_type": "display_data"
    },
    {
     "data": {
      "image/png": "[encoded data removed]",
      "text/plain": [
       "<Figure size 432x288 with 1 Axes>"
      ]
     },
     "metadata": {
      "needs_background": "light"
     },
     "output_type": "display_data"
    },
    {
     "data": {
      "image/png": "[encoded data removed]",
      "text/plain": [
       "<Figure size 432x288 with 1 Axes>"
      ]
     },
     "metadata": {
      "needs_background": "light"
     },
     "output_type": "display_data"
    },
    {
     "data": {
      "image/png": "[encoded data removed]",
      "text/plain": [
       "<Figure size 432x288 with 1 Axes>"
      ]
     },
     "metadata": {
      "needs_background": "light"
     },
     "output_type": "display_data"
    },
    {
     "data": {
      "image/png": "[encoded data removed]",
      "text/plain": [
       "<Figure size 432x288 with 1 Axes>"
      ]
     },
     "metadata": {
      "needs_background": "light"
     },
     "output_type": "display_data"
    }
   ],
   "source": [
    "race_distribution(demo_killings_df, 'flee')"
   ]
  },
  {
   "cell_type": "markdown",
   "metadata": {},
   "source": [
    "### Armed vs Unarmed"
   ]
  },
  {
   "cell_type": "markdown",
   "metadata": {},
   "source": [
    "- Unarmed victims are disproportionately POC."
   ]
  },
  {
   "cell_type": "code",
   "execution_count": 58,
   "metadata": {},
   "outputs": [
    {
     "data": {
      "text/plain": [
       "gun                  1289\n",
       "sharp object          399\n",
       "unarmed               214\n",
       "vehicle               159\n",
       "undetermined          148\n",
       "non-lethal object      95\n",
       "blunt object           46\n",
       "Name: armed, dtype: int64"
      ]
     },
     "execution_count": 58,
     "metadata": {},
     "output_type": "execute_result"
    }
   ],
   "source": [
    "demo_killings_df.armed.value_counts()"
   ]
  },
  {
   "cell_type": "code",
   "execution_count": 59,
   "metadata": {},
   "outputs": [
    {
     "data": {
      "image/png": "[encoded data removed]",
      "text/plain": [
       "<Figure size 432x288 with 1 Axes>"
      ]
     },
     "metadata": {
      "needs_background": "light"
     },
     "output_type": "display_data"
    },
    {
     "data": {
      "image/png": "[encoded data removed]",
      "text/plain": [
       "<Figure size 432x288 with 1 Axes>"
      ]
     },
     "metadata": {
      "needs_background": "light"
     },
     "output_type": "display_data"
    },
    {
     "data": {
      "image/png": "[encoded data removed]",
      "text/plain": [
       "<Figure size 432x288 with 1 Axes>"
      ]
     },
     "metadata": {
      "needs_background": "light"
     },
     "output_type": "display_data"
    },
    {
     "data": {
      "image/png": "[encoded data removed]",
      "text/plain": [
       "<Figure size 432x288 with 1 Axes>"
      ]
     },
     "metadata": {
      "needs_background": "light"
     },
     "output_type": "display_data"
    },
    {
     "data": {
      "image/png": "[encoded data removed]",
      "text/plain": [
       "<Figure size 432x288 with 1 Axes>"
      ]
     },
     "metadata": {
      "needs_background": "light"
     },
     "output_type": "display_data"
    },
    {
     "data": {
      "image/png": "[encoded data removed]",
      "text/plain": [
       "<Figure size 432x288 with 1 Axes>"
      ]
     },
     "metadata": {
      "needs_background": "light"
     },
     "output_type": "display_data"
    },
    {
     "data": {
      "image/png": "[encoded data removed]",
      "text/plain": [
       "<Figure size 432x288 with 1 Axes>"
      ]
     },
     "metadata": {
      "needs_background": "light"
     },
     "output_type": "display_data"
    }
   ],
   "source": [
    "race_distribution(demo_killings_df, 'armed')"
   ]
  },
  {
   "cell_type": "markdown",
   "metadata": {},
   "source": [
    "### Body Cameras"
   ]
  },
  {
   "cell_type": "markdown",
   "metadata": {},
   "source": [
    "- No discernable difference"
   ]
  },
  {
   "cell_type": "code",
   "execution_count": 60,
   "metadata": {},
   "outputs": [
    {
     "data": {
      "image/png": "[encoded data removed]",
      "text/plain": [
       "<Figure size 432x288 with 1 Axes>"
      ]
     },
     "metadata": {
      "needs_background": "light"
     },
     "output_type": "display_data"
    },
    {
     "data": {
      "image/png": "[encoded data removed]",
      "text/plain": [
       "<Figure size 432x288 with 1 Axes>"
      ]
     },
     "metadata": {
      "needs_background": "light"
     },
     "output_type": "display_data"
    }
   ],
   "source": [
    "race_distribution(demo_killings_df, 'body_camera')"
   ]
  },
  {
   "cell_type": "markdown",
   "metadata": {},
   "source": [
    "### Month vs Season"
   ]
  },
  {
   "cell_type": "markdown",
   "metadata": {},
   "source": [
    "- No discernable differences among seasons"
   ]
  },
  {
   "cell_type": "code",
   "execution_count": 61,
   "metadata": {},
   "outputs": [
    {
     "data": {
      "image/png": "[encoded data removed]",
      "text/plain": [
       "<Figure size 432x288 with 1 Axes>"
      ]
     },
     "metadata": {
      "needs_background": "light"
     },
     "output_type": "display_data"
    },
    {
     "data": {
      "image/png": "[encoded data removed]",
      "text/plain": [
       "<Figure size 432x288 with 1 Axes>"
      ]
     },
     "metadata": {
      "needs_background": "light"
     },
     "output_type": "display_data"
    },
    {
     "data": {
      "image/png": "[encoded data removed]",
      "text/plain": [
       "<Figure size 432x288 with 1 Axes>"
      ]
     },
     "metadata": {
      "needs_background": "light"
     },
     "output_type": "display_data"
    },
    {
     "data": {
      "image/png": "[encoded data removed]",
      "text/plain": [
       "<Figure size 432x288 with 1 Axes>"
      ]
     },
     "metadata": {
      "needs_background": "light"
     },
     "output_type": "display_data"
    },
    {
     "data": {
      "image/png": "[encoded data removed]",
      "text/plain": [
       "<Figure size 432x288 with 1 Axes>"
      ]
     },
     "metadata": {
      "needs_background": "light"
     },
     "output_type": "display_data"
    },
    {
     "data": {
      "image/png": "[encoded data removed]",
      "text/plain": [
       "<Figure size 432x288 with 1 Axes>"
      ]
     },
     "metadata": {
      "needs_background": "light"
     },
     "output_type": "display_data"
    },
    {
     "data": {
      "image/png": "[encoded data removed]",
      "text/plain": [
       "<Figure size 432x288 with 1 Axes>"
      ]
     },
     "metadata": {
      "needs_background": "light"
     },
     "output_type": "display_data"
    },
    {
     "data": {
      "image/png": "[encoded data removed]",
      "text/plain": [
       "<Figure size 432x288 with 1 Axes>"
      ]
     },
     "metadata": {
      "needs_background": "light"
     },
     "output_type": "display_data"
    },
    {
     "data": {
      "image/png": "[encoded data removed]",
      "text/plain": [
       "<Figure size 432x288 with 1 Axes>"
      ]
     },
     "metadata": {
      "needs_background": "light"
     },
     "output_type": "display_data"
    },
    {
     "data": {
      "image/png": "[encoded data removed]",
      "text/plain": [
       "<Figure size 432x288 with 1 Axes>"
      ]
     },
     "metadata": {
      "needs_background": "light"
     },
     "output_type": "display_data"
    },
    {
     "data": {
      "image/png": "[encoded data removed]",
      "text/plain": [
       "<Figure size 432x288 with 1 Axes>"
      ]
     },
     "metadata": {
      "needs_background": "light"
     },
     "output_type": "display_data"
    },
    {
     "data": {
      "image/png": "[encoded data removed]",
      "text/plain": [
       "<Figure size 432x288 with 1 Axes>"
      ]
     },
     "metadata": {
      "needs_background": "light"
     },
     "output_type": "display_data"
    }
   ],
   "source": [
    "race_distribution(demo_killings_df, 'month')"
   ]
  },
  {
   "cell_type": "markdown",
   "metadata": {},
   "source": [
    "### Weekday vs Day of Week"
   ]
  },
  {
   "cell_type": "markdown",
   "metadata": {},
   "source": [
    "- Victims on Thursdays are disproportionately POC."
   ]
  },
  {
   "cell_type": "code",
   "execution_count": 62,
   "metadata": {},
   "outputs": [
    {
     "data": {
      "image/png": "[encoded data removed]",
      "text/plain": [
       "<Figure size 432x288 with 1 Axes>"
      ]
     },
     "metadata": {
      "needs_background": "light"
     },
     "output_type": "display_data"
    },
    {
     "data": {
      "image/png": "[encoded data removed]",
      "text/plain": [
       "<Figure size 432x288 with 1 Axes>"
      ]
     },
     "metadata": {
      "needs_background": "light"
     },
     "output_type": "display_data"
    },
    {
     "data": {
      "image/png": "[encoded data removed]",
      "text/plain": [
       "<Figure size 432x288 with 1 Axes>"
      ]
     },
     "metadata": {
      "needs_background": "light"
     },
     "output_type": "display_data"
    },
    {
     "data": {
      "image/png": "[encoded data removed]",
      "text/plain": [
       "<Figure size 432x288 with 1 Axes>"
      ]
     },
     "metadata": {
      "needs_background": "light"
     },
     "output_type": "display_data"
    },
    {
     "data": {
      "image/png": "[encoded data removed]",
      "text/plain": [
       "<Figure size 432x288 with 1 Axes>"
      ]
     },
     "metadata": {
      "needs_background": "light"
     },
     "output_type": "display_data"
    },
    {
     "data": {
      "image/png": "[encoded data removed]",
      "text/plain": [
       "<Figure size 432x288 with 1 Axes>"
      ]
     },
     "metadata": {
      "needs_background": "light"
     },
     "output_type": "display_data"
    },
    {
     "data": {
      "image/png": "[encoded data removed]",
      "text/plain": [
       "<Figure size 432x288 with 1 Axes>"
      ]
     },
     "metadata": {
      "needs_background": "light"
     },
     "output_type": "display_data"
    }
   ],
   "source": [
    "race_distribution(demo_killings_df, 'day_of_week')"
   ]
  },
  {
   "cell_type": "markdown",
   "metadata": {},
   "source": [
    "---"
   ]
  },
  {
   "cell_type": "code",
   "execution_count": 63,
   "metadata": {},
   "outputs": [],
   "source": [
    "def eda_charts(df):\n",
    "    \n",
    "    plt.bar(df.race.value_counts().index, df.race.value_counts().values)\n",
    "    plt.title('Police Killings by Race')\n",
    "    plt.show()\n",
    "    \n",
    "    plt.hist(df.poverty_rate)\n",
    "    plt.title('Poverty Rate Distribution (%)')\n",
    "    plt.show()\n",
    "    \n",
    "    plt.hist(df.percent_completed_hs)\n",
    "    plt.title('High School Completion (% of Population) Distribution')\n",
    "    plt.show()\n",
    "    \n",
    "    plt.hist(df.median_income)\n",
    "    plt.title('Median Income Distribution')\n",
    "    plt.show()"
   ]
  },
  {
   "cell_type": "markdown",
   "metadata": {},
   "source": [
    "## Top 32 Cities"
   ]
  },
  {
   "cell_type": "markdown",
   "metadata": {},
   "source": [
    "- POC are disproportionately killed in the cities with the most police shootings."
   ]
  },
  {
   "cell_type": "code",
   "execution_count": 64,
   "metadata": {},
   "outputs": [],
   "source": [
    "most_killings_df = demo_killings_df.loc[demo_killings_df['city'].isin(demo_killings_df.city.value_counts().index[:32])]"
   ]
  },
  {
   "cell_type": "code",
   "execution_count": 65,
   "metadata": {},
   "outputs": [
    {
     "data": {
      "text/html": [
       "<style  type=\"text/css\" >\n",
       "    #T_dbf29c58_ac58_11ea_b225_88e9fe790f6erow0_col0 {\n",
       "            background-color:  #023858;\n",
       "            color:  #f1f1f1;\n",
       "        }    #T_dbf29c58_ac58_11ea_b225_88e9fe790f6erow0_col1 {\n",
       "            background-color:  #dddbec;\n",
       "            color:  #000000;\n",
       "        }    #T_dbf29c58_ac58_11ea_b225_88e9fe790f6erow0_col2 {\n",
       "            background-color:  #89b1d4;\n",
       "            color:  #000000;\n",
       "        }    #T_dbf29c58_ac58_11ea_b225_88e9fe790f6erow0_col3 {\n",
       "            background-color:  #9fbad9;\n",
       "            color:  #000000;\n",
       "        }    #T_dbf29c58_ac58_11ea_b225_88e9fe790f6erow0_col4 {\n",
       "            background-color:  #a8bedc;\n",
       "            color:  #000000;\n",
       "        }    #T_dbf29c58_ac58_11ea_b225_88e9fe790f6erow0_col5 {\n",
       "            background-color:  #b4c4df;\n",
       "            color:  #000000;\n",
       "        }    #T_dbf29c58_ac58_11ea_b225_88e9fe790f6erow0_col6 {\n",
       "            background-color:  #cacee5;\n",
       "            color:  #000000;\n",
       "        }    #T_dbf29c58_ac58_11ea_b225_88e9fe790f6erow0_col7 {\n",
       "            background-color:  #cacee5;\n",
       "            color:  #000000;\n",
       "        }    #T_dbf29c58_ac58_11ea_b225_88e9fe790f6erow0_col8 {\n",
       "            background-color:  #b1c2de;\n",
       "            color:  #000000;\n",
       "        }    #T_dbf29c58_ac58_11ea_b225_88e9fe790f6erow0_col9 {\n",
       "            background-color:  #9cb9d9;\n",
       "            color:  #000000;\n",
       "        }    #T_dbf29c58_ac58_11ea_b225_88e9fe790f6erow1_col0 {\n",
       "            background-color:  #e0deed;\n",
       "            color:  #000000;\n",
       "        }    #T_dbf29c58_ac58_11ea_b225_88e9fe790f6erow1_col1 {\n",
       "            background-color:  #023858;\n",
       "            color:  #f1f1f1;\n",
       "        }    #T_dbf29c58_ac58_11ea_b225_88e9fe790f6erow1_col2 {\n",
       "            background-color:  #9ebad9;\n",
       "            color:  #000000;\n",
       "        }    #T_dbf29c58_ac58_11ea_b225_88e9fe790f6erow1_col3 {\n",
       "            background-color:  #abbfdc;\n",
       "            color:  #000000;\n",
       "        }    #T_dbf29c58_ac58_11ea_b225_88e9fe790f6erow1_col4 {\n",
       "            background-color:  #89b1d4;\n",
       "            color:  #000000;\n",
       "        }    #T_dbf29c58_ac58_11ea_b225_88e9fe790f6erow1_col5 {\n",
       "            background-color:  #c2cbe2;\n",
       "            color:  #000000;\n",
       "        }    #T_dbf29c58_ac58_11ea_b225_88e9fe790f6erow1_col6 {\n",
       "            background-color:  #d0d1e6;\n",
       "            color:  #000000;\n",
       "        }    #T_dbf29c58_ac58_11ea_b225_88e9fe790f6erow1_col7 {\n",
       "            background-color:  #d8d7e9;\n",
       "            color:  #000000;\n",
       "        }    #T_dbf29c58_ac58_11ea_b225_88e9fe790f6erow1_col8 {\n",
       "            background-color:  #abbfdc;\n",
       "            color:  #000000;\n",
       "        }    #T_dbf29c58_ac58_11ea_b225_88e9fe790f6erow1_col9 {\n",
       "            background-color:  #96b6d7;\n",
       "            color:  #000000;\n",
       "        }    #T_dbf29c58_ac58_11ea_b225_88e9fe790f6erow2_col0 {\n",
       "            background-color:  #d3d4e7;\n",
       "            color:  #000000;\n",
       "        }    #T_dbf29c58_ac58_11ea_b225_88e9fe790f6erow2_col1 {\n",
       "            background-color:  #dfddec;\n",
       "            color:  #000000;\n",
       "        }    #T_dbf29c58_ac58_11ea_b225_88e9fe790f6erow2_col2 {\n",
       "            background-color:  #023858;\n",
       "            color:  #f1f1f1;\n",
       "        }    #T_dbf29c58_ac58_11ea_b225_88e9fe790f6erow2_col3 {\n",
       "            background-color:  #ede8f3;\n",
       "            color:  #000000;\n",
       "        }    #T_dbf29c58_ac58_11ea_b225_88e9fe790f6erow2_col4 {\n",
       "            background-color:  #c1cae2;\n",
       "            color:  #000000;\n",
       "        }    #T_dbf29c58_ac58_11ea_b225_88e9fe790f6erow2_col5 {\n",
       "            background-color:  #71a8ce;\n",
       "            color:  #000000;\n",
       "        }    #T_dbf29c58_ac58_11ea_b225_88e9fe790f6erow2_col6 {\n",
       "            background-color:  #c6cce3;\n",
       "            color:  #000000;\n",
       "        }    #T_dbf29c58_ac58_11ea_b225_88e9fe790f6erow2_col7 {\n",
       "            background-color:  #f7f0f7;\n",
       "            color:  #000000;\n",
       "        }    #T_dbf29c58_ac58_11ea_b225_88e9fe790f6erow2_col8 {\n",
       "            background-color:  #67a4cc;\n",
       "            color:  #000000;\n",
       "        }    #T_dbf29c58_ac58_11ea_b225_88e9fe790f6erow2_col9 {\n",
       "            background-color:  #fff7fb;\n",
       "            color:  #000000;\n",
       "        }    #T_dbf29c58_ac58_11ea_b225_88e9fe790f6erow3_col0 {\n",
       "            background-color:  #d7d6e9;\n",
       "            color:  #000000;\n",
       "        }    #T_dbf29c58_ac58_11ea_b225_88e9fe790f6erow3_col1 {\n",
       "            background-color:  #dddbec;\n",
       "            color:  #000000;\n",
       "        }    #T_dbf29c58_ac58_11ea_b225_88e9fe790f6erow3_col2 {\n",
       "            background-color:  #e0deed;\n",
       "            color:  #000000;\n",
       "        }    #T_dbf29c58_ac58_11ea_b225_88e9fe790f6erow3_col3 {\n",
       "            background-color:  #023858;\n",
       "            color:  #f1f1f1;\n",
       "        }    #T_dbf29c58_ac58_11ea_b225_88e9fe790f6erow3_col4 {\n",
       "            background-color:  #9cb9d9;\n",
       "            color:  #000000;\n",
       "        }    #T_dbf29c58_ac58_11ea_b225_88e9fe790f6erow3_col5 {\n",
       "            background-color:  #c9cee4;\n",
       "            color:  #000000;\n",
       "        }    #T_dbf29c58_ac58_11ea_b225_88e9fe790f6erow3_col6 {\n",
       "            background-color:  #9cb9d9;\n",
       "            color:  #000000;\n",
       "        }    #T_dbf29c58_ac58_11ea_b225_88e9fe790f6erow3_col7 {\n",
       "            background-color:  #dad9ea;\n",
       "            color:  #000000;\n",
       "        }    #T_dbf29c58_ac58_11ea_b225_88e9fe790f6erow3_col8 {\n",
       "            background-color:  #fff7fb;\n",
       "            color:  #000000;\n",
       "        }    #T_dbf29c58_ac58_11ea_b225_88e9fe790f6erow3_col9 {\n",
       "            background-color:  #6fa7ce;\n",
       "            color:  #000000;\n",
       "        }    #T_dbf29c58_ac58_11ea_b225_88e9fe790f6erow4_col0 {\n",
       "            background-color:  #e9e5f1;\n",
       "            color:  #000000;\n",
       "        }    #T_dbf29c58_ac58_11ea_b225_88e9fe790f6erow4_col1 {\n",
       "            background-color:  #cdd0e5;\n",
       "            color:  #000000;\n",
       "        }    #T_dbf29c58_ac58_11ea_b225_88e9fe790f6erow4_col2 {\n",
       "            background-color:  #bfc9e1;\n",
       "            color:  #000000;\n",
       "        }    #T_dbf29c58_ac58_11ea_b225_88e9fe790f6erow4_col3 {\n",
       "            background-color:  #a9bfdc;\n",
       "            color:  #000000;\n",
       "        }    #T_dbf29c58_ac58_11ea_b225_88e9fe790f6erow4_col4 {\n",
       "            background-color:  #023858;\n",
       "            color:  #f1f1f1;\n",
       "        }    #T_dbf29c58_ac58_11ea_b225_88e9fe790f6erow4_col5 {\n",
       "            background-color:  #fff7fb;\n",
       "            color:  #000000;\n",
       "        }    #T_dbf29c58_ac58_11ea_b225_88e9fe790f6erow4_col6 {\n",
       "            background-color:  #fff7fb;\n",
       "            color:  #000000;\n",
       "        }    #T_dbf29c58_ac58_11ea_b225_88e9fe790f6erow4_col7 {\n",
       "            background-color:  #fff7fb;\n",
       "            color:  #000000;\n",
       "        }    #T_dbf29c58_ac58_11ea_b225_88e9fe790f6erow4_col8 {\n",
       "            background-color:  #7dacd1;\n",
       "            color:  #000000;\n",
       "        }    #T_dbf29c58_ac58_11ea_b225_88e9fe790f6erow4_col9 {\n",
       "            background-color:  #9fbad9;\n",
       "            color:  #000000;\n",
       "        }    #T_dbf29c58_ac58_11ea_b225_88e9fe790f6erow5_col0 {\n",
       "            background-color:  #d5d5e8;\n",
       "            color:  #000000;\n",
       "        }    #T_dbf29c58_ac58_11ea_b225_88e9fe790f6erow5_col1 {\n",
       "            background-color:  #dddbec;\n",
       "            color:  #000000;\n",
       "        }    #T_dbf29c58_ac58_11ea_b225_88e9fe790f6erow5_col2 {\n",
       "            background-color:  #4a98c5;\n",
       "            color:  #000000;\n",
       "        }    #T_dbf29c58_ac58_11ea_b225_88e9fe790f6erow5_col3 {\n",
       "            background-color:  #b1c2de;\n",
       "            color:  #000000;\n",
       "        }    #T_dbf29c58_ac58_11ea_b225_88e9fe790f6erow5_col4 {\n",
       "            background-color:  #e7e3f0;\n",
       "            color:  #000000;\n",
       "        }    #T_dbf29c58_ac58_11ea_b225_88e9fe790f6erow5_col5 {\n",
       "            background-color:  #023858;\n",
       "            color:  #f1f1f1;\n",
       "        }    #T_dbf29c58_ac58_11ea_b225_88e9fe790f6erow5_col6 {\n",
       "            background-color:  #d4d4e8;\n",
       "            color:  #000000;\n",
       "        }    #T_dbf29c58_ac58_11ea_b225_88e9fe790f6erow5_col7 {\n",
       "            background-color:  #f1ebf4;\n",
       "            color:  #000000;\n",
       "        }    #T_dbf29c58_ac58_11ea_b225_88e9fe790f6erow5_col8 {\n",
       "            background-color:  #eee9f3;\n",
       "            color:  #000000;\n",
       "        }    #T_dbf29c58_ac58_11ea_b225_88e9fe790f6erow5_col9 {\n",
       "            background-color:  #d2d2e7;\n",
       "            color:  #000000;\n",
       "        }    #T_dbf29c58_ac58_11ea_b225_88e9fe790f6erow6_col0 {\n",
       "            background-color:  #fff7fb;\n",
       "            color:  #000000;\n",
       "        }    #T_dbf29c58_ac58_11ea_b225_88e9fe790f6erow6_col1 {\n",
       "            background-color:  #fff7fb;\n",
       "            color:  #000000;\n",
       "        }    #T_dbf29c58_ac58_11ea_b225_88e9fe790f6erow6_col2 {\n",
       "            background-color:  #c4cbe3;\n",
       "            color:  #000000;\n",
       "        }    #T_dbf29c58_ac58_11ea_b225_88e9fe790f6erow6_col3 {\n",
       "            background-color:  #a9bfdc;\n",
       "            color:  #000000;\n",
       "        }    #T_dbf29c58_ac58_11ea_b225_88e9fe790f6erow6_col4 {\n",
       "            background-color:  #fff7fb;\n",
       "            color:  #000000;\n",
       "        }    #T_dbf29c58_ac58_11ea_b225_88e9fe790f6erow6_col5 {\n",
       "            background-color:  #f1ebf4;\n",
       "            color:  #000000;\n",
       "        }    #T_dbf29c58_ac58_11ea_b225_88e9fe790f6erow6_col6 {\n",
       "            background-color:  #023858;\n",
       "            color:  #f1f1f1;\n",
       "        }    #T_dbf29c58_ac58_11ea_b225_88e9fe790f6erow6_col7 {\n",
       "            background-color:  #f2ecf5;\n",
       "            color:  #000000;\n",
       "        }    #T_dbf29c58_ac58_11ea_b225_88e9fe790f6erow6_col8 {\n",
       "            background-color:  #e6e2ef;\n",
       "            color:  #000000;\n",
       "        }    #T_dbf29c58_ac58_11ea_b225_88e9fe790f6erow6_col9 {\n",
       "            background-color:  #cdd0e5;\n",
       "            color:  #000000;\n",
       "        }    #T_dbf29c58_ac58_11ea_b225_88e9fe790f6erow7_col0 {\n",
       "            background-color:  #dcdaeb;\n",
       "            color:  #000000;\n",
       "        }    #T_dbf29c58_ac58_11ea_b225_88e9fe790f6erow7_col1 {\n",
       "            background-color:  #e4e1ef;\n",
       "            color:  #000000;\n",
       "        }    #T_dbf29c58_ac58_11ea_b225_88e9fe790f6erow7_col2 {\n",
       "            background-color:  #d1d2e6;\n",
       "            color:  #000000;\n",
       "        }    #T_dbf29c58_ac58_11ea_b225_88e9fe790f6erow7_col3 {\n",
       "            background-color:  #b7c5df;\n",
       "            color:  #000000;\n",
       "        }    #T_dbf29c58_ac58_11ea_b225_88e9fe790f6erow7_col4 {\n",
       "            background-color:  #dcdaeb;\n",
       "            color:  #000000;\n",
       "        }    #T_dbf29c58_ac58_11ea_b225_88e9fe790f6erow7_col5 {\n",
       "            background-color:  #e7e3f0;\n",
       "            color:  #000000;\n",
       "        }    #T_dbf29c58_ac58_11ea_b225_88e9fe790f6erow7_col6 {\n",
       "            background-color:  #cccfe5;\n",
       "            color:  #000000;\n",
       "        }    #T_dbf29c58_ac58_11ea_b225_88e9fe790f6erow7_col7 {\n",
       "            background-color:  #023858;\n",
       "            color:  #f1f1f1;\n",
       "        }    #T_dbf29c58_ac58_11ea_b225_88e9fe790f6erow7_col8 {\n",
       "            background-color:  #a5bddb;\n",
       "            color:  #000000;\n",
       "        }    #T_dbf29c58_ac58_11ea_b225_88e9fe790f6erow7_col9 {\n",
       "            background-color:  #0569a4;\n",
       "            color:  #f1f1f1;\n",
       "        }    #T_dbf29c58_ac58_11ea_b225_88e9fe790f6erow8_col0 {\n",
       "            background-color:  #e6e2ef;\n",
       "            color:  #000000;\n",
       "        }    #T_dbf29c58_ac58_11ea_b225_88e9fe790f6erow8_col1 {\n",
       "            background-color:  #dddbec;\n",
       "            color:  #000000;\n",
       "        }    #T_dbf29c58_ac58_11ea_b225_88e9fe790f6erow8_col2 {\n",
       "            background-color:  #589ec8;\n",
       "            color:  #000000;\n",
       "        }    #T_dbf29c58_ac58_11ea_b225_88e9fe790f6erow8_col3 {\n",
       "            background-color:  #fff7fb;\n",
       "            color:  #000000;\n",
       "        }    #T_dbf29c58_ac58_11ea_b225_88e9fe790f6erow8_col4 {\n",
       "            background-color:  #71a8ce;\n",
       "            color:  #000000;\n",
       "        }    #T_dbf29c58_ac58_11ea_b225_88e9fe790f6erow8_col5 {\n",
       "            background-color:  #fef6fa;\n",
       "            color:  #000000;\n",
       "        }    #T_dbf29c58_ac58_11ea_b225_88e9fe790f6erow8_col6 {\n",
       "            background-color:  #dbdaeb;\n",
       "            color:  #000000;\n",
       "        }    #T_dbf29c58_ac58_11ea_b225_88e9fe790f6erow8_col7 {\n",
       "            background-color:  #cacee5;\n",
       "            color:  #000000;\n",
       "        }    #T_dbf29c58_ac58_11ea_b225_88e9fe790f6erow8_col8 {\n",
       "            background-color:  #023858;\n",
       "            color:  #f1f1f1;\n",
       "        }    #T_dbf29c58_ac58_11ea_b225_88e9fe790f6erow8_col9 {\n",
       "            background-color:  #b9c6e0;\n",
       "            color:  #000000;\n",
       "        }    #T_dbf29c58_ac58_11ea_b225_88e9fe790f6erow9_col0 {\n",
       "            background-color:  #e1dfed;\n",
       "            color:  #000000;\n",
       "        }    #T_dbf29c58_ac58_11ea_b225_88e9fe790f6erow9_col1 {\n",
       "            background-color:  #d9d8ea;\n",
       "            color:  #000000;\n",
       "        }    #T_dbf29c58_ac58_11ea_b225_88e9fe790f6erow9_col2 {\n",
       "            background-color:  #fff7fb;\n",
       "            color:  #000000;\n",
       "        }    #T_dbf29c58_ac58_11ea_b225_88e9fe790f6erow9_col3 {\n",
       "            background-color:  #7eadd1;\n",
       "            color:  #000000;\n",
       "        }    #T_dbf29c58_ac58_11ea_b225_88e9fe790f6erow9_col4 {\n",
       "            background-color:  #a2bcda;\n",
       "            color:  #000000;\n",
       "        }    #T_dbf29c58_ac58_11ea_b225_88e9fe790f6erow9_col5 {\n",
       "            background-color:  #f0eaf4;\n",
       "            color:  #000000;\n",
       "        }    #T_dbf29c58_ac58_11ea_b225_88e9fe790f6erow9_col6 {\n",
       "            background-color:  #d0d1e6;\n",
       "            color:  #000000;\n",
       "        }    #T_dbf29c58_ac58_11ea_b225_88e9fe790f6erow9_col7 {\n",
       "            background-color:  #0a73b2;\n",
       "            color:  #f1f1f1;\n",
       "        }    #T_dbf29c58_ac58_11ea_b225_88e9fe790f6erow9_col8 {\n",
       "            background-color:  #c9cee4;\n",
       "            color:  #000000;\n",
       "        }    #T_dbf29c58_ac58_11ea_b225_88e9fe790f6erow9_col9 {\n",
       "            background-color:  #023858;\n",
       "            color:  #f1f1f1;\n",
       "        }</style><table id=\"T_dbf29c58_ac58_11ea_b225_88e9fe790f6e\" ><thead>    <tr>        <th class=\"blank level0\" ></th>        <th class=\"col_heading level0 col0\" >year</th>        <th class=\"col_heading level0 col1\" >age</th>        <th class=\"col_heading level0 col2\" >poverty_rate</th>        <th class=\"col_heading level0 col3\" >percent_completed_hs</th>        <th class=\"col_heading level0 col4\" >share_white</th>        <th class=\"col_heading level0 col5\" >share_black</th>        <th class=\"col_heading level0 col6\" >share_native_american</th>        <th class=\"col_heading level0 col7\" >share_asian</th>        <th class=\"col_heading level0 col8\" >share_hispanic</th>        <th class=\"col_heading level0 col9\" >median_income</th>    </tr></thead><tbody>\n",
       "                <tr>\n",
       "                        <th id=\"T_dbf29c58_ac58_11ea_b225_88e9fe790f6elevel0_row0\" class=\"row_heading level0 row0\" >year</th>\n",
       "                        <td id=\"T_dbf29c58_ac58_11ea_b225_88e9fe790f6erow0_col0\" class=\"data row0 col0\" >1</td>\n",
       "                        <td id=\"T_dbf29c58_ac58_11ea_b225_88e9fe790f6erow0_col1\" class=\"data row0 col1\" >0.0393763</td>\n",
       "                        <td id=\"T_dbf29c58_ac58_11ea_b225_88e9fe790f6erow0_col2\" class=\"data row0 col2\" >0.111406</td>\n",
       "                        <td id=\"T_dbf29c58_ac58_11ea_b225_88e9fe790f6erow0_col3\" class=\"data row0 col3\" >0.0893412</td>\n",
       "                        <td id=\"T_dbf29c58_ac58_11ea_b225_88e9fe790f6erow0_col4\" class=\"data row0 col4\" >-0.00393787</td>\n",
       "                        <td id=\"T_dbf29c58_ac58_11ea_b225_88e9fe790f6erow0_col5\" class=\"data row0 col5\" >0.099934</td>\n",
       "                        <td id=\"T_dbf29c58_ac58_11ea_b225_88e9fe790f6erow0_col6\" class=\"data row0 col6\" >-0.165987</td>\n",
       "                        <td id=\"T_dbf29c58_ac58_11ea_b225_88e9fe790f6erow0_col7\" class=\"data row0 col7\" >0.0653094</td>\n",
       "                        <td id=\"T_dbf29c58_ac58_11ea_b225_88e9fe790f6erow0_col8\" class=\"data row0 col8\" >0.0138154</td>\n",
       "                        <td id=\"T_dbf29c58_ac58_11ea_b225_88e9fe790f6erow0_col9\" class=\"data row0 col9\" >0.0359316</td>\n",
       "            </tr>\n",
       "            <tr>\n",
       "                        <th id=\"T_dbf29c58_ac58_11ea_b225_88e9fe790f6elevel0_row1\" class=\"row_heading level0 row1\" >age</th>\n",
       "                        <td id=\"T_dbf29c58_ac58_11ea_b225_88e9fe790f6erow1_col0\" class=\"data row1 col0\" >0.0393763</td>\n",
       "                        <td id=\"T_dbf29c58_ac58_11ea_b225_88e9fe790f6erow1_col1\" class=\"data row1 col1\" >1</td>\n",
       "                        <td id=\"T_dbf29c58_ac58_11ea_b225_88e9fe790f6erow1_col2\" class=\"data row1 col2\" >0.0320506</td>\n",
       "                        <td id=\"T_dbf29c58_ac58_11ea_b225_88e9fe790f6erow1_col3\" class=\"data row1 col3\" >0.0409949</td>\n",
       "                        <td id=\"T_dbf29c58_ac58_11ea_b225_88e9fe790f6erow1_col4\" class=\"data row1 col4\" >0.121906</td>\n",
       "                        <td id=\"T_dbf29c58_ac58_11ea_b225_88e9fe790f6erow1_col5\" class=\"data row1 col5\" >0.0400931</td>\n",
       "                        <td id=\"T_dbf29c58_ac58_11ea_b225_88e9fe790f6erow1_col6\" class=\"data row1 col6\" >-0.189266</td>\n",
       "                        <td id=\"T_dbf29c58_ac58_11ea_b225_88e9fe790f6erow1_col7\" class=\"data row1 col7\" >0.00224954</td>\n",
       "                        <td id=\"T_dbf29c58_ac58_11ea_b225_88e9fe790f6erow1_col8\" class=\"data row1 col8\" >0.0427657</td>\n",
       "                        <td id=\"T_dbf29c58_ac58_11ea_b225_88e9fe790f6erow1_col9\" class=\"data row1 col9\" >0.0627995</td>\n",
       "            </tr>\n",
       "            <tr>\n",
       "                        <th id=\"T_dbf29c58_ac58_11ea_b225_88e9fe790f6elevel0_row2\" class=\"row_heading level0 row2\" >poverty_rate</th>\n",
       "                        <td id=\"T_dbf29c58_ac58_11ea_b225_88e9fe790f6erow2_col0\" class=\"data row2 col0\" >0.111406</td>\n",
       "                        <td id=\"T_dbf29c58_ac58_11ea_b225_88e9fe790f6erow2_col1\" class=\"data row2 col1\" >0.0320506</td>\n",
       "                        <td id=\"T_dbf29c58_ac58_11ea_b225_88e9fe790f6erow2_col2\" class=\"data row2 col2\" >1</td>\n",
       "                        <td id=\"T_dbf29c58_ac58_11ea_b225_88e9fe790f6erow2_col3\" class=\"data row2 col3\" >-0.322493</td>\n",
       "                        <td id=\"T_dbf29c58_ac58_11ea_b225_88e9fe790f6erow2_col4\" class=\"data row2 col4\" >-0.116913</td>\n",
       "                        <td id=\"T_dbf29c58_ac58_11ea_b225_88e9fe790f6erow2_col5\" class=\"data row2 col5\" >0.333176</td>\n",
       "                        <td id=\"T_dbf29c58_ac58_11ea_b225_88e9fe790f6erow2_col6\" class=\"data row2 col6\" >-0.146685</td>\n",
       "                        <td id=\"T_dbf29c58_ac58_11ea_b225_88e9fe790f6erow2_col7\" class=\"data row2 col7\" >-0.206265</td>\n",
       "                        <td id=\"T_dbf29c58_ac58_11ea_b225_88e9fe790f6erow2_col8\" class=\"data row2 col8\" >0.289368</td>\n",
       "                        <td id=\"T_dbf29c58_ac58_11ea_b225_88e9fe790f6erow2_col9\" class=\"data row2 col9\" >-0.606271</td>\n",
       "            </tr>\n",
       "            <tr>\n",
       "                        <th id=\"T_dbf29c58_ac58_11ea_b225_88e9fe790f6elevel0_row3\" class=\"row_heading level0 row3\" >percent_completed_hs</th>\n",
       "                        <td id=\"T_dbf29c58_ac58_11ea_b225_88e9fe790f6erow3_col0\" class=\"data row3 col0\" >0.0893412</td>\n",
       "                        <td id=\"T_dbf29c58_ac58_11ea_b225_88e9fe790f6erow3_col1\" class=\"data row3 col1\" >0.0409949</td>\n",
       "                        <td id=\"T_dbf29c58_ac58_11ea_b225_88e9fe790f6erow3_col2\" class=\"data row3 col2\" >-0.322493</td>\n",
       "                        <td id=\"T_dbf29c58_ac58_11ea_b225_88e9fe790f6erow3_col3\" class=\"data row3 col3\" >1</td>\n",
       "                        <td id=\"T_dbf29c58_ac58_11ea_b225_88e9fe790f6erow3_col4\" class=\"data row3 col4\" >0.0447716</td>\n",
       "                        <td id=\"T_dbf29c58_ac58_11ea_b225_88e9fe790f6erow3_col5\" class=\"data row3 col5\" >0.0144349</td>\n",
       "                        <td id=\"T_dbf29c58_ac58_11ea_b225_88e9fe790f6erow3_col6\" class=\"data row3 col6\" >0.0448773</td>\n",
       "                        <td id=\"T_dbf29c58_ac58_11ea_b225_88e9fe790f6erow3_col7\" class=\"data row3 col7\" >-0.0129527</td>\n",
       "                        <td id=\"T_dbf29c58_ac58_11ea_b225_88e9fe790f6erow3_col8\" class=\"data row3 col8\" >-0.500997</td>\n",
       "                        <td id=\"T_dbf29c58_ac58_11ea_b225_88e9fe790f6erow3_col9\" class=\"data row3 col9\" >0.21283</td>\n",
       "            </tr>\n",
       "            <tr>\n",
       "                        <th id=\"T_dbf29c58_ac58_11ea_b225_88e9fe790f6elevel0_row4\" class=\"row_heading level0 row4\" >share_white</th>\n",
       "                        <td id=\"T_dbf29c58_ac58_11ea_b225_88e9fe790f6erow4_col0\" class=\"data row4 col0\" >-0.00393787</td>\n",
       "                        <td id=\"T_dbf29c58_ac58_11ea_b225_88e9fe790f6erow4_col1\" class=\"data row4 col1\" >0.121906</td>\n",
       "                        <td id=\"T_dbf29c58_ac58_11ea_b225_88e9fe790f6erow4_col2\" class=\"data row4 col2\" >-0.116913</td>\n",
       "                        <td id=\"T_dbf29c58_ac58_11ea_b225_88e9fe790f6erow4_col3\" class=\"data row4 col3\" >0.0447716</td>\n",
       "                        <td id=\"T_dbf29c58_ac58_11ea_b225_88e9fe790f6erow4_col4\" class=\"data row4 col4\" >1</td>\n",
       "                        <td id=\"T_dbf29c58_ac58_11ea_b225_88e9fe790f6erow4_col5\" class=\"data row4 col5\" >-0.351996</td>\n",
       "                        <td id=\"T_dbf29c58_ac58_11ea_b225_88e9fe790f6erow4_col6\" class=\"data row4 col6\" >-0.588355</td>\n",
       "                        <td id=\"T_dbf29c58_ac58_11ea_b225_88e9fe790f6erow4_col7\" class=\"data row4 col7\" >-0.276833</td>\n",
       "                        <td id=\"T_dbf29c58_ac58_11ea_b225_88e9fe790f6erow4_col8\" class=\"data row4 col8\" >0.217446</td>\n",
       "                        <td id=\"T_dbf29c58_ac58_11ea_b225_88e9fe790f6erow4_col9\" class=\"data row4 col9\" >0.0258424</td>\n",
       "            </tr>\n",
       "            <tr>\n",
       "                        <th id=\"T_dbf29c58_ac58_11ea_b225_88e9fe790f6elevel0_row5\" class=\"row_heading level0 row5\" >share_black</th>\n",
       "                        <td id=\"T_dbf29c58_ac58_11ea_b225_88e9fe790f6erow5_col0\" class=\"data row5 col0\" >0.099934</td>\n",
       "                        <td id=\"T_dbf29c58_ac58_11ea_b225_88e9fe790f6erow5_col1\" class=\"data row5 col1\" >0.0400931</td>\n",
       "                        <td id=\"T_dbf29c58_ac58_11ea_b225_88e9fe790f6erow5_col2\" class=\"data row5 col2\" >0.333176</td>\n",
       "                        <td id=\"T_dbf29c58_ac58_11ea_b225_88e9fe790f6erow5_col3\" class=\"data row5 col3\" >0.0144349</td>\n",
       "                        <td id=\"T_dbf29c58_ac58_11ea_b225_88e9fe790f6erow5_col4\" class=\"data row5 col4\" >-0.351996</td>\n",
       "                        <td id=\"T_dbf29c58_ac58_11ea_b225_88e9fe790f6erow5_col5\" class=\"data row5 col5\" >1</td>\n",
       "                        <td id=\"T_dbf29c58_ac58_11ea_b225_88e9fe790f6erow5_col6\" class=\"data row5 col6\" >-0.221765</td>\n",
       "                        <td id=\"T_dbf29c58_ac58_11ea_b225_88e9fe790f6erow5_col7\" class=\"data row5 col7\" >-0.156031</td>\n",
       "                        <td id=\"T_dbf29c58_ac58_11ea_b225_88e9fe790f6erow5_col8\" class=\"data row5 col8\" >-0.336348</td>\n",
       "                        <td id=\"T_dbf29c58_ac58_11ea_b225_88e9fe790f6erow5_col9\" class=\"data row5 col9\" >-0.211854</td>\n",
       "            </tr>\n",
       "            <tr>\n",
       "                        <th id=\"T_dbf29c58_ac58_11ea_b225_88e9fe790f6elevel0_row6\" class=\"row_heading level0 row6\" >share_native_american</th>\n",
       "                        <td id=\"T_dbf29c58_ac58_11ea_b225_88e9fe790f6erow6_col0\" class=\"data row6 col0\" >-0.165987</td>\n",
       "                        <td id=\"T_dbf29c58_ac58_11ea_b225_88e9fe790f6erow6_col1\" class=\"data row6 col1\" >-0.189266</td>\n",
       "                        <td id=\"T_dbf29c58_ac58_11ea_b225_88e9fe790f6erow6_col2\" class=\"data row6 col2\" >-0.146685</td>\n",
       "                        <td id=\"T_dbf29c58_ac58_11ea_b225_88e9fe790f6erow6_col3\" class=\"data row6 col3\" >0.0448773</td>\n",
       "                        <td id=\"T_dbf29c58_ac58_11ea_b225_88e9fe790f6erow6_col4\" class=\"data row6 col4\" >-0.588355</td>\n",
       "                        <td id=\"T_dbf29c58_ac58_11ea_b225_88e9fe790f6erow6_col5\" class=\"data row6 col5\" >-0.221765</td>\n",
       "                        <td id=\"T_dbf29c58_ac58_11ea_b225_88e9fe790f6erow6_col6\" class=\"data row6 col6\" >1</td>\n",
       "                        <td id=\"T_dbf29c58_ac58_11ea_b225_88e9fe790f6erow6_col7\" class=\"data row6 col7\" >-0.171216</td>\n",
       "                        <td id=\"T_dbf29c58_ac58_11ea_b225_88e9fe790f6erow6_col8\" class=\"data row6 col8\" >-0.267149</td>\n",
       "                        <td id=\"T_dbf29c58_ac58_11ea_b225_88e9fe790f6erow6_col9\" class=\"data row6 col9\" >-0.185961</td>\n",
       "            </tr>\n",
       "            <tr>\n",
       "                        <th id=\"T_dbf29c58_ac58_11ea_b225_88e9fe790f6elevel0_row7\" class=\"row_heading level0 row7\" >share_asian</th>\n",
       "                        <td id=\"T_dbf29c58_ac58_11ea_b225_88e9fe790f6erow7_col0\" class=\"data row7 col0\" >0.0653094</td>\n",
       "                        <td id=\"T_dbf29c58_ac58_11ea_b225_88e9fe790f6erow7_col1\" class=\"data row7 col1\" >0.00224954</td>\n",
       "                        <td id=\"T_dbf29c58_ac58_11ea_b225_88e9fe790f6erow7_col2\" class=\"data row7 col2\" >-0.206265</td>\n",
       "                        <td id=\"T_dbf29c58_ac58_11ea_b225_88e9fe790f6erow7_col3\" class=\"data row7 col3\" >-0.0129527</td>\n",
       "                        <td id=\"T_dbf29c58_ac58_11ea_b225_88e9fe790f6erow7_col4\" class=\"data row7 col4\" >-0.276833</td>\n",
       "                        <td id=\"T_dbf29c58_ac58_11ea_b225_88e9fe790f6erow7_col5\" class=\"data row7 col5\" >-0.156031</td>\n",
       "                        <td id=\"T_dbf29c58_ac58_11ea_b225_88e9fe790f6erow7_col6\" class=\"data row7 col6\" >-0.171216</td>\n",
       "                        <td id=\"T_dbf29c58_ac58_11ea_b225_88e9fe790f6erow7_col7\" class=\"data row7 col7\" >1</td>\n",
       "                        <td id=\"T_dbf29c58_ac58_11ea_b225_88e9fe790f6erow7_col8\" class=\"data row7 col8\" >0.0666548</td>\n",
       "                        <td id=\"T_dbf29c58_ac58_11ea_b225_88e9fe790f6erow7_col9\" class=\"data row7 col9\" >0.665199</td>\n",
       "            </tr>\n",
       "            <tr>\n",
       "                        <th id=\"T_dbf29c58_ac58_11ea_b225_88e9fe790f6elevel0_row8\" class=\"row_heading level0 row8\" >share_hispanic</th>\n",
       "                        <td id=\"T_dbf29c58_ac58_11ea_b225_88e9fe790f6erow8_col0\" class=\"data row8 col0\" >0.0138154</td>\n",
       "                        <td id=\"T_dbf29c58_ac58_11ea_b225_88e9fe790f6erow8_col1\" class=\"data row8 col1\" >0.0427657</td>\n",
       "                        <td id=\"T_dbf29c58_ac58_11ea_b225_88e9fe790f6erow8_col2\" class=\"data row8 col2\" >0.289368</td>\n",
       "                        <td id=\"T_dbf29c58_ac58_11ea_b225_88e9fe790f6erow8_col3\" class=\"data row8 col3\" >-0.500997</td>\n",
       "                        <td id=\"T_dbf29c58_ac58_11ea_b225_88e9fe790f6erow8_col4\" class=\"data row8 col4\" >0.217446</td>\n",
       "                        <td id=\"T_dbf29c58_ac58_11ea_b225_88e9fe790f6erow8_col5\" class=\"data row8 col5\" >-0.336348</td>\n",
       "                        <td id=\"T_dbf29c58_ac58_11ea_b225_88e9fe790f6erow8_col6\" class=\"data row8 col6\" >-0.267149</td>\n",
       "                        <td id=\"T_dbf29c58_ac58_11ea_b225_88e9fe790f6erow8_col7\" class=\"data row8 col7\" >0.0666548</td>\n",
       "                        <td id=\"T_dbf29c58_ac58_11ea_b225_88e9fe790f6erow8_col8\" class=\"data row8 col8\" >1</td>\n",
       "                        <td id=\"T_dbf29c58_ac58_11ea_b225_88e9fe790f6erow8_col9\" class=\"data row8 col9\" >-0.0958477</td>\n",
       "            </tr>\n",
       "            <tr>\n",
       "                        <th id=\"T_dbf29c58_ac58_11ea_b225_88e9fe790f6elevel0_row9\" class=\"row_heading level0 row9\" >median_income</th>\n",
       "                        <td id=\"T_dbf29c58_ac58_11ea_b225_88e9fe790f6erow9_col0\" class=\"data row9 col0\" >0.0359316</td>\n",
       "                        <td id=\"T_dbf29c58_ac58_11ea_b225_88e9fe790f6erow9_col1\" class=\"data row9 col1\" >0.0627995</td>\n",
       "                        <td id=\"T_dbf29c58_ac58_11ea_b225_88e9fe790f6erow9_col2\" class=\"data row9 col2\" >-0.606271</td>\n",
       "                        <td id=\"T_dbf29c58_ac58_11ea_b225_88e9fe790f6erow9_col3\" class=\"data row9 col3\" >0.21283</td>\n",
       "                        <td id=\"T_dbf29c58_ac58_11ea_b225_88e9fe790f6erow9_col4\" class=\"data row9 col4\" >0.0258424</td>\n",
       "                        <td id=\"T_dbf29c58_ac58_11ea_b225_88e9fe790f6erow9_col5\" class=\"data row9 col5\" >-0.211854</td>\n",
       "                        <td id=\"T_dbf29c58_ac58_11ea_b225_88e9fe790f6erow9_col6\" class=\"data row9 col6\" >-0.185961</td>\n",
       "                        <td id=\"T_dbf29c58_ac58_11ea_b225_88e9fe790f6erow9_col7\" class=\"data row9 col7\" >0.665199</td>\n",
       "                        <td id=\"T_dbf29c58_ac58_11ea_b225_88e9fe790f6erow9_col8\" class=\"data row9 col8\" >-0.0958477</td>\n",
       "                        <td id=\"T_dbf29c58_ac58_11ea_b225_88e9fe790f6erow9_col9\" class=\"data row9 col9\" >1</td>\n",
       "            </tr>\n",
       "    </tbody></table>"
      ],
      "text/plain": [
       "<pandas.io.formats.style.Styler at 0x11fbf5e48>"
      ]
     },
     "execution_count": 65,
     "metadata": {},
     "output_type": "execute_result"
    }
   ],
   "source": [
    "correlations(most_killings_df)"
   ]
  },
  {
   "cell_type": "code",
   "execution_count": 66,
   "metadata": {},
   "outputs": [
    {
     "data": {
      "image/png": "[encoded data removed]",
      "text/plain": [
       "<Figure size 432x288 with 1 Axes>"
      ]
     },
     "metadata": {
      "needs_background": "light"
     },
     "output_type": "display_data"
    },
    {
     "data": {
      "image/png": "[encoded data removed]",
      "text/plain": [
       "<Figure size 432x288 with 1 Axes>"
      ]
     },
     "metadata": {
      "needs_background": "light"
     },
     "output_type": "display_data"
    },
    {
     "data": {
      "image/png": "[encoded data removed]",
      "text/plain": [
       "<Figure size 432x288 with 1 Axes>"
      ]
     },
     "metadata": {
      "needs_background": "light"
     },
     "output_type": "display_data"
    },
    {
     "data": {
      "image/png": "[encoded data removed]",
      "text/plain": [
       "<Figure size 432x288 with 1 Axes>"
      ]
     },
     "metadata": {
      "needs_background": "light"
     },
     "output_type": "display_data"
    }
   ],
   "source": [
    "eda_charts(most_killings_df)"
   ]
  },
  {
   "cell_type": "markdown",
   "metadata": {},
   "source": [
    "## Rest of Cities"
   ]
  },
  {
   "cell_type": "code",
   "execution_count": 67,
   "metadata": {},
   "outputs": [],
   "source": [
    "rest_killings_df = demo_killings_df.loc[demo_killings_df['city'].isin(demo_killings_df.city.value_counts().index[32:])]"
   ]
  },
  {
   "cell_type": "code",
   "execution_count": 68,
   "metadata": {},
   "outputs": [
    {
     "data": {
      "text/html": [
       "<style  type=\"text/css\" >\n",
       "    #T_dc5b0d74_ac58_11ea_b225_88e9fe790f6erow0_col0 {\n",
       "            background-color:  #023858;\n",
       "            color:  #f1f1f1;\n",
       "        }    #T_dc5b0d74_ac58_11ea_b225_88e9fe790f6erow0_col1 {\n",
       "            background-color:  #f0eaf4;\n",
       "            color:  #000000;\n",
       "        }    #T_dc5b0d74_ac58_11ea_b225_88e9fe790f6erow0_col2 {\n",
       "            background-color:  #93b5d6;\n",
       "            color:  #000000;\n",
       "        }    #T_dc5b0d74_ac58_11ea_b225_88e9fe790f6erow0_col3 {\n",
       "            background-color:  #9ebad9;\n",
       "            color:  #000000;\n",
       "        }    #T_dc5b0d74_ac58_11ea_b225_88e9fe790f6erow0_col4 {\n",
       "            background-color:  #91b5d6;\n",
       "            color:  #000000;\n",
       "        }    #T_dc5b0d74_ac58_11ea_b225_88e9fe790f6erow0_col5 {\n",
       "            background-color:  #96b6d7;\n",
       "            color:  #000000;\n",
       "        }    #T_dc5b0d74_ac58_11ea_b225_88e9fe790f6erow0_col6 {\n",
       "            background-color:  #dcdaeb;\n",
       "            color:  #000000;\n",
       "        }    #T_dc5b0d74_ac58_11ea_b225_88e9fe790f6erow0_col7 {\n",
       "            background-color:  #d1d2e6;\n",
       "            color:  #000000;\n",
       "        }    #T_dc5b0d74_ac58_11ea_b225_88e9fe790f6erow0_col8 {\n",
       "            background-color:  #b0c2de;\n",
       "            color:  #000000;\n",
       "        }    #T_dc5b0d74_ac58_11ea_b225_88e9fe790f6erow0_col9 {\n",
       "            background-color:  #8cb3d5;\n",
       "            color:  #000000;\n",
       "        }    #T_dc5b0d74_ac58_11ea_b225_88e9fe790f6erow1_col0 {\n",
       "            background-color:  #f7f0f7;\n",
       "            color:  #000000;\n",
       "        }    #T_dc5b0d74_ac58_11ea_b225_88e9fe790f6erow1_col1 {\n",
       "            background-color:  #023858;\n",
       "            color:  #f1f1f1;\n",
       "        }    #T_dc5b0d74_ac58_11ea_b225_88e9fe790f6erow1_col2 {\n",
       "            background-color:  #99b8d8;\n",
       "            color:  #000000;\n",
       "        }    #T_dc5b0d74_ac58_11ea_b225_88e9fe790f6erow1_col3 {\n",
       "            background-color:  #9ab8d8;\n",
       "            color:  #000000;\n",
       "        }    #T_dc5b0d74_ac58_11ea_b225_88e9fe790f6erow1_col4 {\n",
       "            background-color:  #63a2cb;\n",
       "            color:  #000000;\n",
       "        }    #T_dc5b0d74_ac58_11ea_b225_88e9fe790f6erow1_col5 {\n",
       "            background-color:  #abbfdc;\n",
       "            color:  #000000;\n",
       "        }    #T_dc5b0d74_ac58_11ea_b225_88e9fe790f6erow1_col6 {\n",
       "            background-color:  #eee8f3;\n",
       "            color:  #000000;\n",
       "        }    #T_dc5b0d74_ac58_11ea_b225_88e9fe790f6erow1_col7 {\n",
       "            background-color:  #dbdaeb;\n",
       "            color:  #000000;\n",
       "        }    #T_dc5b0d74_ac58_11ea_b225_88e9fe790f6erow1_col8 {\n",
       "            background-color:  #bbc7e0;\n",
       "            color:  #000000;\n",
       "        }    #T_dc5b0d74_ac58_11ea_b225_88e9fe790f6erow1_col9 {\n",
       "            background-color:  #91b5d6;\n",
       "            color:  #000000;\n",
       "        }    #T_dc5b0d74_ac58_11ea_b225_88e9fe790f6erow2_col0 {\n",
       "            background-color:  #faf3f9;\n",
       "            color:  #000000;\n",
       "        }    #T_dc5b0d74_ac58_11ea_b225_88e9fe790f6erow2_col1 {\n",
       "            background-color:  #f5eff6;\n",
       "            color:  #000000;\n",
       "        }    #T_dc5b0d74_ac58_11ea_b225_88e9fe790f6erow2_col2 {\n",
       "            background-color:  #023858;\n",
       "            color:  #f1f1f1;\n",
       "        }    #T_dc5b0d74_ac58_11ea_b225_88e9fe790f6erow2_col3 {\n",
       "            background-color:  #f8f1f8;\n",
       "            color:  #000000;\n",
       "        }    #T_dc5b0d74_ac58_11ea_b225_88e9fe790f6erow2_col4 {\n",
       "            background-color:  #d6d6e9;\n",
       "            color:  #000000;\n",
       "        }    #T_dc5b0d74_ac58_11ea_b225_88e9fe790f6erow2_col5 {\n",
       "            background-color:  #2d8abd;\n",
       "            color:  #000000;\n",
       "        }    #T_dc5b0d74_ac58_11ea_b225_88e9fe790f6erow2_col6 {\n",
       "            background-color:  #d1d2e6;\n",
       "            color:  #000000;\n",
       "        }    #T_dc5b0d74_ac58_11ea_b225_88e9fe790f6erow2_col7 {\n",
       "            background-color:  #f2ecf5;\n",
       "            color:  #000000;\n",
       "        }    #T_dc5b0d74_ac58_11ea_b225_88e9fe790f6erow2_col8 {\n",
       "            background-color:  #8bb2d4;\n",
       "            color:  #000000;\n",
       "        }    #T_dc5b0d74_ac58_11ea_b225_88e9fe790f6erow2_col9 {\n",
       "            background-color:  #fff7fb;\n",
       "            color:  #000000;\n",
       "        }    #T_dc5b0d74_ac58_11ea_b225_88e9fe790f6erow3_col0 {\n",
       "            background-color:  #f4eef6;\n",
       "            color:  #000000;\n",
       "        }    #T_dc5b0d74_ac58_11ea_b225_88e9fe790f6erow3_col1 {\n",
       "            background-color:  #eae6f1;\n",
       "            color:  #000000;\n",
       "        }    #T_dc5b0d74_ac58_11ea_b225_88e9fe790f6erow3_col2 {\n",
       "            background-color:  #ede7f2;\n",
       "            color:  #000000;\n",
       "        }    #T_dc5b0d74_ac58_11ea_b225_88e9fe790f6erow3_col3 {\n",
       "            background-color:  #023858;\n",
       "            color:  #f1f1f1;\n",
       "        }    #T_dc5b0d74_ac58_11ea_b225_88e9fe790f6erow3_col4 {\n",
       "            background-color:  #308cbe;\n",
       "            color:  #000000;\n",
       "        }    #T_dc5b0d74_ac58_11ea_b225_88e9fe790f6erow3_col5 {\n",
       "            background-color:  #adc1dd;\n",
       "            color:  #000000;\n",
       "        }    #T_dc5b0d74_ac58_11ea_b225_88e9fe790f6erow3_col6 {\n",
       "            background-color:  #f2ecf5;\n",
       "            color:  #000000;\n",
       "        }    #T_dc5b0d74_ac58_11ea_b225_88e9fe790f6erow3_col7 {\n",
       "            background-color:  #bcc7e1;\n",
       "            color:  #000000;\n",
       "        }    #T_dc5b0d74_ac58_11ea_b225_88e9fe790f6erow3_col8 {\n",
       "            background-color:  #fff7fb;\n",
       "            color:  #000000;\n",
       "        }    #T_dc5b0d74_ac58_11ea_b225_88e9fe790f6erow3_col9 {\n",
       "            background-color:  #1e80b8;\n",
       "            color:  #000000;\n",
       "        }    #T_dc5b0d74_ac58_11ea_b225_88e9fe790f6erow4_col0 {\n",
       "            background-color:  #f7f0f7;\n",
       "            color:  #000000;\n",
       "        }    #T_dc5b0d74_ac58_11ea_b225_88e9fe790f6erow4_col1 {\n",
       "            background-color:  #c9cee4;\n",
       "            color:  #000000;\n",
       "        }    #T_dc5b0d74_ac58_11ea_b225_88e9fe790f6erow4_col2 {\n",
       "            background-color:  #d4d4e8;\n",
       "            color:  #000000;\n",
       "        }    #T_dc5b0d74_ac58_11ea_b225_88e9fe790f6erow4_col3 {\n",
       "            background-color:  #3f93c2;\n",
       "            color:  #000000;\n",
       "        }    #T_dc5b0d74_ac58_11ea_b225_88e9fe790f6erow4_col4 {\n",
       "            background-color:  #023858;\n",
       "            color:  #f1f1f1;\n",
       "        }    #T_dc5b0d74_ac58_11ea_b225_88e9fe790f6erow4_col5 {\n",
       "            background-color:  #fff7fb;\n",
       "            color:  #000000;\n",
       "        }    #T_dc5b0d74_ac58_11ea_b225_88e9fe790f6erow4_col6 {\n",
       "            background-color:  #fff7fb;\n",
       "            color:  #000000;\n",
       "        }    #T_dc5b0d74_ac58_11ea_b225_88e9fe790f6erow4_col7 {\n",
       "            background-color:  #fff7fb;\n",
       "            color:  #000000;\n",
       "        }    #T_dc5b0d74_ac58_11ea_b225_88e9fe790f6erow4_col8 {\n",
       "            background-color:  #d6d6e9;\n",
       "            color:  #000000;\n",
       "        }    #T_dc5b0d74_ac58_11ea_b225_88e9fe790f6erow4_col9 {\n",
       "            background-color:  #78abd0;\n",
       "            color:  #000000;\n",
       "        }    #T_dc5b0d74_ac58_11ea_b225_88e9fe790f6erow5_col0 {\n",
       "            background-color:  #faf3f9;\n",
       "            color:  #000000;\n",
       "        }    #T_dc5b0d74_ac58_11ea_b225_88e9fe790f6erow5_col1 {\n",
       "            background-color:  #fff7fb;\n",
       "            color:  #000000;\n",
       "        }    #T_dc5b0d74_ac58_11ea_b225_88e9fe790f6erow5_col2 {\n",
       "            background-color:  #2c89bd;\n",
       "            color:  #000000;\n",
       "        }    #T_dc5b0d74_ac58_11ea_b225_88e9fe790f6erow5_col3 {\n",
       "            background-color:  #c0c9e2;\n",
       "            color:  #000000;\n",
       "        }    #T_dc5b0d74_ac58_11ea_b225_88e9fe790f6erow5_col4 {\n",
       "            background-color:  #fff7fb;\n",
       "            color:  #000000;\n",
       "        }    #T_dc5b0d74_ac58_11ea_b225_88e9fe790f6erow5_col5 {\n",
       "            background-color:  #023858;\n",
       "            color:  #f1f1f1;\n",
       "        }    #T_dc5b0d74_ac58_11ea_b225_88e9fe790f6erow5_col6 {\n",
       "            background-color:  #fbf3f9;\n",
       "            color:  #000000;\n",
       "        }    #T_dc5b0d74_ac58_11ea_b225_88e9fe790f6erow5_col7 {\n",
       "            background-color:  #e3e0ee;\n",
       "            color:  #000000;\n",
       "        }    #T_dc5b0d74_ac58_11ea_b225_88e9fe790f6erow5_col8 {\n",
       "            background-color:  #ced0e6;\n",
       "            color:  #000000;\n",
       "        }    #T_dc5b0d74_ac58_11ea_b225_88e9fe790f6erow5_col9 {\n",
       "            background-color:  #c9cee4;\n",
       "            color:  #000000;\n",
       "        }    #T_dc5b0d74_ac58_11ea_b225_88e9fe790f6erow6_col0 {\n",
       "            background-color:  #ede8f3;\n",
       "            color:  #000000;\n",
       "        }    #T_dc5b0d74_ac58_11ea_b225_88e9fe790f6erow6_col1 {\n",
       "            background-color:  #f2ecf5;\n",
       "            color:  #000000;\n",
       "        }    #T_dc5b0d74_ac58_11ea_b225_88e9fe790f6erow6_col2 {\n",
       "            background-color:  #71a8ce;\n",
       "            color:  #000000;\n",
       "        }    #T_dc5b0d74_ac58_11ea_b225_88e9fe790f6erow6_col3 {\n",
       "            background-color:  #b0c2de;\n",
       "            color:  #000000;\n",
       "        }    #T_dc5b0d74_ac58_11ea_b225_88e9fe790f6erow6_col4 {\n",
       "            background-color:  #b3c3de;\n",
       "            color:  #000000;\n",
       "        }    #T_dc5b0d74_ac58_11ea_b225_88e9fe790f6erow6_col5 {\n",
       "            background-color:  #acc0dd;\n",
       "            color:  #000000;\n",
       "        }    #T_dc5b0d74_ac58_11ea_b225_88e9fe790f6erow6_col6 {\n",
       "            background-color:  #023858;\n",
       "            color:  #f1f1f1;\n",
       "        }    #T_dc5b0d74_ac58_11ea_b225_88e9fe790f6erow6_col7 {\n",
       "            background-color:  #dad9ea;\n",
       "            color:  #000000;\n",
       "        }    #T_dc5b0d74_ac58_11ea_b225_88e9fe790f6erow6_col8 {\n",
       "            background-color:  #acc0dd;\n",
       "            color:  #000000;\n",
       "        }    #T_dc5b0d74_ac58_11ea_b225_88e9fe790f6erow6_col9 {\n",
       "            background-color:  #9fbad9;\n",
       "            color:  #000000;\n",
       "        }    #T_dc5b0d74_ac58_11ea_b225_88e9fe790f6erow7_col0 {\n",
       "            background-color:  #f8f1f8;\n",
       "            color:  #000000;\n",
       "        }    #T_dc5b0d74_ac58_11ea_b225_88e9fe790f6erow7_col1 {\n",
       "            background-color:  #f9f2f8;\n",
       "            color:  #000000;\n",
       "        }    #T_dc5b0d74_ac58_11ea_b225_88e9fe790f6erow7_col2 {\n",
       "            background-color:  #bdc8e1;\n",
       "            color:  #000000;\n",
       "        }    #T_dc5b0d74_ac58_11ea_b225_88e9fe790f6erow7_col3 {\n",
       "            background-color:  #91b5d6;\n",
       "            color:  #000000;\n",
       "        }    #T_dc5b0d74_ac58_11ea_b225_88e9fe790f6erow7_col4 {\n",
       "            background-color:  #d4d4e8;\n",
       "            color:  #000000;\n",
       "        }    #T_dc5b0d74_ac58_11ea_b225_88e9fe790f6erow7_col5 {\n",
       "            background-color:  #abbfdc;\n",
       "            color:  #000000;\n",
       "        }    #T_dc5b0d74_ac58_11ea_b225_88e9fe790f6erow7_col6 {\n",
       "            background-color:  #f3edf5;\n",
       "            color:  #000000;\n",
       "        }    #T_dc5b0d74_ac58_11ea_b225_88e9fe790f6erow7_col7 {\n",
       "            background-color:  #023858;\n",
       "            color:  #f1f1f1;\n",
       "        }    #T_dc5b0d74_ac58_11ea_b225_88e9fe790f6erow7_col8 {\n",
       "            background-color:  #81aed2;\n",
       "            color:  #000000;\n",
       "        }    #T_dc5b0d74_ac58_11ea_b225_88e9fe790f6erow7_col9 {\n",
       "            background-color:  #1c7fb8;\n",
       "            color:  #000000;\n",
       "        }    #T_dc5b0d74_ac58_11ea_b225_88e9fe790f6erow8_col0 {\n",
       "            background-color:  #fff7fb;\n",
       "            color:  #000000;\n",
       "        }    #T_dc5b0d74_ac58_11ea_b225_88e9fe790f6erow8_col1 {\n",
       "            background-color:  #fef6fa;\n",
       "            color:  #000000;\n",
       "        }    #T_dc5b0d74_ac58_11ea_b225_88e9fe790f6erow8_col2 {\n",
       "            background-color:  #78abd0;\n",
       "            color:  #000000;\n",
       "        }    #T_dc5b0d74_ac58_11ea_b225_88e9fe790f6erow8_col3 {\n",
       "            background-color:  #fff7fb;\n",
       "            color:  #000000;\n",
       "        }    #T_dc5b0d74_ac58_11ea_b225_88e9fe790f6erow8_col4 {\n",
       "            background-color:  #c5cce3;\n",
       "            color:  #000000;\n",
       "        }    #T_dc5b0d74_ac58_11ea_b225_88e9fe790f6erow8_col5 {\n",
       "            background-color:  #bbc7e0;\n",
       "            color:  #000000;\n",
       "        }    #T_dc5b0d74_ac58_11ea_b225_88e9fe790f6erow8_col6 {\n",
       "            background-color:  #f0eaf4;\n",
       "            color:  #000000;\n",
       "        }    #T_dc5b0d74_ac58_11ea_b225_88e9fe790f6erow8_col7 {\n",
       "            background-color:  #adc1dd;\n",
       "            color:  #000000;\n",
       "        }    #T_dc5b0d74_ac58_11ea_b225_88e9fe790f6erow8_col8 {\n",
       "            background-color:  #023858;\n",
       "            color:  #f1f1f1;\n",
       "        }    #T_dc5b0d74_ac58_11ea_b225_88e9fe790f6erow8_col9 {\n",
       "            background-color:  #89b1d4;\n",
       "            color:  #000000;\n",
       "        }    #T_dc5b0d74_ac58_11ea_b225_88e9fe790f6erow9_col0 {\n",
       "            background-color:  #f5eff6;\n",
       "            color:  #000000;\n",
       "        }    #T_dc5b0d74_ac58_11ea_b225_88e9fe790f6erow9_col1 {\n",
       "            background-color:  #f1ebf4;\n",
       "            color:  #000000;\n",
       "        }    #T_dc5b0d74_ac58_11ea_b225_88e9fe790f6erow9_col2 {\n",
       "            background-color:  #fff7fb;\n",
       "            color:  #000000;\n",
       "        }    #T_dc5b0d74_ac58_11ea_b225_88e9fe790f6erow9_col3 {\n",
       "            background-color:  #2987bc;\n",
       "            color:  #000000;\n",
       "        }    #T_dc5b0d74_ac58_11ea_b225_88e9fe790f6erow9_col4 {\n",
       "            background-color:  #79abd0;\n",
       "            color:  #000000;\n",
       "        }    #T_dc5b0d74_ac58_11ea_b225_88e9fe790f6erow9_col5 {\n",
       "            background-color:  #cccfe5;\n",
       "            color:  #000000;\n",
       "        }    #T_dc5b0d74_ac58_11ea_b225_88e9fe790f6erow9_col6 {\n",
       "            background-color:  #f4eef6;\n",
       "            color:  #000000;\n",
       "        }    #T_dc5b0d74_ac58_11ea_b225_88e9fe790f6erow9_col7 {\n",
       "            background-color:  #4697c4;\n",
       "            color:  #000000;\n",
       "        }    #T_dc5b0d74_ac58_11ea_b225_88e9fe790f6erow9_col8 {\n",
       "            background-color:  #9ebad9;\n",
       "            color:  #000000;\n",
       "        }    #T_dc5b0d74_ac58_11ea_b225_88e9fe790f6erow9_col9 {\n",
       "            background-color:  #023858;\n",
       "            color:  #f1f1f1;\n",
       "        }</style><table id=\"T_dc5b0d74_ac58_11ea_b225_88e9fe790f6e\" ><thead>    <tr>        <th class=\"blank level0\" ></th>        <th class=\"col_heading level0 col0\" >year</th>        <th class=\"col_heading level0 col1\" >age</th>        <th class=\"col_heading level0 col2\" >poverty_rate</th>        <th class=\"col_heading level0 col3\" >percent_completed_hs</th>        <th class=\"col_heading level0 col4\" >share_white</th>        <th class=\"col_heading level0 col5\" >share_black</th>        <th class=\"col_heading level0 col6\" >share_native_american</th>        <th class=\"col_heading level0 col7\" >share_asian</th>        <th class=\"col_heading level0 col8\" >share_hispanic</th>        <th class=\"col_heading level0 col9\" >median_income</th>    </tr></thead><tbody>\n",
       "                <tr>\n",
       "                        <th id=\"T_dc5b0d74_ac58_11ea_b225_88e9fe790f6elevel0_row0\" class=\"row_heading level0 row0\" >year</th>\n",
       "                        <td id=\"T_dc5b0d74_ac58_11ea_b225_88e9fe790f6erow0_col0\" class=\"data row0 col0\" >1</td>\n",
       "                        <td id=\"T_dc5b0d74_ac58_11ea_b225_88e9fe790f6erow0_col1\" class=\"data row0 col1\" >0.00138904</td>\n",
       "                        <td id=\"T_dc5b0d74_ac58_11ea_b225_88e9fe790f6erow0_col2\" class=\"data row0 col2\" >-0.0160788</td>\n",
       "                        <td id=\"T_dc5b0d74_ac58_11ea_b225_88e9fe790f6erow0_col3\" class=\"data row0 col3\" >0.0242724</td>\n",
       "                        <td id=\"T_dc5b0d74_ac58_11ea_b225_88e9fe790f6erow0_col4\" class=\"data row0 col4\" >0.00300154</td>\n",
       "                        <td id=\"T_dc5b0d74_ac58_11ea_b225_88e9fe790f6erow0_col5\" class=\"data row0 col5\" >-0.0187716</td>\n",
       "                        <td id=\"T_dc5b0d74_ac58_11ea_b225_88e9fe790f6erow0_col6\" class=\"data row0 col6\" >0.0744707</td>\n",
       "                        <td id=\"T_dc5b0d74_ac58_11ea_b225_88e9fe790f6erow0_col7\" class=\"data row0 col7\" >-0.00380593</td>\n",
       "                        <td id=\"T_dc5b0d74_ac58_11ea_b225_88e9fe790f6erow0_col8\" class=\"data row0 col8\" >-0.052779</td>\n",
       "                        <td id=\"T_dc5b0d74_ac58_11ea_b225_88e9fe790f6erow0_col9\" class=\"data row0 col9\" >0.0151728</td>\n",
       "            </tr>\n",
       "            <tr>\n",
       "                        <th id=\"T_dc5b0d74_ac58_11ea_b225_88e9fe790f6elevel0_row1\" class=\"row_heading level0 row1\" >age</th>\n",
       "                        <td id=\"T_dc5b0d74_ac58_11ea_b225_88e9fe790f6erow1_col0\" class=\"data row1 col0\" >0.00138904</td>\n",
       "                        <td id=\"T_dc5b0d74_ac58_11ea_b225_88e9fe790f6erow1_col1\" class=\"data row1 col1\" >1</td>\n",
       "                        <td id=\"T_dc5b0d74_ac58_11ea_b225_88e9fe790f6erow1_col2\" class=\"data row1 col2\" >-0.0442289</td>\n",
       "                        <td id=\"T_dc5b0d74_ac58_11ea_b225_88e9fe790f6erow1_col3\" class=\"data row1 col3\" >0.0373841</td>\n",
       "                        <td id=\"T_dc5b0d74_ac58_11ea_b225_88e9fe790f6erow1_col4\" class=\"data row1 col4\" >0.188177</td>\n",
       "                        <td id=\"T_dc5b0d74_ac58_11ea_b225_88e9fe790f6erow1_col5\" class=\"data row1 col5\" >-0.113985</td>\n",
       "                        <td id=\"T_dc5b0d74_ac58_11ea_b225_88e9fe790f6erow1_col6\" class=\"data row1 col6\" >-0.0210043</td>\n",
       "                        <td id=\"T_dc5b0d74_ac58_11ea_b225_88e9fe790f6erow1_col7\" class=\"data row1 col7\" >-0.0676927</td>\n",
       "                        <td id=\"T_dc5b0d74_ac58_11ea_b225_88e9fe790f6erow1_col8\" class=\"data row1 col8\" >-0.105091</td>\n",
       "                        <td id=\"T_dc5b0d74_ac58_11ea_b225_88e9fe790f6erow1_col9\" class=\"data row1 col9\" >-0.0056311</td>\n",
       "            </tr>\n",
       "            <tr>\n",
       "                        <th id=\"T_dc5b0d74_ac58_11ea_b225_88e9fe790f6elevel0_row2\" class=\"row_heading level0 row2\" >poverty_rate</th>\n",
       "                        <td id=\"T_dc5b0d74_ac58_11ea_b225_88e9fe790f6erow2_col0\" class=\"data row2 col0\" >-0.0160788</td>\n",
       "                        <td id=\"T_dc5b0d74_ac58_11ea_b225_88e9fe790f6erow2_col1\" class=\"data row2 col1\" >-0.0442289</td>\n",
       "                        <td id=\"T_dc5b0d74_ac58_11ea_b225_88e9fe790f6erow2_col2\" class=\"data row2 col2\" >1</td>\n",
       "                        <td id=\"T_dc5b0d74_ac58_11ea_b225_88e9fe790f6erow2_col3\" class=\"data row2 col3\" >-0.541382</td>\n",
       "                        <td id=\"T_dc5b0d74_ac58_11ea_b225_88e9fe790f6erow2_col4\" class=\"data row2 col4\" >-0.352101</td>\n",
       "                        <td id=\"T_dc5b0d74_ac58_11ea_b225_88e9fe790f6erow2_col5\" class=\"data row2 col5\" >0.381497</td>\n",
       "                        <td id=\"T_dc5b0d74_ac58_11ea_b225_88e9fe790f6erow2_col6\" class=\"data row2 col6\" >0.133254</td>\n",
       "                        <td id=\"T_dc5b0d74_ac58_11ea_b225_88e9fe790f6erow2_col7\" class=\"data row2 col7\" >-0.22285</td>\n",
       "                        <td id=\"T_dc5b0d74_ac58_11ea_b225_88e9fe790f6erow2_col8\" class=\"data row2 col8\" >0.103606</td>\n",
       "                        <td id=\"T_dc5b0d74_ac58_11ea_b225_88e9fe790f6erow2_col9\" class=\"data row2 col9\" >-0.759325</td>\n",
       "            </tr>\n",
       "            <tr>\n",
       "                        <th id=\"T_dc5b0d74_ac58_11ea_b225_88e9fe790f6elevel0_row3\" class=\"row_heading level0 row3\" >percent_completed_hs</th>\n",
       "                        <td id=\"T_dc5b0d74_ac58_11ea_b225_88e9fe790f6erow3_col0\" class=\"data row3 col0\" >0.0242724</td>\n",
       "                        <td id=\"T_dc5b0d74_ac58_11ea_b225_88e9fe790f6erow3_col1\" class=\"data row3 col1\" >0.0373841</td>\n",
       "                        <td id=\"T_dc5b0d74_ac58_11ea_b225_88e9fe790f6erow3_col2\" class=\"data row3 col2\" >-0.541382</td>\n",
       "                        <td id=\"T_dc5b0d74_ac58_11ea_b225_88e9fe790f6erow3_col3\" class=\"data row3 col3\" >1</td>\n",
       "                        <td id=\"T_dc5b0d74_ac58_11ea_b225_88e9fe790f6erow3_col4\" class=\"data row3 col4\" >0.367673</td>\n",
       "                        <td id=\"T_dc5b0d74_ac58_11ea_b225_88e9fe790f6erow3_col5\" class=\"data row3 col5\" >-0.130735</td>\n",
       "                        <td id=\"T_dc5b0d74_ac58_11ea_b225_88e9fe790f6erow3_col6\" class=\"data row3 col6\" >-0.0518855</td>\n",
       "                        <td id=\"T_dc5b0d74_ac58_11ea_b225_88e9fe790f6erow3_col7\" class=\"data row3 col7\" >0.0768151</td>\n",
       "                        <td id=\"T_dc5b0d74_ac58_11ea_b225_88e9fe790f6erow3_col8\" class=\"data row3 col8\" >-0.611952</td>\n",
       "                        <td id=\"T_dc5b0d74_ac58_11ea_b225_88e9fe790f6erow3_col9\" class=\"data row3 col9\" >0.447242</td>\n",
       "            </tr>\n",
       "            <tr>\n",
       "                        <th id=\"T_dc5b0d74_ac58_11ea_b225_88e9fe790f6elevel0_row4\" class=\"row_heading level0 row4\" >share_white</th>\n",
       "                        <td id=\"T_dc5b0d74_ac58_11ea_b225_88e9fe790f6erow4_col0\" class=\"data row4 col0\" >0.00300154</td>\n",
       "                        <td id=\"T_dc5b0d74_ac58_11ea_b225_88e9fe790f6erow4_col1\" class=\"data row4 col1\" >0.188177</td>\n",
       "                        <td id=\"T_dc5b0d74_ac58_11ea_b225_88e9fe790f6erow4_col2\" class=\"data row4 col2\" >-0.352101</td>\n",
       "                        <td id=\"T_dc5b0d74_ac58_11ea_b225_88e9fe790f6erow4_col3\" class=\"data row4 col3\" >0.367673</td>\n",
       "                        <td id=\"T_dc5b0d74_ac58_11ea_b225_88e9fe790f6erow4_col4\" class=\"data row4 col4\" >1</td>\n",
       "                        <td id=\"T_dc5b0d74_ac58_11ea_b225_88e9fe790f6erow4_col5\" class=\"data row4 col5\" >-0.744454</td>\n",
       "                        <td id=\"T_dc5b0d74_ac58_11ea_b225_88e9fe790f6erow4_col6\" class=\"data row4 col6\" >-0.152949</td>\n",
       "                        <td id=\"T_dc5b0d74_ac58_11ea_b225_88e9fe790f6erow4_col7\" class=\"data row4 col7\" >-0.336701</td>\n",
       "                        <td id=\"T_dc5b0d74_ac58_11ea_b225_88e9fe790f6erow4_col8\" class=\"data row4 col8\" >-0.248351</td>\n",
       "                        <td id=\"T_dc5b0d74_ac58_11ea_b225_88e9fe790f6erow4_col9\" class=\"data row4 col9\" >0.101743</td>\n",
       "            </tr>\n",
       "            <tr>\n",
       "                        <th id=\"T_dc5b0d74_ac58_11ea_b225_88e9fe790f6elevel0_row5\" class=\"row_heading level0 row5\" >share_black</th>\n",
       "                        <td id=\"T_dc5b0d74_ac58_11ea_b225_88e9fe790f6erow5_col0\" class=\"data row5 col0\" >-0.0187716</td>\n",
       "                        <td id=\"T_dc5b0d74_ac58_11ea_b225_88e9fe790f6erow5_col1\" class=\"data row5 col1\" >-0.113985</td>\n",
       "                        <td id=\"T_dc5b0d74_ac58_11ea_b225_88e9fe790f6erow5_col2\" class=\"data row5 col2\" >0.381497</td>\n",
       "                        <td id=\"T_dc5b0d74_ac58_11ea_b225_88e9fe790f6erow5_col3\" class=\"data row5 col3\" >-0.130735</td>\n",
       "                        <td id=\"T_dc5b0d74_ac58_11ea_b225_88e9fe790f6erow5_col4\" class=\"data row5 col4\" >-0.744454</td>\n",
       "                        <td id=\"T_dc5b0d74_ac58_11ea_b225_88e9fe790f6erow5_col5\" class=\"data row5 col5\" >1</td>\n",
       "                        <td id=\"T_dc5b0d74_ac58_11ea_b225_88e9fe790f6erow5_col6\" class=\"data row5 col6\" >-0.118403</td>\n",
       "                        <td id=\"T_dc5b0d74_ac58_11ea_b225_88e9fe790f6erow5_col7\" class=\"data row5 col7\" >-0.113116</td>\n",
       "                        <td id=\"T_dc5b0d74_ac58_11ea_b225_88e9fe790f6erow5_col8\" class=\"data row5 col8\" >-0.197756</td>\n",
       "                        <td id=\"T_dc5b0d74_ac58_11ea_b225_88e9fe790f6erow5_col9\" class=\"data row5 col9\" >-0.281646</td>\n",
       "            </tr>\n",
       "            <tr>\n",
       "                        <th id=\"T_dc5b0d74_ac58_11ea_b225_88e9fe790f6elevel0_row6\" class=\"row_heading level0 row6\" >share_native_american</th>\n",
       "                        <td id=\"T_dc5b0d74_ac58_11ea_b225_88e9fe790f6erow6_col0\" class=\"data row6 col0\" >0.0744707</td>\n",
       "                        <td id=\"T_dc5b0d74_ac58_11ea_b225_88e9fe790f6erow6_col1\" class=\"data row6 col1\" >-0.0210043</td>\n",
       "                        <td id=\"T_dc5b0d74_ac58_11ea_b225_88e9fe790f6erow6_col2\" class=\"data row6 col2\" >0.133254</td>\n",
       "                        <td id=\"T_dc5b0d74_ac58_11ea_b225_88e9fe790f6erow6_col3\" class=\"data row6 col3\" >-0.0518855</td>\n",
       "                        <td id=\"T_dc5b0d74_ac58_11ea_b225_88e9fe790f6erow6_col4\" class=\"data row6 col4\" >-0.152949</td>\n",
       "                        <td id=\"T_dc5b0d74_ac58_11ea_b225_88e9fe790f6erow6_col5\" class=\"data row6 col5\" >-0.118403</td>\n",
       "                        <td id=\"T_dc5b0d74_ac58_11ea_b225_88e9fe790f6erow6_col6\" class=\"data row6 col6\" >1</td>\n",
       "                        <td id=\"T_dc5b0d74_ac58_11ea_b225_88e9fe790f6erow6_col7\" class=\"data row6 col7\" >-0.0606563</td>\n",
       "                        <td id=\"T_dc5b0d74_ac58_11ea_b225_88e9fe790f6erow6_col8\" class=\"data row6 col8\" >-0.0327561</td>\n",
       "                        <td id=\"T_dc5b0d74_ac58_11ea_b225_88e9fe790f6erow6_col9\" class=\"data row6 col9\" >-0.0706919</td>\n",
       "            </tr>\n",
       "            <tr>\n",
       "                        <th id=\"T_dc5b0d74_ac58_11ea_b225_88e9fe790f6elevel0_row7\" class=\"row_heading level0 row7\" >share_asian</th>\n",
       "                        <td id=\"T_dc5b0d74_ac58_11ea_b225_88e9fe790f6erow7_col0\" class=\"data row7 col0\" >-0.00380593</td>\n",
       "                        <td id=\"T_dc5b0d74_ac58_11ea_b225_88e9fe790f6erow7_col1\" class=\"data row7 col1\" >-0.0676927</td>\n",
       "                        <td id=\"T_dc5b0d74_ac58_11ea_b225_88e9fe790f6erow7_col2\" class=\"data row7 col2\" >-0.22285</td>\n",
       "                        <td id=\"T_dc5b0d74_ac58_11ea_b225_88e9fe790f6erow7_col3\" class=\"data row7 col3\" >0.0768151</td>\n",
       "                        <td id=\"T_dc5b0d74_ac58_11ea_b225_88e9fe790f6erow7_col4\" class=\"data row7 col4\" >-0.336701</td>\n",
       "                        <td id=\"T_dc5b0d74_ac58_11ea_b225_88e9fe790f6erow7_col5\" class=\"data row7 col5\" >-0.113116</td>\n",
       "                        <td id=\"T_dc5b0d74_ac58_11ea_b225_88e9fe790f6erow7_col6\" class=\"data row7 col6\" >-0.0606563</td>\n",
       "                        <td id=\"T_dc5b0d74_ac58_11ea_b225_88e9fe790f6erow7_col7\" class=\"data row7 col7\" >1</td>\n",
       "                        <td id=\"T_dc5b0d74_ac58_11ea_b225_88e9fe790f6erow7_col8\" class=\"data row7 col8\" >0.138401</td>\n",
       "                        <td id=\"T_dc5b0d74_ac58_11ea_b225_88e9fe790f6erow7_col9\" class=\"data row7 col9\" >0.453049</td>\n",
       "            </tr>\n",
       "            <tr>\n",
       "                        <th id=\"T_dc5b0d74_ac58_11ea_b225_88e9fe790f6elevel0_row8\" class=\"row_heading level0 row8\" >share_hispanic</th>\n",
       "                        <td id=\"T_dc5b0d74_ac58_11ea_b225_88e9fe790f6erow8_col0\" class=\"data row8 col0\" >-0.052779</td>\n",
       "                        <td id=\"T_dc5b0d74_ac58_11ea_b225_88e9fe790f6erow8_col1\" class=\"data row8 col1\" >-0.105091</td>\n",
       "                        <td id=\"T_dc5b0d74_ac58_11ea_b225_88e9fe790f6erow8_col2\" class=\"data row8 col2\" >0.103606</td>\n",
       "                        <td id=\"T_dc5b0d74_ac58_11ea_b225_88e9fe790f6erow8_col3\" class=\"data row8 col3\" >-0.611952</td>\n",
       "                        <td id=\"T_dc5b0d74_ac58_11ea_b225_88e9fe790f6erow8_col4\" class=\"data row8 col4\" >-0.248351</td>\n",
       "                        <td id=\"T_dc5b0d74_ac58_11ea_b225_88e9fe790f6erow8_col5\" class=\"data row8 col5\" >-0.197756</td>\n",
       "                        <td id=\"T_dc5b0d74_ac58_11ea_b225_88e9fe790f6erow8_col6\" class=\"data row8 col6\" >-0.0327561</td>\n",
       "                        <td id=\"T_dc5b0d74_ac58_11ea_b225_88e9fe790f6erow8_col7\" class=\"data row8 col7\" >0.138401</td>\n",
       "                        <td id=\"T_dc5b0d74_ac58_11ea_b225_88e9fe790f6erow8_col8\" class=\"data row8 col8\" >1</td>\n",
       "                        <td id=\"T_dc5b0d74_ac58_11ea_b225_88e9fe790f6erow8_col9\" class=\"data row8 col9\" >0.0283009</td>\n",
       "            </tr>\n",
       "            <tr>\n",
       "                        <th id=\"T_dc5b0d74_ac58_11ea_b225_88e9fe790f6elevel0_row9\" class=\"row_heading level0 row9\" >median_income</th>\n",
       "                        <td id=\"T_dc5b0d74_ac58_11ea_b225_88e9fe790f6erow9_col0\" class=\"data row9 col0\" >0.0151728</td>\n",
       "                        <td id=\"T_dc5b0d74_ac58_11ea_b225_88e9fe790f6erow9_col1\" class=\"data row9 col1\" >-0.0056311</td>\n",
       "                        <td id=\"T_dc5b0d74_ac58_11ea_b225_88e9fe790f6erow9_col2\" class=\"data row9 col2\" >-0.759325</td>\n",
       "                        <td id=\"T_dc5b0d74_ac58_11ea_b225_88e9fe790f6erow9_col3\" class=\"data row9 col3\" >0.447242</td>\n",
       "                        <td id=\"T_dc5b0d74_ac58_11ea_b225_88e9fe790f6erow9_col4\" class=\"data row9 col4\" >0.101743</td>\n",
       "                        <td id=\"T_dc5b0d74_ac58_11ea_b225_88e9fe790f6erow9_col5\" class=\"data row9 col5\" >-0.281646</td>\n",
       "                        <td id=\"T_dc5b0d74_ac58_11ea_b225_88e9fe790f6erow9_col6\" class=\"data row9 col6\" >-0.0706919</td>\n",
       "                        <td id=\"T_dc5b0d74_ac58_11ea_b225_88e9fe790f6erow9_col7\" class=\"data row9 col7\" >0.453049</td>\n",
       "                        <td id=\"T_dc5b0d74_ac58_11ea_b225_88e9fe790f6erow9_col8\" class=\"data row9 col8\" >0.0283009</td>\n",
       "                        <td id=\"T_dc5b0d74_ac58_11ea_b225_88e9fe790f6erow9_col9\" class=\"data row9 col9\" >1</td>\n",
       "            </tr>\n",
       "    </tbody></table>"
      ],
      "text/plain": [
       "<pandas.io.formats.style.Styler at 0x121cce828>"
      ]
     },
     "execution_count": 68,
     "metadata": {},
     "output_type": "execute_result"
    }
   ],
   "source": [
    "correlations(rest_killings_df)"
   ]
  },
  {
   "cell_type": "code",
   "execution_count": 69,
   "metadata": {},
   "outputs": [
    {
     "data": {
      "image/png": "[encoded data removed]",
      "text/plain": [
       "<Figure size 432x288 with 1 Axes>"
      ]
     },
     "metadata": {
      "needs_background": "light"
     },
     "output_type": "display_data"
    },
    {
     "data": {
      "image/png": "[encoded data removed]",
      "text/plain": [
       "<Figure size 432x288 with 1 Axes>"
      ]
     },
     "metadata": {
      "needs_background": "light"
     },
     "output_type": "display_data"
    },
    {
     "data": {
      "image/png": "[encoded data removed]",
      "text/plain": [
       "<Figure size 432x288 with 1 Axes>"
      ]
     },
     "metadata": {
      "needs_background": "light"
     },
     "output_type": "display_data"
    },
    {
     "data": {
      "image/png": "[encoded data removed]",
      "text/plain": [
       "<Figure size 432x288 with 1 Axes>"
      ]
     },
     "metadata": {
      "needs_background": "light"
     },
     "output_type": "display_data"
    }
   ],
   "source": [
    "eda_charts(rest_killings_df)"
   ]
  },
  {
   "cell_type": "code",
   "execution_count": null,
   "metadata": {},
   "outputs": [],
   "source": []
  }
 ],
 "metadata": {
  "kernelspec": {
   "display_name": "Python 3",
   "language": "python",
   "name": "python3"
  },
  "language_info": {
   "codemirror_mode": {
    "name": "ipython",
    "version": 3
   },
   "file_extension": ".py",
   "mimetype": "text/x-python",
   "name": "python",
   "nbconvert_exporter": "python",
   "pygments_lexer": "ipython3",
   "version": "3.7.3"
  }
 },
 "nbformat": 4,
 "nbformat_minor": 4
}
