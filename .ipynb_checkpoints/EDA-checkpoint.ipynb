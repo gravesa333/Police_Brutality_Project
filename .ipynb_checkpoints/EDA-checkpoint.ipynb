{
 "cells": [
  {
   "cell_type": "markdown",
   "metadata": {},
   "source": [
    "# Load in Dataset"
   ]
  },
  {
   "cell_type": "code",
   "execution_count": 1,
   "metadata": {},
   "outputs": [],
   "source": [
    "import pandas as pd\n",
    "import numpy as np\n",
    "import matplotlib.pyplot as plt\n",
    "import pickle\n",
    "import datetime as dt"
   ]
  },
  {
   "cell_type": "code",
   "execution_count": 2,
   "metadata": {},
   "outputs": [],
   "source": [
    "income_df = pd.read_csv('Data/datasets_2647_4395_MedianHouseholdIncome2015.csv', encoding = \"ISO-8859-1\")\n",
    "poverty_df = pd.read_csv('Data/datasets_2647_4395_PercentagePeopleBelowPovertyLevel.csv', encoding = \"ISO-8859-1\")\n",
    "school_df = pd.read_csv('Data/datasets_2647_4395_PercentOver25CompletedHighSchool.csv', encoding = \"ISO-8859-1\")\n",
    "killings_df = pd.read_csv('Data/datasets_2647_4395_PoliceKillingsUS.csv', encoding = \"ISO-8859-1\")\n",
    "race_df = pd.read_csv('Data/ShareRaceByCity.csv', encoding = \"ISO-8859-1\")"
   ]
  },
  {
   "cell_type": "code",
   "execution_count": 3,
   "metadata": {},
   "outputs": [
    {
     "name": "stdout",
     "output_type": "stream",
     "text": [
      "<class 'pandas.core.frame.DataFrame'>\n",
      "RangeIndex: 29322 entries, 0 to 29321\n",
      "Data columns (total 3 columns):\n",
      "Geographic Area    29322 non-null object\n",
      "City               29322 non-null object\n",
      "Median Income      29271 non-null object\n",
      "dtypes: object(3)\n",
      "memory usage: 687.4+ KB\n",
      "None\n",
      "-------------------------------------------------\n",
      "<class 'pandas.core.frame.DataFrame'>\n",
      "RangeIndex: 29329 entries, 0 to 29328\n",
      "Data columns (total 3 columns):\n",
      "Geographic Area    29329 non-null object\n",
      "City               29329 non-null object\n",
      "poverty_rate       29329 non-null object\n",
      "dtypes: object(3)\n",
      "memory usage: 687.5+ KB\n",
      "None\n",
      "-------------------------------------------------\n",
      "<class 'pandas.core.frame.DataFrame'>\n",
      "RangeIndex: 29329 entries, 0 to 29328\n",
      "Data columns (total 3 columns):\n",
      "Geographic Area         29329 non-null object\n",
      "City                    29329 non-null object\n",
      "percent_completed_hs    29329 non-null object\n",
      "dtypes: object(3)\n",
      "memory usage: 687.5+ KB\n",
      "None\n",
      "-------------------------------------------------\n",
      "<class 'pandas.core.frame.DataFrame'>\n",
      "RangeIndex: 29268 entries, 0 to 29267\n",
      "Data columns (total 7 columns):\n",
      "Geographic area          29268 non-null object\n",
      "City                     29268 non-null object\n",
      "share_white              29268 non-null object\n",
      "share_black              29268 non-null object\n",
      "share_native_american    29268 non-null object\n",
      "share_asian              29268 non-null object\n",
      "share_hispanic           29268 non-null object\n",
      "dtypes: object(7)\n",
      "memory usage: 1.6+ MB\n",
      "None\n",
      "-------------------------------------------------\n",
      "<class 'pandas.core.frame.DataFrame'>\n",
      "RangeIndex: 2535 entries, 0 to 2534\n",
      "Data columns (total 14 columns):\n",
      "id                         2535 non-null int64\n",
      "name                       2535 non-null object\n",
      "date                       2535 non-null object\n",
      "manner_of_death            2535 non-null object\n",
      "armed                      2526 non-null object\n",
      "age                        2458 non-null float64\n",
      "gender                     2535 non-null object\n",
      "race                       2340 non-null object\n",
      "city                       2535 non-null object\n",
      "state                      2535 non-null object\n",
      "signs_of_mental_illness    2535 non-null bool\n",
      "threat_level               2535 non-null object\n",
      "flee                       2470 non-null object\n",
      "body_camera                2535 non-null bool\n",
      "dtypes: bool(2), float64(1), int64(1), object(10)\n",
      "memory usage: 242.7+ KB\n",
      "None\n",
      "-------------------------------------------------\n"
     ]
    }
   ],
   "source": [
    "# Look at size of datasets, data types, and number of nulls\n",
    "\n",
    "df_list = [income_df, poverty_df, school_df, race_df, killings_df]\n",
    "\n",
    "for df in df_list:\n",
    "    print(df.info())\n",
    "    print('-------------------------------------------------')"
   ]
  },
  {
   "cell_type": "markdown",
   "metadata": {},
   "source": [
    "# Data Cleaning"
   ]
  },
  {
   "cell_type": "markdown",
   "metadata": {},
   "source": [
    "## Combine Demographic Data"
   ]
  },
  {
   "cell_type": "code",
   "execution_count": 4,
   "metadata": {},
   "outputs": [],
   "source": [
    "# Preliminary Cleaning\n",
    "\n",
    "for df in df_list:\n",
    "    \n",
    "    df.columns = df.columns.str.replace(' ', '_')\n",
    "    df.rename(str.lower, axis='columns', inplace=True)\n",
    "\n",
    "    if 'geographic_area' in df.columns:\n",
    "        df.rename(columns={'geographic_area': 'state'}, inplace=True)\n",
    "\n",
    "    df.city = df.city.str.title()\n",
    "    df.city = df.city.str.replace(' ', '_')\n",
    "    df.state = df.state.str.upper()"
   ]
  },
  {
   "cell_type": "markdown",
   "metadata": {},
   "source": [
    "### Clean up `City` columns"
   ]
  },
  {
   "cell_type": "markdown",
   "metadata": {},
   "source": [
    "- The demographic tables have the geographic type tacked on the end of each city (e.g. city, town, CDP, etc.)\n",
    "    - These will need to be removed so that the demographics can be merged with `killings_df`"
   ]
  },
  {
   "cell_type": "code",
   "execution_count": 5,
   "metadata": {},
   "outputs": [],
   "source": [
    "def clean_cities(df):\n",
    "    \n",
    "    clean_city_list = []\n",
    "    city_type_list = []\n",
    "    \n",
    "    for city in df.city.str.split('_').values:\n",
    "        clean_city = '_'.join(city[:-1])\n",
    "        city_type = city[-1]\n",
    "        clean_city_list.append(clean_city)\n",
    "        city_type_list.append(city_type)\n",
    "    \n",
    "    df.drop(columns = ['city'], inplace=True)\n",
    "    df.insert(1, 'city', clean_city_list)\n",
    "    df.insert(2, 'city_type', city_type_list)\n",
    "    \n",
    "    df.city_type = df.city_type.str.replace('(', '')\n",
    "    df.city_type = df.city_type.str.replace(')', '')\n",
    "    df.city_type = df.city_type.str.replace('Counties', 'County')\n",
    "    df.city_type = df.city_type.str.replace('Princeton', 'Town')\n",
    "    df.city_type = df.city_type.str.replace('Balance', 'Government')\n",
    "    df.city_type = df.city_type.str.replace('Bow', 'City')\n",
    "    \n",
    "    return df"
   ]
  },
  {
   "cell_type": "code",
   "execution_count": 6,
   "metadata": {},
   "outputs": [],
   "source": [
    "for df in df_list[:-1]:\n",
    "    df = clean_cities(df)"
   ]
  },
  {
   "cell_type": "code",
   "execution_count": 7,
   "metadata": {},
   "outputs": [
    {
     "data": {
      "text/plain": [
       "City            10165\n",
       "Cdp              9691\n",
       "Town             4352\n",
       "Village          3762\n",
       "Borough          1209\n",
       "County            127\n",
       "Government         17\n",
       "Municipality        4\n",
       "Corporation         1\n",
       "                    1\n",
       "Name: city_type, dtype: int64"
      ]
     },
     "execution_count": 7,
     "metadata": {},
     "output_type": "execute_result"
    }
   ],
   "source": [
    "school_df.city_type.value_counts()"
   ]
  },
  {
   "cell_type": "markdown",
   "metadata": {},
   "source": [
    "### Create Merge Key"
   ]
  },
  {
   "cell_type": "markdown",
   "metadata": {},
   "source": [
    "- City + State creates unqiue key for each row (there are multiple cities with the same name that need to be differentiated)"
   ]
  },
  {
   "cell_type": "code",
   "execution_count": 8,
   "metadata": {},
   "outputs": [],
   "source": [
    "for df in df_list:\n",
    "    df.insert(0, 'merge_key', df['city'] + '_' + df['state'])"
   ]
  },
  {
   "cell_type": "code",
   "execution_count": 9,
   "metadata": {},
   "outputs": [
    {
     "data": {
      "text/plain": [
       "Index(['merge_key', 'state', 'city', 'city_type', 'share_white', 'share_black',\n",
       "       'share_native_american', 'share_asian', 'share_hispanic'],\n",
       "      dtype='object')"
      ]
     },
     "execution_count": 9,
     "metadata": {},
     "output_type": "execute_result"
    }
   ],
   "source": [
    "race_df.columns"
   ]
  },
  {
   "cell_type": "code",
   "execution_count": 10,
   "metadata": {},
   "outputs": [],
   "source": [
    "demographics_df = poverty_df.merge(school_df[['percent_completed_hs','merge_key']], how='outer', on='merge_key')    \\\n",
    "                            .merge(race_df[['share_white', 'share_black', 'share_native_american', 'share_asian', 'share_hispanic', 'merge_key']], how='outer', on='merge_key')    \\\n",
    "                            .merge(income_df[['median_income','merge_key']], how='outer', on='merge_key')"
   ]
  },
  {
   "cell_type": "code",
   "execution_count": 11,
   "metadata": {},
   "outputs": [
    {
     "name": "stdout",
     "output_type": "stream",
     "text": [
      "<class 'pandas.core.frame.DataFrame'>\n",
      "Int64Index: 30756 entries, 0 to 30755\n",
      "Data columns (total 12 columns):\n",
      "merge_key                30756 non-null object\n",
      "state                    30673 non-null object\n",
      "city                     30673 non-null object\n",
      "city_type                30673 non-null object\n",
      "poverty_rate             30673 non-null object\n",
      "percent_completed_hs     30673 non-null object\n",
      "share_white              30612 non-null object\n",
      "share_black              30612 non-null object\n",
      "share_native_american    30612 non-null object\n",
      "share_asian              30612 non-null object\n",
      "share_hispanic           30612 non-null object\n",
      "median_income            30608 non-null object\n",
      "dtypes: object(12)\n",
      "memory usage: 3.1+ MB\n"
     ]
    }
   ],
   "source": [
    "demographics_df.info()"
   ]
  },
  {
   "cell_type": "markdown",
   "metadata": {},
   "source": [
    "## Merge `killings_df` with `demographics_df`"
   ]
  },
  {
   "cell_type": "code",
   "execution_count": 12,
   "metadata": {},
   "outputs": [],
   "source": [
    "merge_df = demographics_df.copy()"
   ]
  },
  {
   "cell_type": "code",
   "execution_count": 13,
   "metadata": {},
   "outputs": [],
   "source": [
    "merge_df.drop(columns = ['city', 'state'], inplace=True)"
   ]
  },
  {
   "cell_type": "code",
   "execution_count": 14,
   "metadata": {},
   "outputs": [],
   "source": [
    "killings_df = killings_df.merge(merge_df, how='left', on='merge_key')"
   ]
  },
  {
   "cell_type": "markdown",
   "metadata": {},
   "source": [
    "## Replace Null Values\n",
    "\n",
    "- armed: unknown\n",
    "- age: replace with median of the state\n",
    "- race: not identified\n",
    "- flee: not applicable\n",
    "- demographics: replace with nearby city values"
   ]
  },
  {
   "cell_type": "code",
   "execution_count": 15,
   "metadata": {},
   "outputs": [],
   "source": [
    "# fill armed nulls\n",
    "\n",
    "killings_df.armed.fillna('Unknown', inplace=True)"
   ]
  },
  {
   "cell_type": "code",
   "execution_count": 16,
   "metadata": {},
   "outputs": [
    {
     "name": "stderr",
     "output_type": "stream",
     "text": [
      "/Users/andrewgraves/anaconda3/lib/python3.7/site-packages/ipykernel_launcher.py:8: UserWarning: Boolean Series key will be reindexed to match DataFrame index.\n",
      "  \n"
     ]
    }
   ],
   "source": [
    "# fill age nulls\n",
    "\n",
    "age_no_nulls = killings_df[killings_df.age.isna() == False]\n",
    "\n",
    "median_age_dict = {}\n",
    "\n",
    "for state in set(killings_df.state.values):\n",
    "    median_age_dict[state] = np.median(age_no_nulls[killings_df.state == state].age.values)"
   ]
  },
  {
   "cell_type": "code",
   "execution_count": 17,
   "metadata": {},
   "outputs": [],
   "source": [
    "killings_df.age.fillna(-100, inplace=True)\n",
    "\n",
    "for index, row in killings_df.iterrows():\n",
    "    for key, value in median_age_dict.items():\n",
    "        if key == row.state and row.age < 0:\n",
    "            killings_df.loc[index, 'age'] = value"
   ]
  },
  {
   "cell_type": "code",
   "execution_count": 18,
   "metadata": {},
   "outputs": [],
   "source": [
    "# fill race nulls\n",
    "\n",
    "killings_df.race.fillna('Not Identified', inplace=True)"
   ]
  },
  {
   "cell_type": "code",
   "execution_count": 19,
   "metadata": {},
   "outputs": [],
   "source": [
    "# fill flee nulls\n",
    "\n",
    "killings_df.flee.fillna('Not Applicable', inplace=True)"
   ]
  },
  {
   "cell_type": "code",
   "execution_count": 20,
   "metadata": {},
   "outputs": [],
   "source": [
    "# fill poverty_rate, percent_completed_hs, and median_income nulls\n",
    "\n",
    "for index, row in killings_df.iterrows():\n",
    "    if row.city == 'Macon':\n",
    "        killings_df.loc[index, 'poverty_rate'] = killings_df[killings_df.city == 'Fort_Valley'].poverty_rate.values[0]\n",
    "        killings_df.loc[index, 'percent_completed_hs'] = killings_df[killings_df.city == 'Fort_Valley'].percent_completed_hs.values[0]\n",
    "        killings_df.loc[index, 'median_income'] = killings_df[killings_df.city == 'Fort_Valley'].median_income.values[0]"
   ]
  },
  {
   "cell_type": "code",
   "execution_count": 21,
   "metadata": {},
   "outputs": [],
   "source": [
    "# fill median_income nulls\n",
    "\n",
    "for index, row in killings_df.iterrows():\n",
    "    if row.city == 'Indianapolis':\n",
    "        killings_df.loc[index, 'median_income'] = killings_df[killings_df.city == 'Beech_Grove'].median_income.values[0]\n"
   ]
  },
  {
   "cell_type": "code",
   "execution_count": 22,
   "metadata": {},
   "outputs": [
    {
     "data": {
      "text/html": [
       "<div>\n",
       "<style scoped>\n",
       "    .dataframe tbody tr th:only-of-type {\n",
       "        vertical-align: middle;\n",
       "    }\n",
       "\n",
       "    .dataframe tbody tr th {\n",
       "        vertical-align: top;\n",
       "    }\n",
       "\n",
       "    .dataframe thead th {\n",
       "        text-align: right;\n",
       "    }\n",
       "</style>\n",
       "<table border=\"1\" class=\"dataframe\">\n",
       "  <thead>\n",
       "    <tr style=\"text-align: right;\">\n",
       "      <th></th>\n",
       "      <th>merge_key</th>\n",
       "      <th>id</th>\n",
       "      <th>name</th>\n",
       "      <th>date</th>\n",
       "      <th>manner_of_death</th>\n",
       "      <th>armed</th>\n",
       "      <th>age</th>\n",
       "      <th>gender</th>\n",
       "      <th>race</th>\n",
       "      <th>city</th>\n",
       "      <th>...</th>\n",
       "      <th>body_camera</th>\n",
       "      <th>city_type</th>\n",
       "      <th>poverty_rate</th>\n",
       "      <th>percent_completed_hs</th>\n",
       "      <th>share_white</th>\n",
       "      <th>share_black</th>\n",
       "      <th>share_native_american</th>\n",
       "      <th>share_asian</th>\n",
       "      <th>share_hispanic</th>\n",
       "      <th>median_income</th>\n",
       "    </tr>\n",
       "  </thead>\n",
       "  <tbody>\n",
       "    <tr>\n",
       "      <th>47</th>\n",
       "      <td>Chapeno_TX</td>\n",
       "      <td>88</td>\n",
       "      <td>Miguel Angel de Santos-Rodriguez</td>\n",
       "      <td>21/01/15</td>\n",
       "      <td>shot</td>\n",
       "      <td>gun</td>\n",
       "      <td>36.0</td>\n",
       "      <td>M</td>\n",
       "      <td>H</td>\n",
       "      <td>Chapeno</td>\n",
       "      <td>...</td>\n",
       "      <td>False</td>\n",
       "      <td>Cdp</td>\n",
       "      <td>31.7</td>\n",
       "      <td>33.3</td>\n",
       "      <td>100</td>\n",
       "      <td>0</td>\n",
       "      <td>0</td>\n",
       "      <td>0</td>\n",
       "      <td>97.9</td>\n",
       "      <td>-</td>\n",
       "    </tr>\n",
       "  </tbody>\n",
       "</table>\n",
       "<p>1 rows × 24 columns</p>\n",
       "</div>"
      ],
      "text/plain": [
       "     merge_key  id                              name      date  \\\n",
       "47  Chapeno_TX  88  Miguel Angel de Santos-Rodriguez  21/01/15   \n",
       "\n",
       "   manner_of_death armed   age gender race     city  ... body_camera  \\\n",
       "47            shot   gun  36.0      M    H  Chapeno  ...       False   \n",
       "\n",
       "    city_type poverty_rate percent_completed_hs  share_white share_black  \\\n",
       "47        Cdp         31.7                 33.3          100           0   \n",
       "\n",
       "   share_native_american share_asian share_hispanic median_income  \n",
       "47                     0           0           97.9             -  \n",
       "\n",
       "[1 rows x 24 columns]"
      ]
     },
     "execution_count": 22,
     "metadata": {},
     "output_type": "execute_result"
    }
   ],
   "source": [
    "killings_df[killings_df.median_income == '-']"
   ]
  },
  {
   "cell_type": "code",
   "execution_count": 23,
   "metadata": {},
   "outputs": [],
   "source": [
    "for index, row in killings_df.iterrows():\n",
    "    if row.median_income == '(X)':\n",
    "        killings_df.loc[index, 'median_income'] = np.nan\n",
    "    elif row.median_income == '-':\n",
    "        killings_df.loc[index, 'median_income'] = np.nan"
   ]
  },
  {
   "cell_type": "code",
   "execution_count": 24,
   "metadata": {},
   "outputs": [],
   "source": [
    "killings_df = killings_df.astype({'median_income': 'float64'})"
   ]
  },
  {
   "cell_type": "code",
   "execution_count": 25,
   "metadata": {},
   "outputs": [
    {
     "name": "stderr",
     "output_type": "stream",
     "text": [
      "/Users/andrewgraves/anaconda3/lib/python3.7/site-packages/ipykernel_launcher.py:6: UserWarning: Boolean Series key will be reindexed to match DataFrame index.\n",
      "  \n"
     ]
    }
   ],
   "source": [
    "income_no_nulls = killings_df[killings_df.median_income.isna() == False]\n",
    "\n",
    "median_income_dict = {}\n",
    "\n",
    "for state in set(killings_df.state.values):\n",
    "    median_income_dict[state] = np.median(income_no_nulls[killings_df.state == state].median_income.values)"
   ]
  },
  {
   "cell_type": "code",
   "execution_count": 26,
   "metadata": {},
   "outputs": [],
   "source": [
    "killings_df.median_income.fillna(-100, inplace=True)\n",
    "\n",
    "for index, row in killings_df.iterrows():\n",
    "    for key, value in median_income_dict.items():\n",
    "        if key == row.state and row.median_income < 0:\n",
    "            killings_df.loc[index, 'median_income'] = value"
   ]
  },
  {
   "cell_type": "code",
   "execution_count": 27,
   "metadata": {},
   "outputs": [
    {
     "name": "stdout",
     "output_type": "stream",
     "text": [
      "<class 'pandas.core.frame.DataFrame'>\n",
      "Int64Index: 2640 entries, 0 to 2639\n",
      "Data columns (total 24 columns):\n",
      "merge_key                  2640 non-null object\n",
      "id                         2640 non-null int64\n",
      "name                       2640 non-null object\n",
      "date                       2640 non-null object\n",
      "manner_of_death            2640 non-null object\n",
      "armed                      2640 non-null object\n",
      "age                        2640 non-null float64\n",
      "gender                     2640 non-null object\n",
      "race                       2640 non-null object\n",
      "city                       2640 non-null object\n",
      "state                      2640 non-null object\n",
      "signs_of_mental_illness    2640 non-null bool\n",
      "threat_level               2640 non-null object\n",
      "flee                       2640 non-null object\n",
      "body_camera                2640 non-null bool\n",
      "city_type                  2351 non-null object\n",
      "poverty_rate               2352 non-null object\n",
      "percent_completed_hs       2352 non-null object\n",
      "share_white                2350 non-null object\n",
      "share_black                2350 non-null object\n",
      "share_native_american      2350 non-null object\n",
      "share_asian                2350 non-null object\n",
      "share_hispanic             2350 non-null object\n",
      "median_income              2640 non-null float64\n",
      "dtypes: bool(2), float64(2), int64(1), object(19)\n",
      "memory usage: 559.5+ KB\n"
     ]
    }
   ],
   "source": [
    "killings_df.info()"
   ]
  },
  {
   "cell_type": "markdown",
   "metadata": {},
   "source": [
    "## Change Data Types"
   ]
  },
  {
   "cell_type": "markdown",
   "metadata": {},
   "source": [
    "- For poverty_rate, percent_completed_hs, share_white, share_black, share_native_american, share_asian, share_hispanic"
   ]
  },
  {
   "cell_type": "code",
   "execution_count": 28,
   "metadata": {},
   "outputs": [],
   "source": [
    "killings_df = killings_df.astype({'poverty_rate': 'float64',\n",
    "                                  'percent_completed_hs': 'float64',\n",
    "                                  'share_white': 'float64',\n",
    "                                  'share_black': 'float64',\n",
    "                                  'share_native_american': 'float64',\n",
    "                                  'share_asian': 'float64',\n",
    "                                  'share_hispanic': 'float64'})"
   ]
  },
  {
   "cell_type": "markdown",
   "metadata": {},
   "source": [
    "## Convert Date to Datetime"
   ]
  },
  {
   "cell_type": "code",
   "execution_count": 29,
   "metadata": {},
   "outputs": [],
   "source": [
    "date = pd.to_datetime(killings_df.date, format='%d/%m/%y')\n",
    "killings_df.date = date"
   ]
  },
  {
   "cell_type": "code",
   "execution_count": 30,
   "metadata": {},
   "outputs": [],
   "source": [
    "killings_df.insert(4, 'year', killings_df.date.dt.year)\n",
    "killings_df.insert(5, 'month', killings_df.date.dt.month)\n",
    "killings_df.insert(6, 'day_of_week', killings_df.date.dt.dayofweek)"
   ]
  },
  {
   "cell_type": "code",
   "execution_count": 31,
   "metadata": {},
   "outputs": [],
   "source": [
    "# Create and add day of week column:\n",
    "\n",
    "def day_of_week_helper(dow):\n",
    "    if dow == 0:\n",
    "        return 'Monday'\n",
    "    elif dow == 1:\n",
    "        return 'Tuesday'\n",
    "    elif dow == 2:\n",
    "        return 'Wednesday'\n",
    "    elif dow == 3:\n",
    "        return 'Thursday'\n",
    "    elif dow == 4:\n",
    "        return 'Friday'\n",
    "    elif dow == 5:\n",
    "        return 'Saturday'\n",
    "    else:\n",
    "        return 'Sunday'"
   ]
  },
  {
   "cell_type": "code",
   "execution_count": 32,
   "metadata": {},
   "outputs": [],
   "source": [
    "killings_df.day_of_week = killings_df.day_of_week.apply(day_of_week_helper)"
   ]
  },
  {
   "cell_type": "code",
   "execution_count": 33,
   "metadata": {},
   "outputs": [],
   "source": [
    "# Edit Month column:\n",
    "\n",
    "def month_helper(month):\n",
    "    if month == 1:\n",
    "        return 'January'\n",
    "    elif month == 2:\n",
    "        return 'February'\n",
    "    elif month == 3:\n",
    "        return 'March'\n",
    "    elif month == 4:\n",
    "        return 'April'\n",
    "    elif month == 5:\n",
    "        return 'May'\n",
    "    elif month == 6:\n",
    "        return 'June'\n",
    "    elif month == 7:\n",
    "        return 'July'\n",
    "    elif month == 8:\n",
    "        return 'August'\n",
    "    elif month == 9:\n",
    "        return 'September'\n",
    "    elif month == 10:\n",
    "        return 'October'\n",
    "    elif month == 11:\n",
    "        return 'November'\n",
    "    else:\n",
    "        return 'December'"
   ]
  },
  {
   "cell_type": "code",
   "execution_count": 34,
   "metadata": {},
   "outputs": [],
   "source": [
    "killings_df.month = killings_df.month.apply(month_helper)"
   ]
  },
  {
   "cell_type": "markdown",
   "metadata": {},
   "source": [
    "## Simplified Features"
   ]
  },
  {
   "cell_type": "markdown",
   "metadata": {},
   "source": [
    "### Create Region from States"
   ]
  },
  {
   "cell_type": "code",
   "execution_count": 35,
   "metadata": {},
   "outputs": [],
   "source": [
    "# Create and add region column:\n",
    "\n",
    "def region_helper(state):\n",
    "    if state in ['CA', 'OR', 'WA']:\n",
    "        return 'West Coast'\n",
    "    elif state in ['ID', 'MT', 'WY', 'CO', 'NV', 'UT', 'AZ', 'NM']:\n",
    "        return 'Mountain'\n",
    "    elif state in ['ND', 'SD', 'NE', 'KS', 'IA']:\n",
    "        return 'Central'\n",
    "    elif state in ['MN', 'WI', 'MI', 'IL', 'MO', 'IN', 'OH']:\n",
    "        return 'Midwest'\n",
    "    elif state in ['OK', 'TX', 'AR', 'LA', 'MS', 'AL', 'FL', 'GA',    \\\n",
    "                   'SC', 'NC', 'KY', 'TN', 'VA', 'WV']:\n",
    "        return 'South'\n",
    "    elif state in ['HI', 'AK']:\n",
    "        return 'Other'\n",
    "    else:\n",
    "        return 'Northeast'"
   ]
  },
  {
   "cell_type": "code",
   "execution_count": 36,
   "metadata": {},
   "outputs": [],
   "source": [
    "killings_df.insert(7, 'region', killings_df.state.apply(region_helper))"
   ]
  },
  {
   "cell_type": "code",
   "execution_count": 37,
   "metadata": {},
   "outputs": [],
   "source": [
    "# Edit armed column:\n",
    "\n",
    "guns = ['gun', 'crossbow', 'gun and knife', 'guns and explosives', 'hatchet and gun', 'machete and gun', 'bean-bag gun', 'nail gun']\n",
    "sharp_objects = ['knife', 'machete', 'ax', 'sword', 'box cutter', 'hatchet', 'sharp object', 'pole and knife',    \\\n",
    "                 'straight edge razor', 'glass shard', 'lawn mower blade']\n",
    "blunt_objects = ['baseball bat', 'metal pipe', 'hammer', 'blunt object', 'rock', 'brick', 'metal object', 'piece of wood',    \\\n",
    "                 'beer bottle', 'metal pole', 'meat cleaver', 'pipe', 'baton', 'shovel', 'stapler', \"contractor's level\", 'chain',    \\\n",
    "                 'flagpole', 'baseball bat and bottle', 'pole', 'air conditioner', 'tire iron', 'oar']\n",
    "non_lethal_objects = ['toy weapon', 'pen', 'flashlight']\n",
    "pointed_objects = ['screwdriver', 'scissors', 'metal stick', 'metal rake', 'pitchfork', 'pick-axe', 'baseball bat and fireplace poker',    \\\n",
    "                   'garden tool', 'crowbar', 'spear', 'bayonet', 'carjack', 'metal hand tool']\n",
    "powered_objects = ['Taser', 'chainsaw', 'hand torch', 'cordless drill', 'fireworks']\n",
    "vehicles = ['vehicle', 'motorcycle']\n",
    "unarmed = ['unarmed']\n"
   ]
  },
  {
   "cell_type": "code",
   "execution_count": 38,
   "metadata": {},
   "outputs": [],
   "source": [
    "def armed_helper(arm):\n",
    "    if arm in guns:\n",
    "        return 'gun'\n",
    "    elif arm == 'unarmed':\n",
    "        return 'unarmed'\n",
    "    elif arm in sharp_objects:\n",
    "        return 'sharp object'\n",
    "    elif arm in blunt_objects:\n",
    "        return 'blunt object'\n",
    "    elif arm in non_lethal_objects:\n",
    "        return 'non-lethal object'\n",
    "    elif arm in pointed_objects:\n",
    "        return 'pointed object'\n",
    "    elif arm in powered_objects:\n",
    "        return 'powered object'\n",
    "    elif arm in vehicles:\n",
    "        return 'vehicle'\n",
    "    else:\n",
    "        return 'undetermined'"
   ]
  },
  {
   "cell_type": "code",
   "execution_count": 39,
   "metadata": {},
   "outputs": [],
   "source": [
    "killings_df.armed = killings_df.armed.apply(armed_helper)"
   ]
  },
  {
   "cell_type": "code",
   "execution_count": 40,
   "metadata": {},
   "outputs": [
    {
     "data": {
      "text/plain": [
       "gun                  1447\n",
       "sharp object          427\n",
       "unarmed               231\n",
       "vehicle               178\n",
       "undetermined          161\n",
       "non-lethal object     106\n",
       "blunt object           57\n",
       "pointed object         21\n",
       "powered object         12\n",
       "Name: armed, dtype: int64"
      ]
     },
     "execution_count": 40,
     "metadata": {},
     "output_type": "execute_result"
    }
   ],
   "source": [
    "killings_df.armed.value_counts()"
   ]
  },
  {
   "cell_type": "markdown",
   "metadata": {},
   "source": [
    "# EDA"
   ]
  },
  {
   "cell_type": "markdown",
   "metadata": {},
   "source": [
    "- What are the demographics of the cities with the most police killings?\n",
    "    - How does this compare with the rest of the cities?\n",
    "- What is the race distribution when body cameras are on?\n",
    "- What is the correlation between poverty_rate and median_income?\n",
    "- What is the correlation between poverty_rate and percent_completed_hs?\n",
    "- What is the race distribution for armed vs unarmed victims?\n"
   ]
  },
  {
   "cell_type": "code",
   "execution_count": 41,
   "metadata": {},
   "outputs": [],
   "source": [
    "demo_killings_df = killings_df[killings_df.share_white.isna() == False].reset_index(drop=True)"
   ]
  },
  {
   "cell_type": "code",
   "execution_count": 42,
   "metadata": {},
   "outputs": [],
   "source": [
    "# with open('Data/demo_killings_df.pkl', 'wb') as to_write:\n",
    "#     pickle.dump(demo_killings_df, to_write)"
   ]
  },
  {
   "cell_type": "code",
   "execution_count": 43,
   "metadata": {},
   "outputs": [
    {
     "data": {
      "text/html": [
       "<div>\n",
       "<style scoped>\n",
       "    .dataframe tbody tr th:only-of-type {\n",
       "        vertical-align: middle;\n",
       "    }\n",
       "\n",
       "    .dataframe tbody tr th {\n",
       "        vertical-align: top;\n",
       "    }\n",
       "\n",
       "    .dataframe thead th {\n",
       "        text-align: right;\n",
       "    }\n",
       "</style>\n",
       "<table border=\"1\" class=\"dataframe\">\n",
       "  <thead>\n",
       "    <tr style=\"text-align: right;\">\n",
       "      <th></th>\n",
       "      <th>merge_key</th>\n",
       "      <th>id</th>\n",
       "      <th>name</th>\n",
       "      <th>date</th>\n",
       "      <th>year</th>\n",
       "      <th>month</th>\n",
       "      <th>day_of_week</th>\n",
       "      <th>region</th>\n",
       "      <th>manner_of_death</th>\n",
       "      <th>armed</th>\n",
       "      <th>...</th>\n",
       "      <th>body_camera</th>\n",
       "      <th>city_type</th>\n",
       "      <th>poverty_rate</th>\n",
       "      <th>percent_completed_hs</th>\n",
       "      <th>share_white</th>\n",
       "      <th>share_black</th>\n",
       "      <th>share_native_american</th>\n",
       "      <th>share_asian</th>\n",
       "      <th>share_hispanic</th>\n",
       "      <th>median_income</th>\n",
       "    </tr>\n",
       "  </thead>\n",
       "  <tbody>\n",
       "    <tr>\n",
       "      <th>0</th>\n",
       "      <td>Shelton_WA</td>\n",
       "      <td>3</td>\n",
       "      <td>Tim Elliot</td>\n",
       "      <td>2015-01-02</td>\n",
       "      <td>2015</td>\n",
       "      <td>January</td>\n",
       "      <td>Friday</td>\n",
       "      <td>West Coast</td>\n",
       "      <td>shot</td>\n",
       "      <td>gun</td>\n",
       "      <td>...</td>\n",
       "      <td>False</td>\n",
       "      <td>City</td>\n",
       "      <td>28.6</td>\n",
       "      <td>80.1</td>\n",
       "      <td>78.9</td>\n",
       "      <td>0.8</td>\n",
       "      <td>3.7</td>\n",
       "      <td>1.1</td>\n",
       "      <td>19.2</td>\n",
       "      <td>37072.0</td>\n",
       "    </tr>\n",
       "    <tr>\n",
       "      <th>1</th>\n",
       "      <td>Aloha_OR</td>\n",
       "      <td>4</td>\n",
       "      <td>Lewis Lee Lembke</td>\n",
       "      <td>2015-01-02</td>\n",
       "      <td>2015</td>\n",
       "      <td>January</td>\n",
       "      <td>Friday</td>\n",
       "      <td>West Coast</td>\n",
       "      <td>shot</td>\n",
       "      <td>gun</td>\n",
       "      <td>...</td>\n",
       "      <td>False</td>\n",
       "      <td>Cdp</td>\n",
       "      <td>14.9</td>\n",
       "      <td>88.1</td>\n",
       "      <td>70.9</td>\n",
       "      <td>2.6</td>\n",
       "      <td>1.0</td>\n",
       "      <td>8.9</td>\n",
       "      <td>21.1</td>\n",
       "      <td>65765.0</td>\n",
       "    </tr>\n",
       "    <tr>\n",
       "      <th>2</th>\n",
       "      <td>Wichita_KS</td>\n",
       "      <td>5</td>\n",
       "      <td>John Paul Quintero</td>\n",
       "      <td>2015-01-03</td>\n",
       "      <td>2015</td>\n",
       "      <td>January</td>\n",
       "      <td>Saturday</td>\n",
       "      <td>Central</td>\n",
       "      <td>shot and Tasered</td>\n",
       "      <td>unarmed</td>\n",
       "      <td>...</td>\n",
       "      <td>False</td>\n",
       "      <td>City</td>\n",
       "      <td>17.3</td>\n",
       "      <td>87.5</td>\n",
       "      <td>71.9</td>\n",
       "      <td>11.5</td>\n",
       "      <td>1.2</td>\n",
       "      <td>4.8</td>\n",
       "      <td>15.3</td>\n",
       "      <td>45947.0</td>\n",
       "    </tr>\n",
       "    <tr>\n",
       "      <th>3</th>\n",
       "      <td>San_Francisco_CA</td>\n",
       "      <td>8</td>\n",
       "      <td>Matthew Hoffman</td>\n",
       "      <td>2015-01-04</td>\n",
       "      <td>2015</td>\n",
       "      <td>January</td>\n",
       "      <td>Sunday</td>\n",
       "      <td>West Coast</td>\n",
       "      <td>shot</td>\n",
       "      <td>non-lethal object</td>\n",
       "      <td>...</td>\n",
       "      <td>False</td>\n",
       "      <td>City</td>\n",
       "      <td>13.2</td>\n",
       "      <td>87.0</td>\n",
       "      <td>48.5</td>\n",
       "      <td>6.1</td>\n",
       "      <td>0.5</td>\n",
       "      <td>33.3</td>\n",
       "      <td>15.1</td>\n",
       "      <td>81294.0</td>\n",
       "    </tr>\n",
       "    <tr>\n",
       "      <th>4</th>\n",
       "      <td>Evans_CO</td>\n",
       "      <td>9</td>\n",
       "      <td>Michael Rodriguez</td>\n",
       "      <td>2015-01-04</td>\n",
       "      <td>2015</td>\n",
       "      <td>January</td>\n",
       "      <td>Sunday</td>\n",
       "      <td>Mountain</td>\n",
       "      <td>shot</td>\n",
       "      <td>gun</td>\n",
       "      <td>...</td>\n",
       "      <td>False</td>\n",
       "      <td>City</td>\n",
       "      <td>16.6</td>\n",
       "      <td>76.3</td>\n",
       "      <td>76.5</td>\n",
       "      <td>0.9</td>\n",
       "      <td>1.2</td>\n",
       "      <td>0.9</td>\n",
       "      <td>43.1</td>\n",
       "      <td>47791.0</td>\n",
       "    </tr>\n",
       "    <tr>\n",
       "      <th>...</th>\n",
       "      <td>...</td>\n",
       "      <td>...</td>\n",
       "      <td>...</td>\n",
       "      <td>...</td>\n",
       "      <td>...</td>\n",
       "      <td>...</td>\n",
       "      <td>...</td>\n",
       "      <td>...</td>\n",
       "      <td>...</td>\n",
       "      <td>...</td>\n",
       "      <td>...</td>\n",
       "      <td>...</td>\n",
       "      <td>...</td>\n",
       "      <td>...</td>\n",
       "      <td>...</td>\n",
       "      <td>...</td>\n",
       "      <td>...</td>\n",
       "      <td>...</td>\n",
       "      <td>...</td>\n",
       "      <td>...</td>\n",
       "      <td>...</td>\n",
       "    </tr>\n",
       "    <tr>\n",
       "      <th>2345</th>\n",
       "      <td>Chowchilla_CA</td>\n",
       "      <td>2812</td>\n",
       "      <td>Alejandro Alvarado</td>\n",
       "      <td>2017-07-27</td>\n",
       "      <td>2017</td>\n",
       "      <td>July</td>\n",
       "      <td>Thursday</td>\n",
       "      <td>West Coast</td>\n",
       "      <td>shot</td>\n",
       "      <td>sharp object</td>\n",
       "      <td>...</td>\n",
       "      <td>False</td>\n",
       "      <td>City</td>\n",
       "      <td>32.1</td>\n",
       "      <td>68.3</td>\n",
       "      <td>61.6</td>\n",
       "      <td>12.6</td>\n",
       "      <td>2.0</td>\n",
       "      <td>2.1</td>\n",
       "      <td>37.8</td>\n",
       "      <td>34559.0</td>\n",
       "    </tr>\n",
       "    <tr>\n",
       "      <th>2346</th>\n",
       "      <td>Kansas_City_MO</td>\n",
       "      <td>2822</td>\n",
       "      <td>Rodney E. Jacobs</td>\n",
       "      <td>2017-07-28</td>\n",
       "      <td>2017</td>\n",
       "      <td>July</td>\n",
       "      <td>Friday</td>\n",
       "      <td>Midwest</td>\n",
       "      <td>shot</td>\n",
       "      <td>gun</td>\n",
       "      <td>...</td>\n",
       "      <td>False</td>\n",
       "      <td>City</td>\n",
       "      <td>19.0</td>\n",
       "      <td>88.4</td>\n",
       "      <td>59.2</td>\n",
       "      <td>29.9</td>\n",
       "      <td>0.5</td>\n",
       "      <td>2.5</td>\n",
       "      <td>10.0</td>\n",
       "      <td>45821.0</td>\n",
       "    </tr>\n",
       "    <tr>\n",
       "      <th>2347</th>\n",
       "      <td>Albuquerque_NM</td>\n",
       "      <td>2813</td>\n",
       "      <td>TK TK</td>\n",
       "      <td>2017-07-28</td>\n",
       "      <td>2017</td>\n",
       "      <td>July</td>\n",
       "      <td>Friday</td>\n",
       "      <td>Mountain</td>\n",
       "      <td>shot</td>\n",
       "      <td>vehicle</td>\n",
       "      <td>...</td>\n",
       "      <td>False</td>\n",
       "      <td>City</td>\n",
       "      <td>19.2</td>\n",
       "      <td>89.0</td>\n",
       "      <td>69.7</td>\n",
       "      <td>3.3</td>\n",
       "      <td>4.6</td>\n",
       "      <td>2.6</td>\n",
       "      <td>46.7</td>\n",
       "      <td>47030.0</td>\n",
       "    </tr>\n",
       "    <tr>\n",
       "      <th>2348</th>\n",
       "      <td>Melba_ID</td>\n",
       "      <td>2818</td>\n",
       "      <td>Dennis W. Robinson</td>\n",
       "      <td>2017-07-29</td>\n",
       "      <td>2017</td>\n",
       "      <td>July</td>\n",
       "      <td>Saturday</td>\n",
       "      <td>Mountain</td>\n",
       "      <td>shot</td>\n",
       "      <td>gun</td>\n",
       "      <td>...</td>\n",
       "      <td>False</td>\n",
       "      <td>City</td>\n",
       "      <td>16.4</td>\n",
       "      <td>90.4</td>\n",
       "      <td>78.9</td>\n",
       "      <td>0.2</td>\n",
       "      <td>0.0</td>\n",
       "      <td>0.2</td>\n",
       "      <td>24.6</td>\n",
       "      <td>41154.0</td>\n",
       "    </tr>\n",
       "    <tr>\n",
       "      <th>2349</th>\n",
       "      <td>Oshkosh_WI</td>\n",
       "      <td>2817</td>\n",
       "      <td>Isaiah Tucker</td>\n",
       "      <td>2017-07-31</td>\n",
       "      <td>2017</td>\n",
       "      <td>July</td>\n",
       "      <td>Monday</td>\n",
       "      <td>Midwest</td>\n",
       "      <td>shot</td>\n",
       "      <td>vehicle</td>\n",
       "      <td>...</td>\n",
       "      <td>True</td>\n",
       "      <td>City</td>\n",
       "      <td>17.9</td>\n",
       "      <td>89.3</td>\n",
       "      <td>90.5</td>\n",
       "      <td>3.1</td>\n",
       "      <td>0.8</td>\n",
       "      <td>3.2</td>\n",
       "      <td>2.7</td>\n",
       "      <td>42650.0</td>\n",
       "    </tr>\n",
       "  </tbody>\n",
       "</table>\n",
       "<p>2350 rows × 28 columns</p>\n",
       "</div>"
      ],
      "text/plain": [
       "             merge_key    id                name       date  year    month  \\\n",
       "0           Shelton_WA     3          Tim Elliot 2015-01-02  2015  January   \n",
       "1             Aloha_OR     4    Lewis Lee Lembke 2015-01-02  2015  January   \n",
       "2           Wichita_KS     5  John Paul Quintero 2015-01-03  2015  January   \n",
       "3     San_Francisco_CA     8     Matthew Hoffman 2015-01-04  2015  January   \n",
       "4             Evans_CO     9   Michael Rodriguez 2015-01-04  2015  January   \n",
       "...                ...   ...                 ...        ...   ...      ...   \n",
       "2345     Chowchilla_CA  2812  Alejandro Alvarado 2017-07-27  2017     July   \n",
       "2346    Kansas_City_MO  2822    Rodney E. Jacobs 2017-07-28  2017     July   \n",
       "2347    Albuquerque_NM  2813               TK TK 2017-07-28  2017     July   \n",
       "2348          Melba_ID  2818  Dennis W. Robinson 2017-07-29  2017     July   \n",
       "2349        Oshkosh_WI  2817       Isaiah Tucker 2017-07-31  2017     July   \n",
       "\n",
       "     day_of_week      region   manner_of_death              armed  ...  \\\n",
       "0         Friday  West Coast              shot                gun  ...   \n",
       "1         Friday  West Coast              shot                gun  ...   \n",
       "2       Saturday     Central  shot and Tasered            unarmed  ...   \n",
       "3         Sunday  West Coast              shot  non-lethal object  ...   \n",
       "4         Sunday    Mountain              shot                gun  ...   \n",
       "...          ...         ...               ...                ...  ...   \n",
       "2345    Thursday  West Coast              shot       sharp object  ...   \n",
       "2346      Friday     Midwest              shot                gun  ...   \n",
       "2347      Friday    Mountain              shot            vehicle  ...   \n",
       "2348    Saturday    Mountain              shot                gun  ...   \n",
       "2349      Monday     Midwest              shot            vehicle  ...   \n",
       "\n",
       "      body_camera city_type poverty_rate percent_completed_hs share_white  \\\n",
       "0           False      City         28.6                 80.1        78.9   \n",
       "1           False       Cdp         14.9                 88.1        70.9   \n",
       "2           False      City         17.3                 87.5        71.9   \n",
       "3           False      City         13.2                 87.0        48.5   \n",
       "4           False      City         16.6                 76.3        76.5   \n",
       "...           ...       ...          ...                  ...         ...   \n",
       "2345        False      City         32.1                 68.3        61.6   \n",
       "2346        False      City         19.0                 88.4        59.2   \n",
       "2347        False      City         19.2                 89.0        69.7   \n",
       "2348        False      City         16.4                 90.4        78.9   \n",
       "2349         True      City         17.9                 89.3        90.5   \n",
       "\n",
       "      share_black share_native_american share_asian  share_hispanic  \\\n",
       "0             0.8                   3.7         1.1            19.2   \n",
       "1             2.6                   1.0         8.9            21.1   \n",
       "2            11.5                   1.2         4.8            15.3   \n",
       "3             6.1                   0.5        33.3            15.1   \n",
       "4             0.9                   1.2         0.9            43.1   \n",
       "...           ...                   ...         ...             ...   \n",
       "2345         12.6                   2.0         2.1            37.8   \n",
       "2346         29.9                   0.5         2.5            10.0   \n",
       "2347          3.3                   4.6         2.6            46.7   \n",
       "2348          0.2                   0.0         0.2            24.6   \n",
       "2349          3.1                   0.8         3.2             2.7   \n",
       "\n",
       "     median_income  \n",
       "0          37072.0  \n",
       "1          65765.0  \n",
       "2          45947.0  \n",
       "3          81294.0  \n",
       "4          47791.0  \n",
       "...            ...  \n",
       "2345       34559.0  \n",
       "2346       45821.0  \n",
       "2347       47030.0  \n",
       "2348       41154.0  \n",
       "2349       42650.0  \n",
       "\n",
       "[2350 rows x 28 columns]"
      ]
     },
     "execution_count": 43,
     "metadata": {},
     "output_type": "execute_result"
    }
   ],
   "source": [
    "demo_killings_df"
   ]
  },
  {
   "cell_type": "code",
   "execution_count": 44,
   "metadata": {},
   "outputs": [],
   "source": [
    "def correlations(df):\n",
    "\n",
    "    return df[['age','poverty_rate', 'percent_completed_hs', 'share_white', 'share_black',\n",
    "               'share_native_american', 'share_asian', 'share_hispanic', 'median_income']].corr().style.background_gradient()"
   ]
  },
  {
   "cell_type": "code",
   "execution_count": 45,
   "metadata": {},
   "outputs": [
    {
     "data": {
      "text/html": [
       "<style  type=\"text/css\" >\n",
       "    #T_93966a66_abb3_11ea_8b10_88e9fe790f6erow0_col0 {\n",
       "            background-color:  #023858;\n",
       "            color:  #f1f1f1;\n",
       "        }    #T_93966a66_abb3_11ea_8b10_88e9fe790f6erow0_col1 {\n",
       "            background-color:  #99b8d8;\n",
       "            color:  #000000;\n",
       "        }    #T_93966a66_abb3_11ea_8b10_88e9fe790f6erow0_col2 {\n",
       "            background-color:  #9cb9d9;\n",
       "            color:  #000000;\n",
       "        }    #T_93966a66_abb3_11ea_8b10_88e9fe790f6erow0_col3 {\n",
       "            background-color:  #6ba5cd;\n",
       "            color:  #000000;\n",
       "        }    #T_93966a66_abb3_11ea_8b10_88e9fe790f6erow0_col4 {\n",
       "            background-color:  #afc1dd;\n",
       "            color:  #000000;\n",
       "        }    #T_93966a66_abb3_11ea_8b10_88e9fe790f6erow0_col5 {\n",
       "            background-color:  #e6e2ef;\n",
       "            color:  #000000;\n",
       "        }    #T_93966a66_abb3_11ea_8b10_88e9fe790f6erow0_col6 {\n",
       "            background-color:  #dbdaeb;\n",
       "            color:  #000000;\n",
       "        }    #T_93966a66_abb3_11ea_8b10_88e9fe790f6erow0_col7 {\n",
       "            background-color:  #bfc9e1;\n",
       "            color:  #000000;\n",
       "        }    #T_93966a66_abb3_11ea_8b10_88e9fe790f6erow0_col8 {\n",
       "            background-color:  #93b5d6;\n",
       "            color:  #000000;\n",
       "        }    #T_93966a66_abb3_11ea_8b10_88e9fe790f6erow1_col0 {\n",
       "            background-color:  #f5eff6;\n",
       "            color:  #000000;\n",
       "        }    #T_93966a66_abb3_11ea_8b10_88e9fe790f6erow1_col1 {\n",
       "            background-color:  #023858;\n",
       "            color:  #f1f1f1;\n",
       "        }    #T_93966a66_abb3_11ea_8b10_88e9fe790f6erow1_col2 {\n",
       "            background-color:  #f5eff6;\n",
       "            color:  #000000;\n",
       "        }    #T_93966a66_abb3_11ea_8b10_88e9fe790f6erow1_col3 {\n",
       "            background-color:  #d9d8ea;\n",
       "            color:  #000000;\n",
       "        }    #T_93966a66_abb3_11ea_8b10_88e9fe790f6erow1_col4 {\n",
       "            background-color:  #358fc0;\n",
       "            color:  #000000;\n",
       "        }    #T_93966a66_abb3_11ea_8b10_88e9fe790f6erow1_col5 {\n",
       "            background-color:  #d1d2e6;\n",
       "            color:  #000000;\n",
       "        }    #T_93966a66_abb3_11ea_8b10_88e9fe790f6erow1_col6 {\n",
       "            background-color:  #f1ebf5;\n",
       "            color:  #000000;\n",
       "        }    #T_93966a66_abb3_11ea_8b10_88e9fe790f6erow1_col7 {\n",
       "            background-color:  #88b1d4;\n",
       "            color:  #000000;\n",
       "        }    #T_93966a66_abb3_11ea_8b10_88e9fe790f6erow1_col8 {\n",
       "            background-color:  #fff7fb;\n",
       "            color:  #000000;\n",
       "        }    #T_93966a66_abb3_11ea_8b10_88e9fe790f6erow2_col0 {\n",
       "            background-color:  #e9e5f1;\n",
       "            color:  #000000;\n",
       "        }    #T_93966a66_abb3_11ea_8b10_88e9fe790f6erow2_col1 {\n",
       "            background-color:  #e7e3f0;\n",
       "            color:  #000000;\n",
       "        }    #T_93966a66_abb3_11ea_8b10_88e9fe790f6erow2_col2 {\n",
       "            background-color:  #023858;\n",
       "            color:  #f1f1f1;\n",
       "        }    #T_93966a66_abb3_11ea_8b10_88e9fe790f6erow2_col3 {\n",
       "            background-color:  #4c99c5;\n",
       "            color:  #000000;\n",
       "        }    #T_93966a66_abb3_11ea_8b10_88e9fe790f6erow2_col4 {\n",
       "            background-color:  #b1c2de;\n",
       "            color:  #000000;\n",
       "        }    #T_93966a66_abb3_11ea_8b10_88e9fe790f6erow2_col5 {\n",
       "            background-color:  #d8d7e9;\n",
       "            color:  #000000;\n",
       "        }    #T_93966a66_abb3_11ea_8b10_88e9fe790f6erow2_col6 {\n",
       "            background-color:  #c5cce3;\n",
       "            color:  #000000;\n",
       "        }    #T_93966a66_abb3_11ea_8b10_88e9fe790f6erow2_col7 {\n",
       "            background-color:  #fff7fb;\n",
       "            color:  #000000;\n",
       "        }    #T_93966a66_abb3_11ea_8b10_88e9fe790f6erow2_col8 {\n",
       "            background-color:  #2d8abd;\n",
       "            color:  #000000;\n",
       "        }    #T_93966a66_abb3_11ea_8b10_88e9fe790f6erow3_col0 {\n",
       "            background-color:  #c9cee4;\n",
       "            color:  #000000;\n",
       "        }    #T_93966a66_abb3_11ea_8b10_88e9fe790f6erow3_col1 {\n",
       "            background-color:  #d2d2e7;\n",
       "            color:  #000000;\n",
       "        }    #T_93966a66_abb3_11ea_8b10_88e9fe790f6erow3_col2 {\n",
       "            background-color:  #589ec8;\n",
       "            color:  #000000;\n",
       "        }    #T_93966a66_abb3_11ea_8b10_88e9fe790f6erow3_col3 {\n",
       "            background-color:  #023858;\n",
       "            color:  #f1f1f1;\n",
       "        }    #T_93966a66_abb3_11ea_8b10_88e9fe790f6erow3_col4 {\n",
       "            background-color:  #fff7fb;\n",
       "            color:  #000000;\n",
       "        }    #T_93966a66_abb3_11ea_8b10_88e9fe790f6erow3_col5 {\n",
       "            background-color:  #fff7fb;\n",
       "            color:  #000000;\n",
       "        }    #T_93966a66_abb3_11ea_8b10_88e9fe790f6erow3_col6 {\n",
       "            background-color:  #fff7fb;\n",
       "            color:  #000000;\n",
       "        }    #T_93966a66_abb3_11ea_8b10_88e9fe790f6erow3_col7 {\n",
       "            background-color:  #d2d2e7;\n",
       "            color:  #000000;\n",
       "        }    #T_93966a66_abb3_11ea_8b10_88e9fe790f6erow3_col8 {\n",
       "            background-color:  #80aed2;\n",
       "            color:  #000000;\n",
       "        }    #T_93966a66_abb3_11ea_8b10_88e9fe790f6erow4_col0 {\n",
       "            background-color:  #fdf5fa;\n",
       "            color:  #000000;\n",
       "        }    #T_93966a66_abb3_11ea_8b10_88e9fe790f6erow4_col1 {\n",
       "            background-color:  #2f8bbe;\n",
       "            color:  #000000;\n",
       "        }    #T_93966a66_abb3_11ea_8b10_88e9fe790f6erow4_col2 {\n",
       "            background-color:  #bdc8e1;\n",
       "            color:  #000000;\n",
       "        }    #T_93966a66_abb3_11ea_8b10_88e9fe790f6erow4_col3 {\n",
       "            background-color:  #fff7fb;\n",
       "            color:  #000000;\n",
       "        }    #T_93966a66_abb3_11ea_8b10_88e9fe790f6erow4_col4 {\n",
       "            background-color:  #023858;\n",
       "            color:  #f1f1f1;\n",
       "        }    #T_93966a66_abb3_11ea_8b10_88e9fe790f6erow4_col5 {\n",
       "            background-color:  #ebe6f2;\n",
       "            color:  #000000;\n",
       "        }    #T_93966a66_abb3_11ea_8b10_88e9fe790f6erow4_col6 {\n",
       "            background-color:  #e3e0ee;\n",
       "            color:  #000000;\n",
       "        }    #T_93966a66_abb3_11ea_8b10_88e9fe790f6erow4_col7 {\n",
       "            background-color:  #d4d4e8;\n",
       "            color:  #000000;\n",
       "        }    #T_93966a66_abb3_11ea_8b10_88e9fe790f6erow4_col8 {\n",
       "            background-color:  #cacee5;\n",
       "            color:  #000000;\n",
       "        }    #T_93966a66_abb3_11ea_8b10_88e9fe790f6erow5_col0 {\n",
       "            background-color:  #fef6fa;\n",
       "            color:  #000000;\n",
       "        }    #T_93966a66_abb3_11ea_8b10_88e9fe790f6erow5_col1 {\n",
       "            background-color:  #8cb3d5;\n",
       "            color:  #000000;\n",
       "        }    #T_93966a66_abb3_11ea_8b10_88e9fe790f6erow5_col2 {\n",
       "            background-color:  #abbfdc;\n",
       "            color:  #000000;\n",
       "        }    #T_93966a66_abb3_11ea_8b10_88e9fe790f6erow5_col3 {\n",
       "            background-color:  #d6d6e9;\n",
       "            color:  #000000;\n",
       "        }    #T_93966a66_abb3_11ea_8b10_88e9fe790f6erow5_col4 {\n",
       "            background-color:  #b7c5df;\n",
       "            color:  #000000;\n",
       "        }    #T_93966a66_abb3_11ea_8b10_88e9fe790f6erow5_col5 {\n",
       "            background-color:  #023858;\n",
       "            color:  #f1f1f1;\n",
       "        }    #T_93966a66_abb3_11ea_8b10_88e9fe790f6erow5_col6 {\n",
       "            background-color:  #dddbec;\n",
       "            color:  #000000;\n",
       "        }    #T_93966a66_abb3_11ea_8b10_88e9fe790f6erow5_col7 {\n",
       "            background-color:  #bcc7e1;\n",
       "            color:  #000000;\n",
       "        }    #T_93966a66_abb3_11ea_8b10_88e9fe790f6erow5_col8 {\n",
       "            background-color:  #a5bddb;\n",
       "            color:  #000000;\n",
       "        }    #T_93966a66_abb3_11ea_8b10_88e9fe790f6erow6_col0 {\n",
       "            background-color:  #faf3f9;\n",
       "            color:  #000000;\n",
       "        }    #T_93966a66_abb3_11ea_8b10_88e9fe790f6erow6_col1 {\n",
       "            background-color:  #bfc9e1;\n",
       "            color:  #000000;\n",
       "        }    #T_93966a66_abb3_11ea_8b10_88e9fe790f6erow6_col2 {\n",
       "            background-color:  #9fbad9;\n",
       "            color:  #000000;\n",
       "        }    #T_93966a66_abb3_11ea_8b10_88e9fe790f6erow6_col3 {\n",
       "            background-color:  #dcdaeb;\n",
       "            color:  #000000;\n",
       "        }    #T_93966a66_abb3_11ea_8b10_88e9fe790f6erow6_col4 {\n",
       "            background-color:  #b5c4df;\n",
       "            color:  #000000;\n",
       "        }    #T_93966a66_abb3_11ea_8b10_88e9fe790f6erow6_col5 {\n",
       "            background-color:  #e4e1ef;\n",
       "            color:  #000000;\n",
       "        }    #T_93966a66_abb3_11ea_8b10_88e9fe790f6erow6_col6 {\n",
       "            background-color:  #023858;\n",
       "            color:  #f1f1f1;\n",
       "        }    #T_93966a66_abb3_11ea_8b10_88e9fe790f6erow6_col7 {\n",
       "            background-color:  #83afd3;\n",
       "            color:  #000000;\n",
       "        }    #T_93966a66_abb3_11ea_8b10_88e9fe790f6erow6_col8 {\n",
       "            background-color:  #167bb6;\n",
       "            color:  #000000;\n",
       "        }    #T_93966a66_abb3_11ea_8b10_88e9fe790f6erow7_col0 {\n",
       "            background-color:  #fff7fb;\n",
       "            color:  #000000;\n",
       "        }    #T_93966a66_abb3_11ea_8b10_88e9fe790f6erow7_col1 {\n",
       "            background-color:  #75a9cf;\n",
       "            color:  #000000;\n",
       "        }    #T_93966a66_abb3_11ea_8b10_88e9fe790f6erow7_col2 {\n",
       "            background-color:  #fff7fb;\n",
       "            color:  #000000;\n",
       "        }    #T_93966a66_abb3_11ea_8b10_88e9fe790f6erow7_col3 {\n",
       "            background-color:  #c5cce3;\n",
       "            color:  #000000;\n",
       "        }    #T_93966a66_abb3_11ea_8b10_88e9fe790f6erow7_col4 {\n",
       "            background-color:  #c8cde4;\n",
       "            color:  #000000;\n",
       "        }    #T_93966a66_abb3_11ea_8b10_88e9fe790f6erow7_col5 {\n",
       "            background-color:  #e5e1ef;\n",
       "            color:  #000000;\n",
       "        }    #T_93966a66_abb3_11ea_8b10_88e9fe790f6erow7_col6 {\n",
       "            background-color:  #a9bfdc;\n",
       "            color:  #000000;\n",
       "        }    #T_93966a66_abb3_11ea_8b10_88e9fe790f6erow7_col7 {\n",
       "            background-color:  #023858;\n",
       "            color:  #f1f1f1;\n",
       "        }    #T_93966a66_abb3_11ea_8b10_88e9fe790f6erow7_col8 {\n",
       "            background-color:  #8eb3d5;\n",
       "            color:  #000000;\n",
       "        }    #T_93966a66_abb3_11ea_8b10_88e9fe790f6erow8_col0 {\n",
       "            background-color:  #f1ebf5;\n",
       "            color:  #000000;\n",
       "        }    #T_93966a66_abb3_11ea_8b10_88e9fe790f6erow8_col1 {\n",
       "            background-color:  #fff7fb;\n",
       "            color:  #000000;\n",
       "        }    #T_93966a66_abb3_11ea_8b10_88e9fe790f6erow8_col2 {\n",
       "            background-color:  #3d93c2;\n",
       "            color:  #000000;\n",
       "        }    #T_93966a66_abb3_11ea_8b10_88e9fe790f6erow8_col3 {\n",
       "            background-color:  #88b1d4;\n",
       "            color:  #000000;\n",
       "        }    #T_93966a66_abb3_11ea_8b10_88e9fe790f6erow8_col4 {\n",
       "            background-color:  #d2d3e7;\n",
       "            color:  #000000;\n",
       "        }    #T_93966a66_abb3_11ea_8b10_88e9fe790f6erow8_col5 {\n",
       "            background-color:  #e4e1ef;\n",
       "            color:  #000000;\n",
       "        }    #T_93966a66_abb3_11ea_8b10_88e9fe790f6erow8_col6 {\n",
       "            background-color:  #3b92c1;\n",
       "            color:  #000000;\n",
       "        }    #T_93966a66_abb3_11ea_8b10_88e9fe790f6erow8_col7 {\n",
       "            background-color:  #a4bcda;\n",
       "            color:  #000000;\n",
       "        }    #T_93966a66_abb3_11ea_8b10_88e9fe790f6erow8_col8 {\n",
       "            background-color:  #023858;\n",
       "            color:  #f1f1f1;\n",
       "        }</style><table id=\"T_93966a66_abb3_11ea_8b10_88e9fe790f6e\" ><thead>    <tr>        <th class=\"blank level0\" ></th>        <th class=\"col_heading level0 col0\" >age</th>        <th class=\"col_heading level0 col1\" >poverty_rate</th>        <th class=\"col_heading level0 col2\" >percent_completed_hs</th>        <th class=\"col_heading level0 col3\" >share_white</th>        <th class=\"col_heading level0 col4\" >share_black</th>        <th class=\"col_heading level0 col5\" >share_native_american</th>        <th class=\"col_heading level0 col6\" >share_asian</th>        <th class=\"col_heading level0 col7\" >share_hispanic</th>        <th class=\"col_heading level0 col8\" >median_income</th>    </tr></thead><tbody>\n",
       "                <tr>\n",
       "                        <th id=\"T_93966a66_abb3_11ea_8b10_88e9fe790f6elevel0_row0\" class=\"row_heading level0 row0\" >age</th>\n",
       "                        <td id=\"T_93966a66_abb3_11ea_8b10_88e9fe790f6erow0_col0\" class=\"data row0 col0\" >1</td>\n",
       "                        <td id=\"T_93966a66_abb3_11ea_8b10_88e9fe790f6erow0_col1\" class=\"data row0 col1\" >-0.0335681</td>\n",
       "                        <td id=\"T_93966a66_abb3_11ea_8b10_88e9fe790f6erow0_col2\" class=\"data row0 col2\" >0.0497379</td>\n",
       "                        <td id=\"T_93966a66_abb3_11ea_8b10_88e9fe790f6erow0_col3\" class=\"data row0 col3\" >0.195396</td>\n",
       "                        <td id=\"T_93966a66_abb3_11ea_8b10_88e9fe790f6erow0_col4\" class=\"data row0 col4\" >-0.0883359</td>\n",
       "                        <td id=\"T_93966a66_abb3_11ea_8b10_88e9fe790f6erow0_col5\" class=\"data row0 col5\" >-0.0945226</td>\n",
       "                        <td id=\"T_93966a66_abb3_11ea_8b10_88e9fe790f6erow0_col6\" class=\"data row0 col6\" >-0.0682506</td>\n",
       "                        <td id=\"T_93966a66_abb3_11ea_8b10_88e9fe790f6erow0_col7\" class=\"data row0 col7\" >-0.103968</td>\n",
       "                        <td id=\"T_93966a66_abb3_11ea_8b10_88e9fe790f6erow0_col8\" class=\"data row0 col8\" >-0.000778918</td>\n",
       "            </tr>\n",
       "            <tr>\n",
       "                        <th id=\"T_93966a66_abb3_11ea_8b10_88e9fe790f6elevel0_row1\" class=\"row_heading level0 row1\" >poverty_rate</th>\n",
       "                        <td id=\"T_93966a66_abb3_11ea_8b10_88e9fe790f6erow1_col0\" class=\"data row1 col0\" >-0.0335681</td>\n",
       "                        <td id=\"T_93966a66_abb3_11ea_8b10_88e9fe790f6erow1_col1\" class=\"data row1 col1\" >1</td>\n",
       "                        <td id=\"T_93966a66_abb3_11ea_8b10_88e9fe790f6erow1_col2\" class=\"data row1 col2\" >-0.482601</td>\n",
       "                        <td id=\"T_93966a66_abb3_11ea_8b10_88e9fe790f6erow1_col3\" class=\"data row1 col3\" >-0.314549</td>\n",
       "                        <td id=\"T_93966a66_abb3_11ea_8b10_88e9fe790f6erow1_col4\" class=\"data row1 col4\" >0.375503</td>\n",
       "                        <td id=\"T_93966a66_abb3_11ea_8b10_88e9fe790f6erow1_col5\" class=\"data row1 col5\" >0.0255835</td>\n",
       "                        <td id=\"T_93966a66_abb3_11ea_8b10_88e9fe790f6erow1_col6\" class=\"data row1 col6\" >-0.214157</td>\n",
       "                        <td id=\"T_93966a66_abb3_11ea_8b10_88e9fe790f6erow1_col7\" class=\"data row1 col7\" >0.12913</td>\n",
       "                        <td id=\"T_93966a66_abb3_11ea_8b10_88e9fe790f6erow1_col8\" class=\"data row1 col8\" >-0.741009</td>\n",
       "            </tr>\n",
       "            <tr>\n",
       "                        <th id=\"T_93966a66_abb3_11ea_8b10_88e9fe790f6elevel0_row2\" class=\"row_heading level0 row2\" >percent_completed_hs</th>\n",
       "                        <td id=\"T_93966a66_abb3_11ea_8b10_88e9fe790f6erow2_col0\" class=\"data row2 col0\" >0.0497379</td>\n",
       "                        <td id=\"T_93966a66_abb3_11ea_8b10_88e9fe790f6erow2_col1\" class=\"data row2 col1\" >-0.482601</td>\n",
       "                        <td id=\"T_93966a66_abb3_11ea_8b10_88e9fe790f6erow2_col2\" class=\"data row2 col2\" >1</td>\n",
       "                        <td id=\"T_93966a66_abb3_11ea_8b10_88e9fe790f6erow2_col3\" class=\"data row2 col3\" >0.300247</td>\n",
       "                        <td id=\"T_93966a66_abb3_11ea_8b10_88e9fe790f6erow2_col4\" class=\"data row2 col4\" >-0.0981934</td>\n",
       "                        <td id=\"T_93966a66_abb3_11ea_8b10_88e9fe790f6erow2_col5\" class=\"data row2 col5\" >-0.0120536</td>\n",
       "                        <td id=\"T_93966a66_abb3_11ea_8b10_88e9fe790f6erow2_col6\" class=\"data row2 col6\" >0.0394285</td>\n",
       "                        <td id=\"T_93966a66_abb3_11ea_8b10_88e9fe790f6erow2_col7\" class=\"data row2 col7\" >-0.582172</td>\n",
       "                        <td id=\"T_93966a66_abb3_11ea_8b10_88e9fe790f6erow2_col8\" class=\"data row2 col8\" >0.38361</td>\n",
       "            </tr>\n",
       "            <tr>\n",
       "                        <th id=\"T_93966a66_abb3_11ea_8b10_88e9fe790f6elevel0_row3\" class=\"row_heading level0 row3\" >share_white</th>\n",
       "                        <td id=\"T_93966a66_abb3_11ea_8b10_88e9fe790f6erow3_col0\" class=\"data row3 col0\" >0.195396</td>\n",
       "                        <td id=\"T_93966a66_abb3_11ea_8b10_88e9fe790f6erow3_col1\" class=\"data row3 col1\" >-0.314549</td>\n",
       "                        <td id=\"T_93966a66_abb3_11ea_8b10_88e9fe790f6erow3_col2\" class=\"data row3 col2\" >0.300247</td>\n",
       "                        <td id=\"T_93966a66_abb3_11ea_8b10_88e9fe790f6erow3_col3\" class=\"data row3 col3\" >1</td>\n",
       "                        <td id=\"T_93966a66_abb3_11ea_8b10_88e9fe790f6erow3_col4\" class=\"data row3 col4\" >-0.672725</td>\n",
       "                        <td id=\"T_93966a66_abb3_11ea_8b10_88e9fe790f6erow3_col5\" class=\"data row3 col5\" >-0.294468</td>\n",
       "                        <td id=\"T_93966a66_abb3_11ea_8b10_88e9fe790f6erow3_col6\" class=\"data row3 col6\" >-0.339594</td>\n",
       "                        <td id=\"T_93966a66_abb3_11ea_8b10_88e9fe790f6erow3_col7\" class=\"data row3 col7\" >-0.196613</td>\n",
       "                        <td id=\"T_93966a66_abb3_11ea_8b10_88e9fe790f6erow3_col8\" class=\"data row3 col8\" >0.0809118</td>\n",
       "            </tr>\n",
       "            <tr>\n",
       "                        <th id=\"T_93966a66_abb3_11ea_8b10_88e9fe790f6elevel0_row4\" class=\"row_heading level0 row4\" >share_black</th>\n",
       "                        <td id=\"T_93966a66_abb3_11ea_8b10_88e9fe790f6erow4_col0\" class=\"data row4 col0\" >-0.0883359</td>\n",
       "                        <td id=\"T_93966a66_abb3_11ea_8b10_88e9fe790f6erow4_col1\" class=\"data row4 col1\" >0.375503</td>\n",
       "                        <td id=\"T_93966a66_abb3_11ea_8b10_88e9fe790f6erow4_col2\" class=\"data row4 col2\" >-0.0981934</td>\n",
       "                        <td id=\"T_93966a66_abb3_11ea_8b10_88e9fe790f6erow4_col3\" class=\"data row4 col3\" >-0.672725</td>\n",
       "                        <td id=\"T_93966a66_abb3_11ea_8b10_88e9fe790f6erow4_col4\" class=\"data row4 col4\" >1</td>\n",
       "                        <td id=\"T_93966a66_abb3_11ea_8b10_88e9fe790f6erow4_col5\" class=\"data row4 col5\" >-0.125177</td>\n",
       "                        <td id=\"T_93966a66_abb3_11ea_8b10_88e9fe790f6erow4_col6\" class=\"data row4 col6\" >-0.118309</td>\n",
       "                        <td id=\"T_93966a66_abb3_11ea_8b10_88e9fe790f6erow4_col7\" class=\"data row4 col7\" >-0.211757</td>\n",
       "                        <td id=\"T_93966a66_abb3_11ea_8b10_88e9fe790f6erow4_col8\" class=\"data row4 col8\" >-0.272589</td>\n",
       "            </tr>\n",
       "            <tr>\n",
       "                        <th id=\"T_93966a66_abb3_11ea_8b10_88e9fe790f6elevel0_row5\" class=\"row_heading level0 row5\" >share_native_american</th>\n",
       "                        <td id=\"T_93966a66_abb3_11ea_8b10_88e9fe790f6erow5_col0\" class=\"data row5 col0\" >-0.0945226</td>\n",
       "                        <td id=\"T_93966a66_abb3_11ea_8b10_88e9fe790f6erow5_col1\" class=\"data row5 col1\" >0.0255835</td>\n",
       "                        <td id=\"T_93966a66_abb3_11ea_8b10_88e9fe790f6erow5_col2\" class=\"data row5 col2\" >-0.0120536</td>\n",
       "                        <td id=\"T_93966a66_abb3_11ea_8b10_88e9fe790f6erow5_col3\" class=\"data row5 col3\" >-0.294468</td>\n",
       "                        <td id=\"T_93966a66_abb3_11ea_8b10_88e9fe790f6erow5_col4\" class=\"data row5 col4\" >-0.125177</td>\n",
       "                        <td id=\"T_93966a66_abb3_11ea_8b10_88e9fe790f6erow5_col5\" class=\"data row5 col5\" >1</td>\n",
       "                        <td id=\"T_93966a66_abb3_11ea_8b10_88e9fe790f6erow5_col6\" class=\"data row5 col6\" >-0.0823533</td>\n",
       "                        <td id=\"T_93966a66_abb3_11ea_8b10_88e9fe790f6erow5_col7\" class=\"data row5 col7\" >-0.0897982</td>\n",
       "                        <td id=\"T_93966a66_abb3_11ea_8b10_88e9fe790f6erow5_col8\" class=\"data row5 col8\" >-0.0833838</td>\n",
       "            </tr>\n",
       "            <tr>\n",
       "                        <th id=\"T_93966a66_abb3_11ea_8b10_88e9fe790f6elevel0_row6\" class=\"row_heading level0 row6\" >share_asian</th>\n",
       "                        <td id=\"T_93966a66_abb3_11ea_8b10_88e9fe790f6erow6_col0\" class=\"data row6 col0\" >-0.0682506</td>\n",
       "                        <td id=\"T_93966a66_abb3_11ea_8b10_88e9fe790f6erow6_col1\" class=\"data row6 col1\" >-0.214157</td>\n",
       "                        <td id=\"T_93966a66_abb3_11ea_8b10_88e9fe790f6erow6_col2\" class=\"data row6 col2\" >0.0394285</td>\n",
       "                        <td id=\"T_93966a66_abb3_11ea_8b10_88e9fe790f6erow6_col3\" class=\"data row6 col3\" >-0.339594</td>\n",
       "                        <td id=\"T_93966a66_abb3_11ea_8b10_88e9fe790f6erow6_col4\" class=\"data row6 col4\" >-0.118309</td>\n",
       "                        <td id=\"T_93966a66_abb3_11ea_8b10_88e9fe790f6erow6_col5\" class=\"data row6 col5\" >-0.0823533</td>\n",
       "                        <td id=\"T_93966a66_abb3_11ea_8b10_88e9fe790f6erow6_col6\" class=\"data row6 col6\" >1</td>\n",
       "                        <td id=\"T_93966a66_abb3_11ea_8b10_88e9fe790f6erow6_col7\" class=\"data row6 col7\" >0.150483</td>\n",
       "                        <td id=\"T_93966a66_abb3_11ea_8b10_88e9fe790f6erow6_col8\" class=\"data row6 col8\" >0.48358</td>\n",
       "            </tr>\n",
       "            <tr>\n",
       "                        <th id=\"T_93966a66_abb3_11ea_8b10_88e9fe790f6elevel0_row7\" class=\"row_heading level0 row7\" >share_hispanic</th>\n",
       "                        <td id=\"T_93966a66_abb3_11ea_8b10_88e9fe790f6erow7_col0\" class=\"data row7 col0\" >-0.103968</td>\n",
       "                        <td id=\"T_93966a66_abb3_11ea_8b10_88e9fe790f6erow7_col1\" class=\"data row7 col1\" >0.12913</td>\n",
       "                        <td id=\"T_93966a66_abb3_11ea_8b10_88e9fe790f6erow7_col2\" class=\"data row7 col2\" >-0.582172</td>\n",
       "                        <td id=\"T_93966a66_abb3_11ea_8b10_88e9fe790f6erow7_col3\" class=\"data row7 col3\" >-0.196613</td>\n",
       "                        <td id=\"T_93966a66_abb3_11ea_8b10_88e9fe790f6erow7_col4\" class=\"data row7 col4\" >-0.211757</td>\n",
       "                        <td id=\"T_93966a66_abb3_11ea_8b10_88e9fe790f6erow7_col5\" class=\"data row7 col5\" >-0.0897982</td>\n",
       "                        <td id=\"T_93966a66_abb3_11ea_8b10_88e9fe790f6erow7_col6\" class=\"data row7 col6\" >0.150483</td>\n",
       "                        <td id=\"T_93966a66_abb3_11ea_8b10_88e9fe790f6erow7_col7\" class=\"data row7 col7\" >1</td>\n",
       "                        <td id=\"T_93966a66_abb3_11ea_8b10_88e9fe790f6erow7_col8\" class=\"data row7 col8\" >0.0187059</td>\n",
       "            </tr>\n",
       "            <tr>\n",
       "                        <th id=\"T_93966a66_abb3_11ea_8b10_88e9fe790f6elevel0_row8\" class=\"row_heading level0 row8\" >median_income</th>\n",
       "                        <td id=\"T_93966a66_abb3_11ea_8b10_88e9fe790f6erow8_col0\" class=\"data row8 col0\" >-0.000778918</td>\n",
       "                        <td id=\"T_93966a66_abb3_11ea_8b10_88e9fe790f6erow8_col1\" class=\"data row8 col1\" >-0.741009</td>\n",
       "                        <td id=\"T_93966a66_abb3_11ea_8b10_88e9fe790f6erow8_col2\" class=\"data row8 col2\" >0.38361</td>\n",
       "                        <td id=\"T_93966a66_abb3_11ea_8b10_88e9fe790f6erow8_col3\" class=\"data row8 col3\" >0.0809118</td>\n",
       "                        <td id=\"T_93966a66_abb3_11ea_8b10_88e9fe790f6erow8_col4\" class=\"data row8 col4\" >-0.272589</td>\n",
       "                        <td id=\"T_93966a66_abb3_11ea_8b10_88e9fe790f6erow8_col5\" class=\"data row8 col5\" >-0.0833838</td>\n",
       "                        <td id=\"T_93966a66_abb3_11ea_8b10_88e9fe790f6erow8_col6\" class=\"data row8 col6\" >0.48358</td>\n",
       "                        <td id=\"T_93966a66_abb3_11ea_8b10_88e9fe790f6erow8_col7\" class=\"data row8 col7\" >0.0187059</td>\n",
       "                        <td id=\"T_93966a66_abb3_11ea_8b10_88e9fe790f6erow8_col8\" class=\"data row8 col8\" >1</td>\n",
       "            </tr>\n",
       "    </tbody></table>"
      ],
      "text/plain": [
       "<pandas.io.formats.style.Styler at 0x117dc70f0>"
      ]
     },
     "execution_count": 45,
     "metadata": {},
     "output_type": "execute_result"
    }
   ],
   "source": [
    "correlations(demo_killings_df)"
   ]
  },
  {
   "cell_type": "markdown",
   "metadata": {},
   "source": [
    "## Mental Illness - Race Distribution"
   ]
  },
  {
   "cell_type": "code",
   "execution_count": 46,
   "metadata": {},
   "outputs": [
    {
     "data": {
      "image/png": "[encoded data removed]",
      "text/plain": [
       "<Figure size 432x288 with 1 Axes>"
      ]
     },
     "metadata": {
      "needs_background": "light"
     },
     "output_type": "display_data"
    },
    {
     "data": {
      "image/png": "[encoded data removed]",
      "text/plain": [
       "<Figure size 432x288 with 1 Axes>"
      ]
     },
     "metadata": {
      "needs_background": "light"
     },
     "output_type": "display_data"
    }
   ],
   "source": [
    "plt.bar(demo_killings_df[demo_killings_df.signs_of_mental_illness == True].race.value_counts().index, demo_killings_df[demo_killings_df.signs_of_mental_illness == True].race.value_counts().values)\n",
    "plt.title('Race Distribution - Signs of Mental Illness')\n",
    "plt.show()\n",
    "\n",
    "plt.bar(demo_killings_df[demo_killings_df.signs_of_mental_illness == False].race.value_counts().index, demo_killings_df[demo_killings_df.signs_of_mental_illness == False].race.value_counts().values)\n",
    "plt.title('Race Distribution - No Signs of Mental Illness')\n",
    "plt.show()"
   ]
  },
  {
   "cell_type": "markdown",
   "metadata": {},
   "source": [
    "## Threat Level - Race Distribution"
   ]
  },
  {
   "cell_type": "code",
   "execution_count": 47,
   "metadata": {},
   "outputs": [
    {
     "data": {
      "image/png": "[encoded data removed]",
      "text/plain": [
       "<Figure size 432x288 with 1 Axes>"
      ]
     },
     "metadata": {
      "needs_background": "light"
     },
     "output_type": "display_data"
    },
    {
     "data": {
      "image/png": "[encoded data removed]",
      "text/plain": [
       "<Figure size 432x288 with 1 Axes>"
      ]
     },
     "metadata": {
      "needs_background": "light"
     },
     "output_type": "display_data"
    },
    {
     "data": {
      "image/png": "[encoded data removed]",
      "text/plain": [
       "<Figure size 432x288 with 1 Axes>"
      ]
     },
     "metadata": {
      "needs_background": "light"
     },
     "output_type": "display_data"
    }
   ],
   "source": [
    "plt.bar(demo_killings_df[demo_killings_df.threat_level == 'attack'].race.value_counts().index, demo_killings_df[demo_killings_df.threat_level == 'attack'].race.value_counts().values)\n",
    "plt.title('Race Distribution - Threatening Victim')\n",
    "plt.show()\n",
    "\n",
    "plt.bar(demo_killings_df[demo_killings_df.threat_level == 'other'].race.value_counts().index, demo_killings_df[demo_killings_df.threat_level == 'other'].race.value_counts().values)\n",
    "plt.title('Race Distribution - Nonthreatening Victim')\n",
    "plt.show()\n",
    "\n",
    "plt.bar(demo_killings_df[demo_killings_df.threat_level == 'undetermined'].race.value_counts().index, demo_killings_df[demo_killings_df.threat_level == 'undetermined'].race.value_counts().values)\n",
    "plt.title('Race Distribution - Undetermined Threat Level')\n",
    "plt.show()"
   ]
  },
  {
   "cell_type": "markdown",
   "metadata": {},
   "source": [
    "## Fleeing or Not - Race Distribution"
   ]
  },
  {
   "cell_type": "code",
   "execution_count": 48,
   "metadata": {},
   "outputs": [
    {
     "data": {
      "image/png": "[encoded data removed]",
      "text/plain": [
       "<Figure size 432x288 with 1 Axes>"
      ]
     },
     "metadata": {
      "needs_background": "light"
     },
     "output_type": "display_data"
    },
    {
     "data": {
      "image/png": "[encoded data removed]",
      "text/plain": [
       "<Figure size 432x288 with 1 Axes>"
      ]
     },
     "metadata": {
      "needs_background": "light"
     },
     "output_type": "display_data"
    },
    {
     "data": {
      "image/png": "[encoded data removed]",
      "text/plain": [
       "<Figure size 432x288 with 1 Axes>"
      ]
     },
     "metadata": {
      "needs_background": "light"
     },
     "output_type": "display_data"
    }
   ],
   "source": [
    "plt.bar(demo_killings_df[demo_killings_df.flee == 'Car'].race.value_counts().index, demo_killings_df[demo_killings_df.flee == 'Car'].race.value_counts().values)\n",
    "plt.title('Race Distribution - Fleeing by Car')\n",
    "plt.show()\n",
    "\n",
    "plt.bar(demo_killings_df[demo_killings_df.flee == 'Foot'].race.value_counts().index, demo_killings_df[demo_killings_df.flee == 'Foot'].race.value_counts().values)\n",
    "plt.title('Race Distribution - Fleeing by Foot')\n",
    "plt.show()\n",
    "\n",
    "plt.bar(demo_killings_df[demo_killings_df.flee == 'Not fleeing'].race.value_counts().index, demo_killings_df[demo_killings_df.flee == 'Not fleeing'].race.value_counts().values)\n",
    "plt.title('Race Distribution - Not Fleeing')\n",
    "plt.show()"
   ]
  },
  {
   "cell_type": "markdown",
   "metadata": {},
   "source": [
    "## Armed vs Unarmed - Race Distribution"
   ]
  },
  {
   "cell_type": "code",
   "execution_count": 49,
   "metadata": {},
   "outputs": [
    {
     "data": {
      "image/png": "[encoded data removed]",
      "text/plain": [
       "<Figure size 432x288 with 1 Axes>"
      ]
     },
     "metadata": {
      "needs_background": "light"
     },
     "output_type": "display_data"
    },
    {
     "data": {
      "image/png": "[encoded data removed]",
      "text/plain": [
       "<Figure size 432x288 with 1 Axes>"
      ]
     },
     "metadata": {
      "needs_background": "light"
     },
     "output_type": "display_data"
    },
    {
     "data": {
      "image/png": "[encoded data removed]",
      "text/plain": [
       "<Figure size 432x288 with 1 Axes>"
      ]
     },
     "metadata": {
      "needs_background": "light"
     },
     "output_type": "display_data"
    }
   ],
   "source": [
    "plt.bar(demo_killings_df[demo_killings_df.armed == 'gun'].race.value_counts().index, demo_killings_df[demo_killings_df.armed == 'gun'].race.value_counts().values)\n",
    "plt.title('Race Distribution - Armed with a Gun')\n",
    "plt.show()\n",
    "\n",
    "plt.bar(demo_killings_df[demo_killings_df.armed == 'knife'].race.value_counts().index, demo_killings_df[demo_killings_df.armed == 'knife'].race.value_counts().values)\n",
    "plt.title('Race Distribution - Armed with a Knife')\n",
    "plt.show()\n",
    "\n",
    "plt.bar(demo_killings_df[demo_killings_df.armed == 'unarmed'].race.value_counts().index, demo_killings_df[demo_killings_df.armed == 'unarmed'].race.value_counts().values)\n",
    "plt.title('Race Distribution - Unarmed')\n",
    "plt.show()"
   ]
  },
  {
   "cell_type": "markdown",
   "metadata": {},
   "source": [
    "## Body Cameras - Race Distribution"
   ]
  },
  {
   "cell_type": "code",
   "execution_count": 50,
   "metadata": {},
   "outputs": [
    {
     "data": {
      "image/png": "[encoded data removed]",
      "text/plain": [
       "<Figure size 432x288 with 1 Axes>"
      ]
     },
     "metadata": {
      "needs_background": "light"
     },
     "output_type": "display_data"
    },
    {
     "data": {
      "image/png": "[encoded data removed]",
      "text/plain": [
       "<Figure size 432x288 with 1 Axes>"
      ]
     },
     "metadata": {
      "needs_background": "light"
     },
     "output_type": "display_data"
    }
   ],
   "source": [
    "plt.bar(demo_killings_df.race.value_counts().index, demo_killings_df.race.value_counts().values)\n",
    "plt.title('Race Distribution - Body Camera Off')\n",
    "plt.show()\n",
    "\n",
    "plt.bar(demo_killings_df[demo_killings_df.body_camera == True].race.value_counts().index, demo_killings_df[demo_killings_df.body_camera == True].race.value_counts().values)\n",
    "plt.title('Race Distribution - Body Camera On')\n",
    "plt.show()"
   ]
  },
  {
   "cell_type": "code",
   "execution_count": 51,
   "metadata": {},
   "outputs": [],
   "source": [
    "def eda_charts(df):\n",
    "    \n",
    "    plt.bar(df.race.value_counts().index, df.race.value_counts().values)\n",
    "    plt.title('Police Killings by Race')\n",
    "    plt.show()\n",
    "    \n",
    "    plt.hist(df.poverty_rate)\n",
    "    plt.title('Poverty Rate Distribution (%)')\n",
    "    plt.show()\n",
    "    \n",
    "    plt.hist(df.percent_completed_hs)\n",
    "    plt.title('High School Completion (% of Population) Distribution')\n",
    "    plt.show()\n",
    "    \n",
    "    plt.hist(df.median_income)\n",
    "    plt.title('Median Income Distribution')\n",
    "    plt.show()"
   ]
  },
  {
   "cell_type": "markdown",
   "metadata": {},
   "source": [
    "## Top 32 Cities"
   ]
  },
  {
   "cell_type": "code",
   "execution_count": 52,
   "metadata": {},
   "outputs": [],
   "source": [
    "most_killings_df = demo_killings_df.loc[demo_killings_df['city'].isin(demo_killings_df.city.value_counts().index[:32])]"
   ]
  },
  {
   "cell_type": "code",
   "execution_count": 53,
   "metadata": {},
   "outputs": [
    {
     "data": {
      "text/html": [
       "<style  type=\"text/css\" >\n",
       "    #T_94af0638_abb3_11ea_8b10_88e9fe790f6erow0_col0 {\n",
       "            background-color:  #023858;\n",
       "            color:  #f1f1f1;\n",
       "        }    #T_94af0638_abb3_11ea_8b10_88e9fe790f6erow0_col1 {\n",
       "            background-color:  #9ebad9;\n",
       "            color:  #000000;\n",
       "        }    #T_94af0638_abb3_11ea_8b10_88e9fe790f6erow0_col2 {\n",
       "            background-color:  #abbfdc;\n",
       "            color:  #000000;\n",
       "        }    #T_94af0638_abb3_11ea_8b10_88e9fe790f6erow0_col3 {\n",
       "            background-color:  #89b1d4;\n",
       "            color:  #000000;\n",
       "        }    #T_94af0638_abb3_11ea_8b10_88e9fe790f6erow0_col4 {\n",
       "            background-color:  #c2cbe2;\n",
       "            color:  #000000;\n",
       "        }    #T_94af0638_abb3_11ea_8b10_88e9fe790f6erow0_col5 {\n",
       "            background-color:  #d0d1e6;\n",
       "            color:  #000000;\n",
       "        }    #T_94af0638_abb3_11ea_8b10_88e9fe790f6erow0_col6 {\n",
       "            background-color:  #d8d7e9;\n",
       "            color:  #000000;\n",
       "        }    #T_94af0638_abb3_11ea_8b10_88e9fe790f6erow0_col7 {\n",
       "            background-color:  #abbfdc;\n",
       "            color:  #000000;\n",
       "        }    #T_94af0638_abb3_11ea_8b10_88e9fe790f6erow0_col8 {\n",
       "            background-color:  #96b6d7;\n",
       "            color:  #000000;\n",
       "        }    #T_94af0638_abb3_11ea_8b10_88e9fe790f6erow1_col0 {\n",
       "            background-color:  #dfddec;\n",
       "            color:  #000000;\n",
       "        }    #T_94af0638_abb3_11ea_8b10_88e9fe790f6erow1_col1 {\n",
       "            background-color:  #023858;\n",
       "            color:  #f1f1f1;\n",
       "        }    #T_94af0638_abb3_11ea_8b10_88e9fe790f6erow1_col2 {\n",
       "            background-color:  #ede8f3;\n",
       "            color:  #000000;\n",
       "        }    #T_94af0638_abb3_11ea_8b10_88e9fe790f6erow1_col3 {\n",
       "            background-color:  #c1cae2;\n",
       "            color:  #000000;\n",
       "        }    #T_94af0638_abb3_11ea_8b10_88e9fe790f6erow1_col4 {\n",
       "            background-color:  #71a8ce;\n",
       "            color:  #000000;\n",
       "        }    #T_94af0638_abb3_11ea_8b10_88e9fe790f6erow1_col5 {\n",
       "            background-color:  #c6cce3;\n",
       "            color:  #000000;\n",
       "        }    #T_94af0638_abb3_11ea_8b10_88e9fe790f6erow1_col6 {\n",
       "            background-color:  #f7f0f7;\n",
       "            color:  #000000;\n",
       "        }    #T_94af0638_abb3_11ea_8b10_88e9fe790f6erow1_col7 {\n",
       "            background-color:  #67a4cc;\n",
       "            color:  #000000;\n",
       "        }    #T_94af0638_abb3_11ea_8b10_88e9fe790f6erow1_col8 {\n",
       "            background-color:  #fff7fb;\n",
       "            color:  #000000;\n",
       "        }    #T_94af0638_abb3_11ea_8b10_88e9fe790f6erow2_col0 {\n",
       "            background-color:  #dddbec;\n",
       "            color:  #000000;\n",
       "        }    #T_94af0638_abb3_11ea_8b10_88e9fe790f6erow2_col1 {\n",
       "            background-color:  #e0deed;\n",
       "            color:  #000000;\n",
       "        }    #T_94af0638_abb3_11ea_8b10_88e9fe790f6erow2_col2 {\n",
       "            background-color:  #023858;\n",
       "            color:  #f1f1f1;\n",
       "        }    #T_94af0638_abb3_11ea_8b10_88e9fe790f6erow2_col3 {\n",
       "            background-color:  #9cb9d9;\n",
       "            color:  #000000;\n",
       "        }    #T_94af0638_abb3_11ea_8b10_88e9fe790f6erow2_col4 {\n",
       "            background-color:  #c9cee4;\n",
       "            color:  #000000;\n",
       "        }    #T_94af0638_abb3_11ea_8b10_88e9fe790f6erow2_col5 {\n",
       "            background-color:  #9cb9d9;\n",
       "            color:  #000000;\n",
       "        }    #T_94af0638_abb3_11ea_8b10_88e9fe790f6erow2_col6 {\n",
       "            background-color:  #dad9ea;\n",
       "            color:  #000000;\n",
       "        }    #T_94af0638_abb3_11ea_8b10_88e9fe790f6erow2_col7 {\n",
       "            background-color:  #fff7fb;\n",
       "            color:  #000000;\n",
       "        }    #T_94af0638_abb3_11ea_8b10_88e9fe790f6erow2_col8 {\n",
       "            background-color:  #6fa7ce;\n",
       "            color:  #000000;\n",
       "        }    #T_94af0638_abb3_11ea_8b10_88e9fe790f6erow3_col0 {\n",
       "            background-color:  #cdd0e5;\n",
       "            color:  #000000;\n",
       "        }    #T_94af0638_abb3_11ea_8b10_88e9fe790f6erow3_col1 {\n",
       "            background-color:  #bfc9e1;\n",
       "            color:  #000000;\n",
       "        }    #T_94af0638_abb3_11ea_8b10_88e9fe790f6erow3_col2 {\n",
       "            background-color:  #a9bfdc;\n",
       "            color:  #000000;\n",
       "        }    #T_94af0638_abb3_11ea_8b10_88e9fe790f6erow3_col3 {\n",
       "            background-color:  #023858;\n",
       "            color:  #f1f1f1;\n",
       "        }    #T_94af0638_abb3_11ea_8b10_88e9fe790f6erow3_col4 {\n",
       "            background-color:  #fff7fb;\n",
       "            color:  #000000;\n",
       "        }    #T_94af0638_abb3_11ea_8b10_88e9fe790f6erow3_col5 {\n",
       "            background-color:  #fff7fb;\n",
       "            color:  #000000;\n",
       "        }    #T_94af0638_abb3_11ea_8b10_88e9fe790f6erow3_col6 {\n",
       "            background-color:  #fff7fb;\n",
       "            color:  #000000;\n",
       "        }    #T_94af0638_abb3_11ea_8b10_88e9fe790f6erow3_col7 {\n",
       "            background-color:  #7dacd1;\n",
       "            color:  #000000;\n",
       "        }    #T_94af0638_abb3_11ea_8b10_88e9fe790f6erow3_col8 {\n",
       "            background-color:  #9fbad9;\n",
       "            color:  #000000;\n",
       "        }    #T_94af0638_abb3_11ea_8b10_88e9fe790f6erow4_col0 {\n",
       "            background-color:  #dddbec;\n",
       "            color:  #000000;\n",
       "        }    #T_94af0638_abb3_11ea_8b10_88e9fe790f6erow4_col1 {\n",
       "            background-color:  #4a98c5;\n",
       "            color:  #000000;\n",
       "        }    #T_94af0638_abb3_11ea_8b10_88e9fe790f6erow4_col2 {\n",
       "            background-color:  #b1c2de;\n",
       "            color:  #000000;\n",
       "        }    #T_94af0638_abb3_11ea_8b10_88e9fe790f6erow4_col3 {\n",
       "            background-color:  #e7e3f0;\n",
       "            color:  #000000;\n",
       "        }    #T_94af0638_abb3_11ea_8b10_88e9fe790f6erow4_col4 {\n",
       "            background-color:  #023858;\n",
       "            color:  #f1f1f1;\n",
       "        }    #T_94af0638_abb3_11ea_8b10_88e9fe790f6erow4_col5 {\n",
       "            background-color:  #d4d4e8;\n",
       "            color:  #000000;\n",
       "        }    #T_94af0638_abb3_11ea_8b10_88e9fe790f6erow4_col6 {\n",
       "            background-color:  #f1ebf4;\n",
       "            color:  #000000;\n",
       "        }    #T_94af0638_abb3_11ea_8b10_88e9fe790f6erow4_col7 {\n",
       "            background-color:  #eee9f3;\n",
       "            color:  #000000;\n",
       "        }    #T_94af0638_abb3_11ea_8b10_88e9fe790f6erow4_col8 {\n",
       "            background-color:  #d2d2e7;\n",
       "            color:  #000000;\n",
       "        }    #T_94af0638_abb3_11ea_8b10_88e9fe790f6erow5_col0 {\n",
       "            background-color:  #fff7fb;\n",
       "            color:  #000000;\n",
       "        }    #T_94af0638_abb3_11ea_8b10_88e9fe790f6erow5_col1 {\n",
       "            background-color:  #c4cbe3;\n",
       "            color:  #000000;\n",
       "        }    #T_94af0638_abb3_11ea_8b10_88e9fe790f6erow5_col2 {\n",
       "            background-color:  #a9bfdc;\n",
       "            color:  #000000;\n",
       "        }    #T_94af0638_abb3_11ea_8b10_88e9fe790f6erow5_col3 {\n",
       "            background-color:  #fff7fb;\n",
       "            color:  #000000;\n",
       "        }    #T_94af0638_abb3_11ea_8b10_88e9fe790f6erow5_col4 {\n",
       "            background-color:  #f1ebf4;\n",
       "            color:  #000000;\n",
       "        }    #T_94af0638_abb3_11ea_8b10_88e9fe790f6erow5_col5 {\n",
       "            background-color:  #023858;\n",
       "            color:  #f1f1f1;\n",
       "        }    #T_94af0638_abb3_11ea_8b10_88e9fe790f6erow5_col6 {\n",
       "            background-color:  #f2ecf5;\n",
       "            color:  #000000;\n",
       "        }    #T_94af0638_abb3_11ea_8b10_88e9fe790f6erow5_col7 {\n",
       "            background-color:  #e6e2ef;\n",
       "            color:  #000000;\n",
       "        }    #T_94af0638_abb3_11ea_8b10_88e9fe790f6erow5_col8 {\n",
       "            background-color:  #cdd0e5;\n",
       "            color:  #000000;\n",
       "        }    #T_94af0638_abb3_11ea_8b10_88e9fe790f6erow6_col0 {\n",
       "            background-color:  #e4e1ef;\n",
       "            color:  #000000;\n",
       "        }    #T_94af0638_abb3_11ea_8b10_88e9fe790f6erow6_col1 {\n",
       "            background-color:  #d1d2e6;\n",
       "            color:  #000000;\n",
       "        }    #T_94af0638_abb3_11ea_8b10_88e9fe790f6erow6_col2 {\n",
       "            background-color:  #b7c5df;\n",
       "            color:  #000000;\n",
       "        }    #T_94af0638_abb3_11ea_8b10_88e9fe790f6erow6_col3 {\n",
       "            background-color:  #dcdaeb;\n",
       "            color:  #000000;\n",
       "        }    #T_94af0638_abb3_11ea_8b10_88e9fe790f6erow6_col4 {\n",
       "            background-color:  #e7e3f0;\n",
       "            color:  #000000;\n",
       "        }    #T_94af0638_abb3_11ea_8b10_88e9fe790f6erow6_col5 {\n",
       "            background-color:  #cccfe5;\n",
       "            color:  #000000;\n",
       "        }    #T_94af0638_abb3_11ea_8b10_88e9fe790f6erow6_col6 {\n",
       "            background-color:  #023858;\n",
       "            color:  #f1f1f1;\n",
       "        }    #T_94af0638_abb3_11ea_8b10_88e9fe790f6erow6_col7 {\n",
       "            background-color:  #a5bddb;\n",
       "            color:  #000000;\n",
       "        }    #T_94af0638_abb3_11ea_8b10_88e9fe790f6erow6_col8 {\n",
       "            background-color:  #0569a4;\n",
       "            color:  #f1f1f1;\n",
       "        }    #T_94af0638_abb3_11ea_8b10_88e9fe790f6erow7_col0 {\n",
       "            background-color:  #dddbec;\n",
       "            color:  #000000;\n",
       "        }    #T_94af0638_abb3_11ea_8b10_88e9fe790f6erow7_col1 {\n",
       "            background-color:  #589ec8;\n",
       "            color:  #000000;\n",
       "        }    #T_94af0638_abb3_11ea_8b10_88e9fe790f6erow7_col2 {\n",
       "            background-color:  #fff7fb;\n",
       "            color:  #000000;\n",
       "        }    #T_94af0638_abb3_11ea_8b10_88e9fe790f6erow7_col3 {\n",
       "            background-color:  #71a8ce;\n",
       "            color:  #000000;\n",
       "        }    #T_94af0638_abb3_11ea_8b10_88e9fe790f6erow7_col4 {\n",
       "            background-color:  #fef6fa;\n",
       "            color:  #000000;\n",
       "        }    #T_94af0638_abb3_11ea_8b10_88e9fe790f6erow7_col5 {\n",
       "            background-color:  #dbdaeb;\n",
       "            color:  #000000;\n",
       "        }    #T_94af0638_abb3_11ea_8b10_88e9fe790f6erow7_col6 {\n",
       "            background-color:  #cacee5;\n",
       "            color:  #000000;\n",
       "        }    #T_94af0638_abb3_11ea_8b10_88e9fe790f6erow7_col7 {\n",
       "            background-color:  #023858;\n",
       "            color:  #f1f1f1;\n",
       "        }    #T_94af0638_abb3_11ea_8b10_88e9fe790f6erow7_col8 {\n",
       "            background-color:  #b9c6e0;\n",
       "            color:  #000000;\n",
       "        }    #T_94af0638_abb3_11ea_8b10_88e9fe790f6erow8_col0 {\n",
       "            background-color:  #d9d8ea;\n",
       "            color:  #000000;\n",
       "        }    #T_94af0638_abb3_11ea_8b10_88e9fe790f6erow8_col1 {\n",
       "            background-color:  #fff7fb;\n",
       "            color:  #000000;\n",
       "        }    #T_94af0638_abb3_11ea_8b10_88e9fe790f6erow8_col2 {\n",
       "            background-color:  #7eadd1;\n",
       "            color:  #000000;\n",
       "        }    #T_94af0638_abb3_11ea_8b10_88e9fe790f6erow8_col3 {\n",
       "            background-color:  #a2bcda;\n",
       "            color:  #000000;\n",
       "        }    #T_94af0638_abb3_11ea_8b10_88e9fe790f6erow8_col4 {\n",
       "            background-color:  #f0eaf4;\n",
       "            color:  #000000;\n",
       "        }    #T_94af0638_abb3_11ea_8b10_88e9fe790f6erow8_col5 {\n",
       "            background-color:  #d0d1e6;\n",
       "            color:  #000000;\n",
       "        }    #T_94af0638_abb3_11ea_8b10_88e9fe790f6erow8_col6 {\n",
       "            background-color:  #0a73b2;\n",
       "            color:  #f1f1f1;\n",
       "        }    #T_94af0638_abb3_11ea_8b10_88e9fe790f6erow8_col7 {\n",
       "            background-color:  #c9cee4;\n",
       "            color:  #000000;\n",
       "        }    #T_94af0638_abb3_11ea_8b10_88e9fe790f6erow8_col8 {\n",
       "            background-color:  #023858;\n",
       "            color:  #f1f1f1;\n",
       "        }</style><table id=\"T_94af0638_abb3_11ea_8b10_88e9fe790f6e\" ><thead>    <tr>        <th class=\"blank level0\" ></th>        <th class=\"col_heading level0 col0\" >age</th>        <th class=\"col_heading level0 col1\" >poverty_rate</th>        <th class=\"col_heading level0 col2\" >percent_completed_hs</th>        <th class=\"col_heading level0 col3\" >share_white</th>        <th class=\"col_heading level0 col4\" >share_black</th>        <th class=\"col_heading level0 col5\" >share_native_american</th>        <th class=\"col_heading level0 col6\" >share_asian</th>        <th class=\"col_heading level0 col7\" >share_hispanic</th>        <th class=\"col_heading level0 col8\" >median_income</th>    </tr></thead><tbody>\n",
       "                <tr>\n",
       "                        <th id=\"T_94af0638_abb3_11ea_8b10_88e9fe790f6elevel0_row0\" class=\"row_heading level0 row0\" >age</th>\n",
       "                        <td id=\"T_94af0638_abb3_11ea_8b10_88e9fe790f6erow0_col0\" class=\"data row0 col0\" >1</td>\n",
       "                        <td id=\"T_94af0638_abb3_11ea_8b10_88e9fe790f6erow0_col1\" class=\"data row0 col1\" >0.0320506</td>\n",
       "                        <td id=\"T_94af0638_abb3_11ea_8b10_88e9fe790f6erow0_col2\" class=\"data row0 col2\" >0.0409949</td>\n",
       "                        <td id=\"T_94af0638_abb3_11ea_8b10_88e9fe790f6erow0_col3\" class=\"data row0 col3\" >0.121906</td>\n",
       "                        <td id=\"T_94af0638_abb3_11ea_8b10_88e9fe790f6erow0_col4\" class=\"data row0 col4\" >0.0400931</td>\n",
       "                        <td id=\"T_94af0638_abb3_11ea_8b10_88e9fe790f6erow0_col5\" class=\"data row0 col5\" >-0.189266</td>\n",
       "                        <td id=\"T_94af0638_abb3_11ea_8b10_88e9fe790f6erow0_col6\" class=\"data row0 col6\" >0.00224954</td>\n",
       "                        <td id=\"T_94af0638_abb3_11ea_8b10_88e9fe790f6erow0_col7\" class=\"data row0 col7\" >0.0427657</td>\n",
       "                        <td id=\"T_94af0638_abb3_11ea_8b10_88e9fe790f6erow0_col8\" class=\"data row0 col8\" >0.0627995</td>\n",
       "            </tr>\n",
       "            <tr>\n",
       "                        <th id=\"T_94af0638_abb3_11ea_8b10_88e9fe790f6elevel0_row1\" class=\"row_heading level0 row1\" >poverty_rate</th>\n",
       "                        <td id=\"T_94af0638_abb3_11ea_8b10_88e9fe790f6erow1_col0\" class=\"data row1 col0\" >0.0320506</td>\n",
       "                        <td id=\"T_94af0638_abb3_11ea_8b10_88e9fe790f6erow1_col1\" class=\"data row1 col1\" >1</td>\n",
       "                        <td id=\"T_94af0638_abb3_11ea_8b10_88e9fe790f6erow1_col2\" class=\"data row1 col2\" >-0.322493</td>\n",
       "                        <td id=\"T_94af0638_abb3_11ea_8b10_88e9fe790f6erow1_col3\" class=\"data row1 col3\" >-0.116913</td>\n",
       "                        <td id=\"T_94af0638_abb3_11ea_8b10_88e9fe790f6erow1_col4\" class=\"data row1 col4\" >0.333176</td>\n",
       "                        <td id=\"T_94af0638_abb3_11ea_8b10_88e9fe790f6erow1_col5\" class=\"data row1 col5\" >-0.146685</td>\n",
       "                        <td id=\"T_94af0638_abb3_11ea_8b10_88e9fe790f6erow1_col6\" class=\"data row1 col6\" >-0.206265</td>\n",
       "                        <td id=\"T_94af0638_abb3_11ea_8b10_88e9fe790f6erow1_col7\" class=\"data row1 col7\" >0.289368</td>\n",
       "                        <td id=\"T_94af0638_abb3_11ea_8b10_88e9fe790f6erow1_col8\" class=\"data row1 col8\" >-0.606271</td>\n",
       "            </tr>\n",
       "            <tr>\n",
       "                        <th id=\"T_94af0638_abb3_11ea_8b10_88e9fe790f6elevel0_row2\" class=\"row_heading level0 row2\" >percent_completed_hs</th>\n",
       "                        <td id=\"T_94af0638_abb3_11ea_8b10_88e9fe790f6erow2_col0\" class=\"data row2 col0\" >0.0409949</td>\n",
       "                        <td id=\"T_94af0638_abb3_11ea_8b10_88e9fe790f6erow2_col1\" class=\"data row2 col1\" >-0.322493</td>\n",
       "                        <td id=\"T_94af0638_abb3_11ea_8b10_88e9fe790f6erow2_col2\" class=\"data row2 col2\" >1</td>\n",
       "                        <td id=\"T_94af0638_abb3_11ea_8b10_88e9fe790f6erow2_col3\" class=\"data row2 col3\" >0.0447716</td>\n",
       "                        <td id=\"T_94af0638_abb3_11ea_8b10_88e9fe790f6erow2_col4\" class=\"data row2 col4\" >0.0144349</td>\n",
       "                        <td id=\"T_94af0638_abb3_11ea_8b10_88e9fe790f6erow2_col5\" class=\"data row2 col5\" >0.0448773</td>\n",
       "                        <td id=\"T_94af0638_abb3_11ea_8b10_88e9fe790f6erow2_col6\" class=\"data row2 col6\" >-0.0129527</td>\n",
       "                        <td id=\"T_94af0638_abb3_11ea_8b10_88e9fe790f6erow2_col7\" class=\"data row2 col7\" >-0.500997</td>\n",
       "                        <td id=\"T_94af0638_abb3_11ea_8b10_88e9fe790f6erow2_col8\" class=\"data row2 col8\" >0.21283</td>\n",
       "            </tr>\n",
       "            <tr>\n",
       "                        <th id=\"T_94af0638_abb3_11ea_8b10_88e9fe790f6elevel0_row3\" class=\"row_heading level0 row3\" >share_white</th>\n",
       "                        <td id=\"T_94af0638_abb3_11ea_8b10_88e9fe790f6erow3_col0\" class=\"data row3 col0\" >0.121906</td>\n",
       "                        <td id=\"T_94af0638_abb3_11ea_8b10_88e9fe790f6erow3_col1\" class=\"data row3 col1\" >-0.116913</td>\n",
       "                        <td id=\"T_94af0638_abb3_11ea_8b10_88e9fe790f6erow3_col2\" class=\"data row3 col2\" >0.0447716</td>\n",
       "                        <td id=\"T_94af0638_abb3_11ea_8b10_88e9fe790f6erow3_col3\" class=\"data row3 col3\" >1</td>\n",
       "                        <td id=\"T_94af0638_abb3_11ea_8b10_88e9fe790f6erow3_col4\" class=\"data row3 col4\" >-0.351996</td>\n",
       "                        <td id=\"T_94af0638_abb3_11ea_8b10_88e9fe790f6erow3_col5\" class=\"data row3 col5\" >-0.588355</td>\n",
       "                        <td id=\"T_94af0638_abb3_11ea_8b10_88e9fe790f6erow3_col6\" class=\"data row3 col6\" >-0.276833</td>\n",
       "                        <td id=\"T_94af0638_abb3_11ea_8b10_88e9fe790f6erow3_col7\" class=\"data row3 col7\" >0.217446</td>\n",
       "                        <td id=\"T_94af0638_abb3_11ea_8b10_88e9fe790f6erow3_col8\" class=\"data row3 col8\" >0.0258424</td>\n",
       "            </tr>\n",
       "            <tr>\n",
       "                        <th id=\"T_94af0638_abb3_11ea_8b10_88e9fe790f6elevel0_row4\" class=\"row_heading level0 row4\" >share_black</th>\n",
       "                        <td id=\"T_94af0638_abb3_11ea_8b10_88e9fe790f6erow4_col0\" class=\"data row4 col0\" >0.0400931</td>\n",
       "                        <td id=\"T_94af0638_abb3_11ea_8b10_88e9fe790f6erow4_col1\" class=\"data row4 col1\" >0.333176</td>\n",
       "                        <td id=\"T_94af0638_abb3_11ea_8b10_88e9fe790f6erow4_col2\" class=\"data row4 col2\" >0.0144349</td>\n",
       "                        <td id=\"T_94af0638_abb3_11ea_8b10_88e9fe790f6erow4_col3\" class=\"data row4 col3\" >-0.351996</td>\n",
       "                        <td id=\"T_94af0638_abb3_11ea_8b10_88e9fe790f6erow4_col4\" class=\"data row4 col4\" >1</td>\n",
       "                        <td id=\"T_94af0638_abb3_11ea_8b10_88e9fe790f6erow4_col5\" class=\"data row4 col5\" >-0.221765</td>\n",
       "                        <td id=\"T_94af0638_abb3_11ea_8b10_88e9fe790f6erow4_col6\" class=\"data row4 col6\" >-0.156031</td>\n",
       "                        <td id=\"T_94af0638_abb3_11ea_8b10_88e9fe790f6erow4_col7\" class=\"data row4 col7\" >-0.336348</td>\n",
       "                        <td id=\"T_94af0638_abb3_11ea_8b10_88e9fe790f6erow4_col8\" class=\"data row4 col8\" >-0.211854</td>\n",
       "            </tr>\n",
       "            <tr>\n",
       "                        <th id=\"T_94af0638_abb3_11ea_8b10_88e9fe790f6elevel0_row5\" class=\"row_heading level0 row5\" >share_native_american</th>\n",
       "                        <td id=\"T_94af0638_abb3_11ea_8b10_88e9fe790f6erow5_col0\" class=\"data row5 col0\" >-0.189266</td>\n",
       "                        <td id=\"T_94af0638_abb3_11ea_8b10_88e9fe790f6erow5_col1\" class=\"data row5 col1\" >-0.146685</td>\n",
       "                        <td id=\"T_94af0638_abb3_11ea_8b10_88e9fe790f6erow5_col2\" class=\"data row5 col2\" >0.0448773</td>\n",
       "                        <td id=\"T_94af0638_abb3_11ea_8b10_88e9fe790f6erow5_col3\" class=\"data row5 col3\" >-0.588355</td>\n",
       "                        <td id=\"T_94af0638_abb3_11ea_8b10_88e9fe790f6erow5_col4\" class=\"data row5 col4\" >-0.221765</td>\n",
       "                        <td id=\"T_94af0638_abb3_11ea_8b10_88e9fe790f6erow5_col5\" class=\"data row5 col5\" >1</td>\n",
       "                        <td id=\"T_94af0638_abb3_11ea_8b10_88e9fe790f6erow5_col6\" class=\"data row5 col6\" >-0.171216</td>\n",
       "                        <td id=\"T_94af0638_abb3_11ea_8b10_88e9fe790f6erow5_col7\" class=\"data row5 col7\" >-0.267149</td>\n",
       "                        <td id=\"T_94af0638_abb3_11ea_8b10_88e9fe790f6erow5_col8\" class=\"data row5 col8\" >-0.185961</td>\n",
       "            </tr>\n",
       "            <tr>\n",
       "                        <th id=\"T_94af0638_abb3_11ea_8b10_88e9fe790f6elevel0_row6\" class=\"row_heading level0 row6\" >share_asian</th>\n",
       "                        <td id=\"T_94af0638_abb3_11ea_8b10_88e9fe790f6erow6_col0\" class=\"data row6 col0\" >0.00224954</td>\n",
       "                        <td id=\"T_94af0638_abb3_11ea_8b10_88e9fe790f6erow6_col1\" class=\"data row6 col1\" >-0.206265</td>\n",
       "                        <td id=\"T_94af0638_abb3_11ea_8b10_88e9fe790f6erow6_col2\" class=\"data row6 col2\" >-0.0129527</td>\n",
       "                        <td id=\"T_94af0638_abb3_11ea_8b10_88e9fe790f6erow6_col3\" class=\"data row6 col3\" >-0.276833</td>\n",
       "                        <td id=\"T_94af0638_abb3_11ea_8b10_88e9fe790f6erow6_col4\" class=\"data row6 col4\" >-0.156031</td>\n",
       "                        <td id=\"T_94af0638_abb3_11ea_8b10_88e9fe790f6erow6_col5\" class=\"data row6 col5\" >-0.171216</td>\n",
       "                        <td id=\"T_94af0638_abb3_11ea_8b10_88e9fe790f6erow6_col6\" class=\"data row6 col6\" >1</td>\n",
       "                        <td id=\"T_94af0638_abb3_11ea_8b10_88e9fe790f6erow6_col7\" class=\"data row6 col7\" >0.0666548</td>\n",
       "                        <td id=\"T_94af0638_abb3_11ea_8b10_88e9fe790f6erow6_col8\" class=\"data row6 col8\" >0.665199</td>\n",
       "            </tr>\n",
       "            <tr>\n",
       "                        <th id=\"T_94af0638_abb3_11ea_8b10_88e9fe790f6elevel0_row7\" class=\"row_heading level0 row7\" >share_hispanic</th>\n",
       "                        <td id=\"T_94af0638_abb3_11ea_8b10_88e9fe790f6erow7_col0\" class=\"data row7 col0\" >0.0427657</td>\n",
       "                        <td id=\"T_94af0638_abb3_11ea_8b10_88e9fe790f6erow7_col1\" class=\"data row7 col1\" >0.289368</td>\n",
       "                        <td id=\"T_94af0638_abb3_11ea_8b10_88e9fe790f6erow7_col2\" class=\"data row7 col2\" >-0.500997</td>\n",
       "                        <td id=\"T_94af0638_abb3_11ea_8b10_88e9fe790f6erow7_col3\" class=\"data row7 col3\" >0.217446</td>\n",
       "                        <td id=\"T_94af0638_abb3_11ea_8b10_88e9fe790f6erow7_col4\" class=\"data row7 col4\" >-0.336348</td>\n",
       "                        <td id=\"T_94af0638_abb3_11ea_8b10_88e9fe790f6erow7_col5\" class=\"data row7 col5\" >-0.267149</td>\n",
       "                        <td id=\"T_94af0638_abb3_11ea_8b10_88e9fe790f6erow7_col6\" class=\"data row7 col6\" >0.0666548</td>\n",
       "                        <td id=\"T_94af0638_abb3_11ea_8b10_88e9fe790f6erow7_col7\" class=\"data row7 col7\" >1</td>\n",
       "                        <td id=\"T_94af0638_abb3_11ea_8b10_88e9fe790f6erow7_col8\" class=\"data row7 col8\" >-0.0958477</td>\n",
       "            </tr>\n",
       "            <tr>\n",
       "                        <th id=\"T_94af0638_abb3_11ea_8b10_88e9fe790f6elevel0_row8\" class=\"row_heading level0 row8\" >median_income</th>\n",
       "                        <td id=\"T_94af0638_abb3_11ea_8b10_88e9fe790f6erow8_col0\" class=\"data row8 col0\" >0.0627995</td>\n",
       "                        <td id=\"T_94af0638_abb3_11ea_8b10_88e9fe790f6erow8_col1\" class=\"data row8 col1\" >-0.606271</td>\n",
       "                        <td id=\"T_94af0638_abb3_11ea_8b10_88e9fe790f6erow8_col2\" class=\"data row8 col2\" >0.21283</td>\n",
       "                        <td id=\"T_94af0638_abb3_11ea_8b10_88e9fe790f6erow8_col3\" class=\"data row8 col3\" >0.0258424</td>\n",
       "                        <td id=\"T_94af0638_abb3_11ea_8b10_88e9fe790f6erow8_col4\" class=\"data row8 col4\" >-0.211854</td>\n",
       "                        <td id=\"T_94af0638_abb3_11ea_8b10_88e9fe790f6erow8_col5\" class=\"data row8 col5\" >-0.185961</td>\n",
       "                        <td id=\"T_94af0638_abb3_11ea_8b10_88e9fe790f6erow8_col6\" class=\"data row8 col6\" >0.665199</td>\n",
       "                        <td id=\"T_94af0638_abb3_11ea_8b10_88e9fe790f6erow8_col7\" class=\"data row8 col7\" >-0.0958477</td>\n",
       "                        <td id=\"T_94af0638_abb3_11ea_8b10_88e9fe790f6erow8_col8\" class=\"data row8 col8\" >1</td>\n",
       "            </tr>\n",
       "    </tbody></table>"
      ],
      "text/plain": [
       "<pandas.io.formats.style.Styler at 0x11779f4e0>"
      ]
     },
     "execution_count": 53,
     "metadata": {},
     "output_type": "execute_result"
    }
   ],
   "source": [
    "correlations(most_killings_df)"
   ]
  },
  {
   "cell_type": "code",
   "execution_count": 54,
   "metadata": {},
   "outputs": [
    {
     "data": {
      "image/png": "[encoded data removed]",
      "text/plain": [
       "<Figure size 432x288 with 1 Axes>"
      ]
     },
     "metadata": {
      "needs_background": "light"
     },
     "output_type": "display_data"
    },
    {
     "data": {
      "image/png": "[encoded data removed]",
      "text/plain": [
       "<Figure size 432x288 with 1 Axes>"
      ]
     },
     "metadata": {
      "needs_background": "light"
     },
     "output_type": "display_data"
    },
    {
     "data": {
      "image/png": "[encoded data removed]",
      "text/plain": [
       "<Figure size 432x288 with 1 Axes>"
      ]
     },
     "metadata": {
      "needs_background": "light"
     },
     "output_type": "display_data"
    },
    {
     "data": {
      "image/png": "[encoded data removed]",
      "text/plain": [
       "<Figure size 432x288 with 1 Axes>"
      ]
     },
     "metadata": {
      "needs_background": "light"
     },
     "output_type": "display_data"
    }
   ],
   "source": [
    "eda_charts(most_killings_df)"
   ]
  },
  {
   "cell_type": "markdown",
   "metadata": {},
   "source": [
    "## Rest of Cities"
   ]
  },
  {
   "cell_type": "code",
   "execution_count": 55,
   "metadata": {},
   "outputs": [],
   "source": [
    "rest_killings_df = demo_killings_df.loc[demo_killings_df['city'].isin(demo_killings_df.city.value_counts().index[32:])]"
   ]
  },
  {
   "cell_type": "code",
   "execution_count": 56,
   "metadata": {},
   "outputs": [
    {
     "data": {
      "text/html": [
       "<style  type=\"text/css\" >\n",
       "    #T_95165de2_abb3_11ea_8b10_88e9fe790f6erow0_col0 {\n",
       "            background-color:  #023858;\n",
       "            color:  #f1f1f1;\n",
       "        }    #T_95165de2_abb3_11ea_8b10_88e9fe790f6erow0_col1 {\n",
       "            background-color:  #99b8d8;\n",
       "            color:  #000000;\n",
       "        }    #T_95165de2_abb3_11ea_8b10_88e9fe790f6erow0_col2 {\n",
       "            background-color:  #9ab8d8;\n",
       "            color:  #000000;\n",
       "        }    #T_95165de2_abb3_11ea_8b10_88e9fe790f6erow0_col3 {\n",
       "            background-color:  #63a2cb;\n",
       "            color:  #000000;\n",
       "        }    #T_95165de2_abb3_11ea_8b10_88e9fe790f6erow0_col4 {\n",
       "            background-color:  #abbfdc;\n",
       "            color:  #000000;\n",
       "        }    #T_95165de2_abb3_11ea_8b10_88e9fe790f6erow0_col5 {\n",
       "            background-color:  #eee8f3;\n",
       "            color:  #000000;\n",
       "        }    #T_95165de2_abb3_11ea_8b10_88e9fe790f6erow0_col6 {\n",
       "            background-color:  #dbdaeb;\n",
       "            color:  #000000;\n",
       "        }    #T_95165de2_abb3_11ea_8b10_88e9fe790f6erow0_col7 {\n",
       "            background-color:  #bbc7e0;\n",
       "            color:  #000000;\n",
       "        }    #T_95165de2_abb3_11ea_8b10_88e9fe790f6erow0_col8 {\n",
       "            background-color:  #91b5d6;\n",
       "            color:  #000000;\n",
       "        }    #T_95165de2_abb3_11ea_8b10_88e9fe790f6erow1_col0 {\n",
       "            background-color:  #f5eff6;\n",
       "            color:  #000000;\n",
       "        }    #T_95165de2_abb3_11ea_8b10_88e9fe790f6erow1_col1 {\n",
       "            background-color:  #023858;\n",
       "            color:  #f1f1f1;\n",
       "        }    #T_95165de2_abb3_11ea_8b10_88e9fe790f6erow1_col2 {\n",
       "            background-color:  #f8f1f8;\n",
       "            color:  #000000;\n",
       "        }    #T_95165de2_abb3_11ea_8b10_88e9fe790f6erow1_col3 {\n",
       "            background-color:  #d6d6e9;\n",
       "            color:  #000000;\n",
       "        }    #T_95165de2_abb3_11ea_8b10_88e9fe790f6erow1_col4 {\n",
       "            background-color:  #2d8abd;\n",
       "            color:  #000000;\n",
       "        }    #T_95165de2_abb3_11ea_8b10_88e9fe790f6erow1_col5 {\n",
       "            background-color:  #d1d2e6;\n",
       "            color:  #000000;\n",
       "        }    #T_95165de2_abb3_11ea_8b10_88e9fe790f6erow1_col6 {\n",
       "            background-color:  #f2ecf5;\n",
       "            color:  #000000;\n",
       "        }    #T_95165de2_abb3_11ea_8b10_88e9fe790f6erow1_col7 {\n",
       "            background-color:  #8bb2d4;\n",
       "            color:  #000000;\n",
       "        }    #T_95165de2_abb3_11ea_8b10_88e9fe790f6erow1_col8 {\n",
       "            background-color:  #fff7fb;\n",
       "            color:  #000000;\n",
       "        }    #T_95165de2_abb3_11ea_8b10_88e9fe790f6erow2_col0 {\n",
       "            background-color:  #eae6f1;\n",
       "            color:  #000000;\n",
       "        }    #T_95165de2_abb3_11ea_8b10_88e9fe790f6erow2_col1 {\n",
       "            background-color:  #ede7f2;\n",
       "            color:  #000000;\n",
       "        }    #T_95165de2_abb3_11ea_8b10_88e9fe790f6erow2_col2 {\n",
       "            background-color:  #023858;\n",
       "            color:  #f1f1f1;\n",
       "        }    #T_95165de2_abb3_11ea_8b10_88e9fe790f6erow2_col3 {\n",
       "            background-color:  #308cbe;\n",
       "            color:  #000000;\n",
       "        }    #T_95165de2_abb3_11ea_8b10_88e9fe790f6erow2_col4 {\n",
       "            background-color:  #adc1dd;\n",
       "            color:  #000000;\n",
       "        }    #T_95165de2_abb3_11ea_8b10_88e9fe790f6erow2_col5 {\n",
       "            background-color:  #f2ecf5;\n",
       "            color:  #000000;\n",
       "        }    #T_95165de2_abb3_11ea_8b10_88e9fe790f6erow2_col6 {\n",
       "            background-color:  #bcc7e1;\n",
       "            color:  #000000;\n",
       "        }    #T_95165de2_abb3_11ea_8b10_88e9fe790f6erow2_col7 {\n",
       "            background-color:  #fff7fb;\n",
       "            color:  #000000;\n",
       "        }    #T_95165de2_abb3_11ea_8b10_88e9fe790f6erow2_col8 {\n",
       "            background-color:  #1e80b8;\n",
       "            color:  #000000;\n",
       "        }    #T_95165de2_abb3_11ea_8b10_88e9fe790f6erow3_col0 {\n",
       "            background-color:  #c9cee4;\n",
       "            color:  #000000;\n",
       "        }    #T_95165de2_abb3_11ea_8b10_88e9fe790f6erow3_col1 {\n",
       "            background-color:  #d4d4e8;\n",
       "            color:  #000000;\n",
       "        }    #T_95165de2_abb3_11ea_8b10_88e9fe790f6erow3_col2 {\n",
       "            background-color:  #3f93c2;\n",
       "            color:  #000000;\n",
       "        }    #T_95165de2_abb3_11ea_8b10_88e9fe790f6erow3_col3 {\n",
       "            background-color:  #023858;\n",
       "            color:  #f1f1f1;\n",
       "        }    #T_95165de2_abb3_11ea_8b10_88e9fe790f6erow3_col4 {\n",
       "            background-color:  #fff7fb;\n",
       "            color:  #000000;\n",
       "        }    #T_95165de2_abb3_11ea_8b10_88e9fe790f6erow3_col5 {\n",
       "            background-color:  #fff7fb;\n",
       "            color:  #000000;\n",
       "        }    #T_95165de2_abb3_11ea_8b10_88e9fe790f6erow3_col6 {\n",
       "            background-color:  #fff7fb;\n",
       "            color:  #000000;\n",
       "        }    #T_95165de2_abb3_11ea_8b10_88e9fe790f6erow3_col7 {\n",
       "            background-color:  #d6d6e9;\n",
       "            color:  #000000;\n",
       "        }    #T_95165de2_abb3_11ea_8b10_88e9fe790f6erow3_col8 {\n",
       "            background-color:  #78abd0;\n",
       "            color:  #000000;\n",
       "        }    #T_95165de2_abb3_11ea_8b10_88e9fe790f6erow4_col0 {\n",
       "            background-color:  #fff7fb;\n",
       "            color:  #000000;\n",
       "        }    #T_95165de2_abb3_11ea_8b10_88e9fe790f6erow4_col1 {\n",
       "            background-color:  #2c89bd;\n",
       "            color:  #000000;\n",
       "        }    #T_95165de2_abb3_11ea_8b10_88e9fe790f6erow4_col2 {\n",
       "            background-color:  #c0c9e2;\n",
       "            color:  #000000;\n",
       "        }    #T_95165de2_abb3_11ea_8b10_88e9fe790f6erow4_col3 {\n",
       "            background-color:  #fff7fb;\n",
       "            color:  #000000;\n",
       "        }    #T_95165de2_abb3_11ea_8b10_88e9fe790f6erow4_col4 {\n",
       "            background-color:  #023858;\n",
       "            color:  #f1f1f1;\n",
       "        }    #T_95165de2_abb3_11ea_8b10_88e9fe790f6erow4_col5 {\n",
       "            background-color:  #fbf3f9;\n",
       "            color:  #000000;\n",
       "        }    #T_95165de2_abb3_11ea_8b10_88e9fe790f6erow4_col6 {\n",
       "            background-color:  #e3e0ee;\n",
       "            color:  #000000;\n",
       "        }    #T_95165de2_abb3_11ea_8b10_88e9fe790f6erow4_col7 {\n",
       "            background-color:  #ced0e6;\n",
       "            color:  #000000;\n",
       "        }    #T_95165de2_abb3_11ea_8b10_88e9fe790f6erow4_col8 {\n",
       "            background-color:  #c9cee4;\n",
       "            color:  #000000;\n",
       "        }    #T_95165de2_abb3_11ea_8b10_88e9fe790f6erow5_col0 {\n",
       "            background-color:  #f2ecf5;\n",
       "            color:  #000000;\n",
       "        }    #T_95165de2_abb3_11ea_8b10_88e9fe790f6erow5_col1 {\n",
       "            background-color:  #71a8ce;\n",
       "            color:  #000000;\n",
       "        }    #T_95165de2_abb3_11ea_8b10_88e9fe790f6erow5_col2 {\n",
       "            background-color:  #b0c2de;\n",
       "            color:  #000000;\n",
       "        }    #T_95165de2_abb3_11ea_8b10_88e9fe790f6erow5_col3 {\n",
       "            background-color:  #b3c3de;\n",
       "            color:  #000000;\n",
       "        }    #T_95165de2_abb3_11ea_8b10_88e9fe790f6erow5_col4 {\n",
       "            background-color:  #acc0dd;\n",
       "            color:  #000000;\n",
       "        }    #T_95165de2_abb3_11ea_8b10_88e9fe790f6erow5_col5 {\n",
       "            background-color:  #023858;\n",
       "            color:  #f1f1f1;\n",
       "        }    #T_95165de2_abb3_11ea_8b10_88e9fe790f6erow5_col6 {\n",
       "            background-color:  #dad9ea;\n",
       "            color:  #000000;\n",
       "        }    #T_95165de2_abb3_11ea_8b10_88e9fe790f6erow5_col7 {\n",
       "            background-color:  #acc0dd;\n",
       "            color:  #000000;\n",
       "        }    #T_95165de2_abb3_11ea_8b10_88e9fe790f6erow5_col8 {\n",
       "            background-color:  #9fbad9;\n",
       "            color:  #000000;\n",
       "        }    #T_95165de2_abb3_11ea_8b10_88e9fe790f6erow6_col0 {\n",
       "            background-color:  #f9f2f8;\n",
       "            color:  #000000;\n",
       "        }    #T_95165de2_abb3_11ea_8b10_88e9fe790f6erow6_col1 {\n",
       "            background-color:  #bdc8e1;\n",
       "            color:  #000000;\n",
       "        }    #T_95165de2_abb3_11ea_8b10_88e9fe790f6erow6_col2 {\n",
       "            background-color:  #91b5d6;\n",
       "            color:  #000000;\n",
       "        }    #T_95165de2_abb3_11ea_8b10_88e9fe790f6erow6_col3 {\n",
       "            background-color:  #d4d4e8;\n",
       "            color:  #000000;\n",
       "        }    #T_95165de2_abb3_11ea_8b10_88e9fe790f6erow6_col4 {\n",
       "            background-color:  #abbfdc;\n",
       "            color:  #000000;\n",
       "        }    #T_95165de2_abb3_11ea_8b10_88e9fe790f6erow6_col5 {\n",
       "            background-color:  #f3edf5;\n",
       "            color:  #000000;\n",
       "        }    #T_95165de2_abb3_11ea_8b10_88e9fe790f6erow6_col6 {\n",
       "            background-color:  #023858;\n",
       "            color:  #f1f1f1;\n",
       "        }    #T_95165de2_abb3_11ea_8b10_88e9fe790f6erow6_col7 {\n",
       "            background-color:  #81aed2;\n",
       "            color:  #000000;\n",
       "        }    #T_95165de2_abb3_11ea_8b10_88e9fe790f6erow6_col8 {\n",
       "            background-color:  #1c7fb8;\n",
       "            color:  #000000;\n",
       "        }    #T_95165de2_abb3_11ea_8b10_88e9fe790f6erow7_col0 {\n",
       "            background-color:  #fef6fa;\n",
       "            color:  #000000;\n",
       "        }    #T_95165de2_abb3_11ea_8b10_88e9fe790f6erow7_col1 {\n",
       "            background-color:  #78abd0;\n",
       "            color:  #000000;\n",
       "        }    #T_95165de2_abb3_11ea_8b10_88e9fe790f6erow7_col2 {\n",
       "            background-color:  #fff7fb;\n",
       "            color:  #000000;\n",
       "        }    #T_95165de2_abb3_11ea_8b10_88e9fe790f6erow7_col3 {\n",
       "            background-color:  #c5cce3;\n",
       "            color:  #000000;\n",
       "        }    #T_95165de2_abb3_11ea_8b10_88e9fe790f6erow7_col4 {\n",
       "            background-color:  #bbc7e0;\n",
       "            color:  #000000;\n",
       "        }    #T_95165de2_abb3_11ea_8b10_88e9fe790f6erow7_col5 {\n",
       "            background-color:  #f0eaf4;\n",
       "            color:  #000000;\n",
       "        }    #T_95165de2_abb3_11ea_8b10_88e9fe790f6erow7_col6 {\n",
       "            background-color:  #adc1dd;\n",
       "            color:  #000000;\n",
       "        }    #T_95165de2_abb3_11ea_8b10_88e9fe790f6erow7_col7 {\n",
       "            background-color:  #023858;\n",
       "            color:  #f1f1f1;\n",
       "        }    #T_95165de2_abb3_11ea_8b10_88e9fe790f6erow7_col8 {\n",
       "            background-color:  #89b1d4;\n",
       "            color:  #000000;\n",
       "        }    #T_95165de2_abb3_11ea_8b10_88e9fe790f6erow8_col0 {\n",
       "            background-color:  #f1ebf4;\n",
       "            color:  #000000;\n",
       "        }    #T_95165de2_abb3_11ea_8b10_88e9fe790f6erow8_col1 {\n",
       "            background-color:  #fff7fb;\n",
       "            color:  #000000;\n",
       "        }    #T_95165de2_abb3_11ea_8b10_88e9fe790f6erow8_col2 {\n",
       "            background-color:  #2987bc;\n",
       "            color:  #000000;\n",
       "        }    #T_95165de2_abb3_11ea_8b10_88e9fe790f6erow8_col3 {\n",
       "            background-color:  #79abd0;\n",
       "            color:  #000000;\n",
       "        }    #T_95165de2_abb3_11ea_8b10_88e9fe790f6erow8_col4 {\n",
       "            background-color:  #cccfe5;\n",
       "            color:  #000000;\n",
       "        }    #T_95165de2_abb3_11ea_8b10_88e9fe790f6erow8_col5 {\n",
       "            background-color:  #f4eef6;\n",
       "            color:  #000000;\n",
       "        }    #T_95165de2_abb3_11ea_8b10_88e9fe790f6erow8_col6 {\n",
       "            background-color:  #4697c4;\n",
       "            color:  #000000;\n",
       "        }    #T_95165de2_abb3_11ea_8b10_88e9fe790f6erow8_col7 {\n",
       "            background-color:  #9ebad9;\n",
       "            color:  #000000;\n",
       "        }    #T_95165de2_abb3_11ea_8b10_88e9fe790f6erow8_col8 {\n",
       "            background-color:  #023858;\n",
       "            color:  #f1f1f1;\n",
       "        }</style><table id=\"T_95165de2_abb3_11ea_8b10_88e9fe790f6e\" ><thead>    <tr>        <th class=\"blank level0\" ></th>        <th class=\"col_heading level0 col0\" >age</th>        <th class=\"col_heading level0 col1\" >poverty_rate</th>        <th class=\"col_heading level0 col2\" >percent_completed_hs</th>        <th class=\"col_heading level0 col3\" >share_white</th>        <th class=\"col_heading level0 col4\" >share_black</th>        <th class=\"col_heading level0 col5\" >share_native_american</th>        <th class=\"col_heading level0 col6\" >share_asian</th>        <th class=\"col_heading level0 col7\" >share_hispanic</th>        <th class=\"col_heading level0 col8\" >median_income</th>    </tr></thead><tbody>\n",
       "                <tr>\n",
       "                        <th id=\"T_95165de2_abb3_11ea_8b10_88e9fe790f6elevel0_row0\" class=\"row_heading level0 row0\" >age</th>\n",
       "                        <td id=\"T_95165de2_abb3_11ea_8b10_88e9fe790f6erow0_col0\" class=\"data row0 col0\" >1</td>\n",
       "                        <td id=\"T_95165de2_abb3_11ea_8b10_88e9fe790f6erow0_col1\" class=\"data row0 col1\" >-0.0442289</td>\n",
       "                        <td id=\"T_95165de2_abb3_11ea_8b10_88e9fe790f6erow0_col2\" class=\"data row0 col2\" >0.0373841</td>\n",
       "                        <td id=\"T_95165de2_abb3_11ea_8b10_88e9fe790f6erow0_col3\" class=\"data row0 col3\" >0.188177</td>\n",
       "                        <td id=\"T_95165de2_abb3_11ea_8b10_88e9fe790f6erow0_col4\" class=\"data row0 col4\" >-0.113985</td>\n",
       "                        <td id=\"T_95165de2_abb3_11ea_8b10_88e9fe790f6erow0_col5\" class=\"data row0 col5\" >-0.0210043</td>\n",
       "                        <td id=\"T_95165de2_abb3_11ea_8b10_88e9fe790f6erow0_col6\" class=\"data row0 col6\" >-0.0676927</td>\n",
       "                        <td id=\"T_95165de2_abb3_11ea_8b10_88e9fe790f6erow0_col7\" class=\"data row0 col7\" >-0.105091</td>\n",
       "                        <td id=\"T_95165de2_abb3_11ea_8b10_88e9fe790f6erow0_col8\" class=\"data row0 col8\" >-0.0056311</td>\n",
       "            </tr>\n",
       "            <tr>\n",
       "                        <th id=\"T_95165de2_abb3_11ea_8b10_88e9fe790f6elevel0_row1\" class=\"row_heading level0 row1\" >poverty_rate</th>\n",
       "                        <td id=\"T_95165de2_abb3_11ea_8b10_88e9fe790f6erow1_col0\" class=\"data row1 col0\" >-0.0442289</td>\n",
       "                        <td id=\"T_95165de2_abb3_11ea_8b10_88e9fe790f6erow1_col1\" class=\"data row1 col1\" >1</td>\n",
       "                        <td id=\"T_95165de2_abb3_11ea_8b10_88e9fe790f6erow1_col2\" class=\"data row1 col2\" >-0.541382</td>\n",
       "                        <td id=\"T_95165de2_abb3_11ea_8b10_88e9fe790f6erow1_col3\" class=\"data row1 col3\" >-0.352101</td>\n",
       "                        <td id=\"T_95165de2_abb3_11ea_8b10_88e9fe790f6erow1_col4\" class=\"data row1 col4\" >0.381497</td>\n",
       "                        <td id=\"T_95165de2_abb3_11ea_8b10_88e9fe790f6erow1_col5\" class=\"data row1 col5\" >0.133254</td>\n",
       "                        <td id=\"T_95165de2_abb3_11ea_8b10_88e9fe790f6erow1_col6\" class=\"data row1 col6\" >-0.22285</td>\n",
       "                        <td id=\"T_95165de2_abb3_11ea_8b10_88e9fe790f6erow1_col7\" class=\"data row1 col7\" >0.103606</td>\n",
       "                        <td id=\"T_95165de2_abb3_11ea_8b10_88e9fe790f6erow1_col8\" class=\"data row1 col8\" >-0.759325</td>\n",
       "            </tr>\n",
       "            <tr>\n",
       "                        <th id=\"T_95165de2_abb3_11ea_8b10_88e9fe790f6elevel0_row2\" class=\"row_heading level0 row2\" >percent_completed_hs</th>\n",
       "                        <td id=\"T_95165de2_abb3_11ea_8b10_88e9fe790f6erow2_col0\" class=\"data row2 col0\" >0.0373841</td>\n",
       "                        <td id=\"T_95165de2_abb3_11ea_8b10_88e9fe790f6erow2_col1\" class=\"data row2 col1\" >-0.541382</td>\n",
       "                        <td id=\"T_95165de2_abb3_11ea_8b10_88e9fe790f6erow2_col2\" class=\"data row2 col2\" >1</td>\n",
       "                        <td id=\"T_95165de2_abb3_11ea_8b10_88e9fe790f6erow2_col3\" class=\"data row2 col3\" >0.367673</td>\n",
       "                        <td id=\"T_95165de2_abb3_11ea_8b10_88e9fe790f6erow2_col4\" class=\"data row2 col4\" >-0.130735</td>\n",
       "                        <td id=\"T_95165de2_abb3_11ea_8b10_88e9fe790f6erow2_col5\" class=\"data row2 col5\" >-0.0518855</td>\n",
       "                        <td id=\"T_95165de2_abb3_11ea_8b10_88e9fe790f6erow2_col6\" class=\"data row2 col6\" >0.0768151</td>\n",
       "                        <td id=\"T_95165de2_abb3_11ea_8b10_88e9fe790f6erow2_col7\" class=\"data row2 col7\" >-0.611952</td>\n",
       "                        <td id=\"T_95165de2_abb3_11ea_8b10_88e9fe790f6erow2_col8\" class=\"data row2 col8\" >0.447242</td>\n",
       "            </tr>\n",
       "            <tr>\n",
       "                        <th id=\"T_95165de2_abb3_11ea_8b10_88e9fe790f6elevel0_row3\" class=\"row_heading level0 row3\" >share_white</th>\n",
       "                        <td id=\"T_95165de2_abb3_11ea_8b10_88e9fe790f6erow3_col0\" class=\"data row3 col0\" >0.188177</td>\n",
       "                        <td id=\"T_95165de2_abb3_11ea_8b10_88e9fe790f6erow3_col1\" class=\"data row3 col1\" >-0.352101</td>\n",
       "                        <td id=\"T_95165de2_abb3_11ea_8b10_88e9fe790f6erow3_col2\" class=\"data row3 col2\" >0.367673</td>\n",
       "                        <td id=\"T_95165de2_abb3_11ea_8b10_88e9fe790f6erow3_col3\" class=\"data row3 col3\" >1</td>\n",
       "                        <td id=\"T_95165de2_abb3_11ea_8b10_88e9fe790f6erow3_col4\" class=\"data row3 col4\" >-0.744454</td>\n",
       "                        <td id=\"T_95165de2_abb3_11ea_8b10_88e9fe790f6erow3_col5\" class=\"data row3 col5\" >-0.152949</td>\n",
       "                        <td id=\"T_95165de2_abb3_11ea_8b10_88e9fe790f6erow3_col6\" class=\"data row3 col6\" >-0.336701</td>\n",
       "                        <td id=\"T_95165de2_abb3_11ea_8b10_88e9fe790f6erow3_col7\" class=\"data row3 col7\" >-0.248351</td>\n",
       "                        <td id=\"T_95165de2_abb3_11ea_8b10_88e9fe790f6erow3_col8\" class=\"data row3 col8\" >0.101743</td>\n",
       "            </tr>\n",
       "            <tr>\n",
       "                        <th id=\"T_95165de2_abb3_11ea_8b10_88e9fe790f6elevel0_row4\" class=\"row_heading level0 row4\" >share_black</th>\n",
       "                        <td id=\"T_95165de2_abb3_11ea_8b10_88e9fe790f6erow4_col0\" class=\"data row4 col0\" >-0.113985</td>\n",
       "                        <td id=\"T_95165de2_abb3_11ea_8b10_88e9fe790f6erow4_col1\" class=\"data row4 col1\" >0.381497</td>\n",
       "                        <td id=\"T_95165de2_abb3_11ea_8b10_88e9fe790f6erow4_col2\" class=\"data row4 col2\" >-0.130735</td>\n",
       "                        <td id=\"T_95165de2_abb3_11ea_8b10_88e9fe790f6erow4_col3\" class=\"data row4 col3\" >-0.744454</td>\n",
       "                        <td id=\"T_95165de2_abb3_11ea_8b10_88e9fe790f6erow4_col4\" class=\"data row4 col4\" >1</td>\n",
       "                        <td id=\"T_95165de2_abb3_11ea_8b10_88e9fe790f6erow4_col5\" class=\"data row4 col5\" >-0.118403</td>\n",
       "                        <td id=\"T_95165de2_abb3_11ea_8b10_88e9fe790f6erow4_col6\" class=\"data row4 col6\" >-0.113116</td>\n",
       "                        <td id=\"T_95165de2_abb3_11ea_8b10_88e9fe790f6erow4_col7\" class=\"data row4 col7\" >-0.197756</td>\n",
       "                        <td id=\"T_95165de2_abb3_11ea_8b10_88e9fe790f6erow4_col8\" class=\"data row4 col8\" >-0.281646</td>\n",
       "            </tr>\n",
       "            <tr>\n",
       "                        <th id=\"T_95165de2_abb3_11ea_8b10_88e9fe790f6elevel0_row5\" class=\"row_heading level0 row5\" >share_native_american</th>\n",
       "                        <td id=\"T_95165de2_abb3_11ea_8b10_88e9fe790f6erow5_col0\" class=\"data row5 col0\" >-0.0210043</td>\n",
       "                        <td id=\"T_95165de2_abb3_11ea_8b10_88e9fe790f6erow5_col1\" class=\"data row5 col1\" >0.133254</td>\n",
       "                        <td id=\"T_95165de2_abb3_11ea_8b10_88e9fe790f6erow5_col2\" class=\"data row5 col2\" >-0.0518855</td>\n",
       "                        <td id=\"T_95165de2_abb3_11ea_8b10_88e9fe790f6erow5_col3\" class=\"data row5 col3\" >-0.152949</td>\n",
       "                        <td id=\"T_95165de2_abb3_11ea_8b10_88e9fe790f6erow5_col4\" class=\"data row5 col4\" >-0.118403</td>\n",
       "                        <td id=\"T_95165de2_abb3_11ea_8b10_88e9fe790f6erow5_col5\" class=\"data row5 col5\" >1</td>\n",
       "                        <td id=\"T_95165de2_abb3_11ea_8b10_88e9fe790f6erow5_col6\" class=\"data row5 col6\" >-0.0606563</td>\n",
       "                        <td id=\"T_95165de2_abb3_11ea_8b10_88e9fe790f6erow5_col7\" class=\"data row5 col7\" >-0.0327561</td>\n",
       "                        <td id=\"T_95165de2_abb3_11ea_8b10_88e9fe790f6erow5_col8\" class=\"data row5 col8\" >-0.0706919</td>\n",
       "            </tr>\n",
       "            <tr>\n",
       "                        <th id=\"T_95165de2_abb3_11ea_8b10_88e9fe790f6elevel0_row6\" class=\"row_heading level0 row6\" >share_asian</th>\n",
       "                        <td id=\"T_95165de2_abb3_11ea_8b10_88e9fe790f6erow6_col0\" class=\"data row6 col0\" >-0.0676927</td>\n",
       "                        <td id=\"T_95165de2_abb3_11ea_8b10_88e9fe790f6erow6_col1\" class=\"data row6 col1\" >-0.22285</td>\n",
       "                        <td id=\"T_95165de2_abb3_11ea_8b10_88e9fe790f6erow6_col2\" class=\"data row6 col2\" >0.0768151</td>\n",
       "                        <td id=\"T_95165de2_abb3_11ea_8b10_88e9fe790f6erow6_col3\" class=\"data row6 col3\" >-0.336701</td>\n",
       "                        <td id=\"T_95165de2_abb3_11ea_8b10_88e9fe790f6erow6_col4\" class=\"data row6 col4\" >-0.113116</td>\n",
       "                        <td id=\"T_95165de2_abb3_11ea_8b10_88e9fe790f6erow6_col5\" class=\"data row6 col5\" >-0.0606563</td>\n",
       "                        <td id=\"T_95165de2_abb3_11ea_8b10_88e9fe790f6erow6_col6\" class=\"data row6 col6\" >1</td>\n",
       "                        <td id=\"T_95165de2_abb3_11ea_8b10_88e9fe790f6erow6_col7\" class=\"data row6 col7\" >0.138401</td>\n",
       "                        <td id=\"T_95165de2_abb3_11ea_8b10_88e9fe790f6erow6_col8\" class=\"data row6 col8\" >0.453049</td>\n",
       "            </tr>\n",
       "            <tr>\n",
       "                        <th id=\"T_95165de2_abb3_11ea_8b10_88e9fe790f6elevel0_row7\" class=\"row_heading level0 row7\" >share_hispanic</th>\n",
       "                        <td id=\"T_95165de2_abb3_11ea_8b10_88e9fe790f6erow7_col0\" class=\"data row7 col0\" >-0.105091</td>\n",
       "                        <td id=\"T_95165de2_abb3_11ea_8b10_88e9fe790f6erow7_col1\" class=\"data row7 col1\" >0.103606</td>\n",
       "                        <td id=\"T_95165de2_abb3_11ea_8b10_88e9fe790f6erow7_col2\" class=\"data row7 col2\" >-0.611952</td>\n",
       "                        <td id=\"T_95165de2_abb3_11ea_8b10_88e9fe790f6erow7_col3\" class=\"data row7 col3\" >-0.248351</td>\n",
       "                        <td id=\"T_95165de2_abb3_11ea_8b10_88e9fe790f6erow7_col4\" class=\"data row7 col4\" >-0.197756</td>\n",
       "                        <td id=\"T_95165de2_abb3_11ea_8b10_88e9fe790f6erow7_col5\" class=\"data row7 col5\" >-0.0327561</td>\n",
       "                        <td id=\"T_95165de2_abb3_11ea_8b10_88e9fe790f6erow7_col6\" class=\"data row7 col6\" >0.138401</td>\n",
       "                        <td id=\"T_95165de2_abb3_11ea_8b10_88e9fe790f6erow7_col7\" class=\"data row7 col7\" >1</td>\n",
       "                        <td id=\"T_95165de2_abb3_11ea_8b10_88e9fe790f6erow7_col8\" class=\"data row7 col8\" >0.0283009</td>\n",
       "            </tr>\n",
       "            <tr>\n",
       "                        <th id=\"T_95165de2_abb3_11ea_8b10_88e9fe790f6elevel0_row8\" class=\"row_heading level0 row8\" >median_income</th>\n",
       "                        <td id=\"T_95165de2_abb3_11ea_8b10_88e9fe790f6erow8_col0\" class=\"data row8 col0\" >-0.0056311</td>\n",
       "                        <td id=\"T_95165de2_abb3_11ea_8b10_88e9fe790f6erow8_col1\" class=\"data row8 col1\" >-0.759325</td>\n",
       "                        <td id=\"T_95165de2_abb3_11ea_8b10_88e9fe790f6erow8_col2\" class=\"data row8 col2\" >0.447242</td>\n",
       "                        <td id=\"T_95165de2_abb3_11ea_8b10_88e9fe790f6erow8_col3\" class=\"data row8 col3\" >0.101743</td>\n",
       "                        <td id=\"T_95165de2_abb3_11ea_8b10_88e9fe790f6erow8_col4\" class=\"data row8 col4\" >-0.281646</td>\n",
       "                        <td id=\"T_95165de2_abb3_11ea_8b10_88e9fe790f6erow8_col5\" class=\"data row8 col5\" >-0.0706919</td>\n",
       "                        <td id=\"T_95165de2_abb3_11ea_8b10_88e9fe790f6erow8_col6\" class=\"data row8 col6\" >0.453049</td>\n",
       "                        <td id=\"T_95165de2_abb3_11ea_8b10_88e9fe790f6erow8_col7\" class=\"data row8 col7\" >0.0283009</td>\n",
       "                        <td id=\"T_95165de2_abb3_11ea_8b10_88e9fe790f6erow8_col8\" class=\"data row8 col8\" >1</td>\n",
       "            </tr>\n",
       "    </tbody></table>"
      ],
      "text/plain": [
       "<pandas.io.formats.style.Styler at 0x116876c50>"
      ]
     },
     "execution_count": 56,
     "metadata": {},
     "output_type": "execute_result"
    }
   ],
   "source": [
    "correlations(rest_killings_df)"
   ]
  },
  {
   "cell_type": "code",
   "execution_count": 57,
   "metadata": {},
   "outputs": [
    {
     "data": {
      "image/png": "[encoded data removed]",
      "text/plain": [
       "<Figure size 432x288 with 1 Axes>"
      ]
     },
     "metadata": {
      "needs_background": "light"
     },
     "output_type": "display_data"
    },
    {
     "data": {
      "image/png": "[encoded data removed]",
      "text/plain": [
       "<Figure size 432x288 with 1 Axes>"
      ]
     },
     "metadata": {
      "needs_background": "light"
     },
     "output_type": "display_data"
    },
    {
     "data": {
      "image/png": "[encoded data removed]",
      "text/plain": [
       "<Figure size 432x288 with 1 Axes>"
      ]
     },
     "metadata": {
      "needs_background": "light"
     },
     "output_type": "display_data"
    },
    {
     "data": {
      "image/png": "[encoded data removed]",
      "text/plain": [
       "<Figure size 432x288 with 1 Axes>"
      ]
     },
     "metadata": {
      "needs_background": "light"
     },
     "output_type": "display_data"
    }
   ],
   "source": [
    "eda_charts(rest_killings_df)"
   ]
  },
  {
   "cell_type": "code",
   "execution_count": null,
   "metadata": {},
   "outputs": [],
   "source": []
  }
 ],
 "metadata": {
  "kernelspec": {
   "display_name": "Python 3",
   "language": "python",
   "name": "python3"
  },
  "language_info": {
   "codemirror_mode": {
    "name": "ipython",
    "version": 3
   },
   "file_extension": ".py",
   "mimetype": "text/x-python",
   "name": "python",
   "nbconvert_exporter": "python",
   "pygments_lexer": "ipython3",
   "version": "3.7.3"
  }
 },
 "nbformat": 4,
 "nbformat_minor": 4
}
